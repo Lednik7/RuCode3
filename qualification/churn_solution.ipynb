{
  "nbformat": 4,
  "nbformat_minor": 0,
  "metadata": {
    "kernelspec": {
      "display_name": "Python 3",
      "language": "python",
      "name": "python3"
    },
    "language_info": {
      "codemirror_mode": {
        "name": "ipython",
        "version": 3
      },
      "file_extension": ".py",
      "mimetype": "text/x-python",
      "name": "python",
      "nbconvert_exporter": "python",
      "pygments_lexer": "ipython3",
      "version": "3.6.10"
    },
    "colab": {
      "name": "churn-solution.ipynb",
      "provenance": [],
      "collapsed_sections": [
        "nFZjbf74xCTg",
        "9t7Pks8Cw2iZ",
        "zRwkzeaVw2if",
        "PrG7KCvXw2ih",
        "UJGMDPD0w2ij",
        "i40GUM46w2im",
        "cxtP3vhCw2in",
        "3QzROLZEw2it"
      ]
    }
  },
  "cells": [
    {
      "cell_type": "markdown",
      "metadata": {
        "id": "C584LgDsw2iD"
      },
      "source": [
        "# Решение задачи \"Предсказание ухода клиента\" RuCode-3"
      ]
    },
    {
      "cell_type": "markdown",
      "metadata": {
        "id": "m0PpwuJpw7oe"
      },
      "source": [
        "В этом ноутбуке мы будем решать задачу предсказания ухода клиента классическими моделями машинного обучения."
      ]
    },
    {
      "cell_type": "markdown",
      "metadata": {
        "id": "nFZjbf74xCTg"
      },
      "source": [
        "### Скачиваем данные на Google Colab и распаковываем:"
      ]
    },
    {
      "cell_type": "code",
      "metadata": {
        "id": "FQ8_J_4RxZ5c"
      },
      "source": [
        "! wget \"https://s560sas.storage.yandex.net/rdisk/8626f1e2bac415ff2176185dcca3a5974a6f2b50a083885f996a593a16ead80a/606b4620/aZ8Akc9CqtcaAMvg9MkExYyYYMX8hXYeNPK99Ia5tsOFom1LgRnfPgaTeJkHU_jYvoH98i8j8rBNncAwJLGFcQ==?uid=316082386&filename=train_data.csv&disposition=attachment&hash=&limit=0&content_type=text%2Fplain&owner_uid=316082386&fsize=4549012&hid=3a1ecfed59ea4943d3dcdb64bac15064&media_type=spreadsheet&tknv=v2&etag=4c73979b32123b34d92014446f87139c&rtoken=CUcHWcXINWD4&force_default=yes&ycrid=na-93d7925b588ed462faf5085776657bf8-downloader5h&ts=5bf3cdec5c800&s=dbf6dfeccb0cb159a1365243ac5c20f44b4da35bbf834ad84732fe3663905541&pb=U2FsdGVkX19SF3rpV6pn0ottlfbG8IrNijUtqK2uPG1GtzDBm16JmuGRZkSYUs3hI0H8EkoiYuw1nSwUuItpNfS4ifPipUMO-Fq8yymciFE\" -O train_data.csv \n",
        "! wget \"https://s561sas.storage.yandex.net/rdisk/d2d03ac4e610f87ac585efaca6833f10983610a28348cffff0e16239f7594c02/606b462e/aZ8Akc9CqtcaAMvg9MkExX6M2xJVY50w7Ubq5fEl9PsO-pGvYZMIxC2wDhNR2QoLYGftTAmgDsZCcz9lkMT0dg==?uid=316082386&filename=test_data.csv&disposition=attachment&hash=&limit=0&content_type=text%2Fplain&owner_uid=316082386&fsize=1116189&hid=4bd483eb312ca222d92db537e2bde68f&media_type=spreadsheet&tknv=v2&etag=7975770abc5c3426a67d6ad6175ad4b6&rtoken=QpB3FfQ8vnGI&force_default=yes&ycrid=na-6e7e5a4a37b4bd6b27c02d6a7263bdf5-downloader5h&ts=5bf3cdf9b6780&s=d16f27b4df4f8536318704a1e7b8eddf5f8b23f4836e7b03fab2dcceb2e79c13&pb=U2FsdGVkX1_6ALLHkLRz9w7MN5ydO9-PijBnjMQ25xWFU0XAVIN8CkjY_SeDmFJkHywngivgBkdSrm7TbOVyOdXjtDAmaeRWe8YJQmsLQ2I\" -O test_data.csv\n",
        "! wget \"https://s224vla.storage.yandex.net/rdisk/00f0971f1c8404bd1c7ced6fa1ab8be1421cc1ac9b7e75992aa60bccf0ed5c08/606b4640/aZ8Akc9CqtcaAMvg9MkExc0MoixDyFumKX_DJgNXQEqspzw5mIvVBK_Pfd1slZGwnr7pJn5bQCpOQpnKLr6dtw==?uid=316082386&filename=test_answer.csv&disposition=attachment&hash=&limit=0&content_type=text%2Fplain&owner_uid=316082386&fsize=15018&hid=c3dea865981bdb18ae9471e5833a34bc&media_type=spreadsheet&tknv=v2&etag=948dd6b273c97744d8611256ecb0fe16&rtoken=cchVWKAjwG1e&force_default=yes&ycrid=na-f680cd14076cc535599704f36757c002-downloader5h&ts=5bf3ce0ae1000&s=a2dd19f9fcbaffe6faf5c78082df97b9be217e58693b52b29d222b9478be0c29&pb=U2FsdGVkX19podS0vkHE3l4xyPxwGat-dyXsSs864tAWo3PFHU1ULAkEpyEmi-C9QoiYs1vw3xsli-suI33gV0lMv7r8vKgxczhjL9Dwu6w\" -O test_answer.csv"
      ],
      "execution_count": null,
      "outputs": []
    },
    {
      "cell_type": "code",
      "metadata": {
        "colab": {
          "base_uri": "https://localhost:8080/"
        },
        "id": "4JNg-YIsxuw6",
        "outputId": "63bde6cc-8090-443b-b35c-10c6e3c10a6a"
      },
      "source": [
        "! ls"
      ],
      "execution_count": null,
      "outputs": [
        {
          "output_type": "stream",
          "text": [
            "sample_data  test_answer.csv  test_data.csv  train_data.csv\n"
          ],
          "name": "stdout"
        }
      ]
    },
    {
      "cell_type": "markdown",
      "metadata": {
        "id": "Xci8vJBJx-wb"
      },
      "source": [
        "## Строим решение:"
      ]
    },
    {
      "cell_type": "code",
      "metadata": {
        "id": "AXuFteIGw2iN"
      },
      "source": [
        "import numpy as np\n",
        "import pandas as pd\n",
        "from datetime import datetime\n",
        "import matplotlib.pyplot as plt\n",
        "%matplotlib inline"
      ],
      "execution_count": null,
      "outputs": []
    },
    {
      "cell_type": "markdown",
      "metadata": {
        "id": "cveaCYTdw2iO"
      },
      "source": [
        "Загрузим данные и посмотрим на них:"
      ]
    },
    {
      "cell_type": "code",
      "metadata": {
        "colab": {
          "base_uri": "https://localhost:8080/",
          "height": 385
        },
        "id": "ht2Qyt6Nw2iO",
        "outputId": "e3b6c618-cd90-47f3-8dde-5c2f9f92e5d3"
      },
      "source": [
        "train_data = pd.read_csv('./train_data.csv').drop('Unnamed: 0', axis=1)\n",
        "train_data.head()"
      ],
      "execution_count": null,
      "outputs": [
        {
          "output_type": "execute_result",
          "data": {
            "text/html": [
              "<div>\n",
              "<style scoped>\n",
              "    .dataframe tbody tr th:only-of-type {\n",
              "        vertical-align: middle;\n",
              "    }\n",
              "\n",
              "    .dataframe tbody tr th {\n",
              "        vertical-align: top;\n",
              "    }\n",
              "\n",
              "    .dataframe thead th {\n",
              "        text-align: right;\n",
              "    }\n",
              "</style>\n",
              "<table border=\"1\" class=\"dataframe\">\n",
              "  <thead>\n",
              "    <tr style=\"text-align: right;\">\n",
              "      <th></th>\n",
              "      <th>имя</th>\n",
              "      <th>возраст</th>\n",
              "      <th>пол</th>\n",
              "      <th>тип_региона_проживания</th>\n",
              "      <th>тип_обслуживания</th>\n",
              "      <th>дата_регистрации</th>\n",
              "      <th>реферальная_ссылка</th>\n",
              "      <th>устройство</th>\n",
              "      <th>последний_визит</th>\n",
              "      <th>дней_с_момента_последнего_логина</th>\n",
              "      <th>среднее_время</th>\n",
              "      <th>средний_чек</th>\n",
              "      <th>частота_посещений</th>\n",
              "      <th>баллы</th>\n",
              "      <th>скидки</th>\n",
              "      <th>жалобы</th>\n",
              "      <th>статус_жалобы</th>\n",
              "      <th>фидбек</th>\n",
              "      <th>риск_ухода</th>\n",
              "    </tr>\n",
              "  </thead>\n",
              "  <tbody>\n",
              "    <tr>\n",
              "      <th>0</th>\n",
              "      <td>Lucio Gabriel</td>\n",
              "      <td>49</td>\n",
              "      <td>F</td>\n",
              "      <td>Town</td>\n",
              "      <td>Basic Membership</td>\n",
              "      <td>2015-08-07</td>\n",
              "      <td>Yes</td>\n",
              "      <td>Smartphone</td>\n",
              "      <td>02:17:14</td>\n",
              "      <td>23</td>\n",
              "      <td>47.450000</td>\n",
              "      <td>41083.45</td>\n",
              "      <td>29.0</td>\n",
              "      <td>657.67</td>\n",
              "      <td>No</td>\n",
              "      <td>Yes</td>\n",
              "      <td>Solved</td>\n",
              "      <td>Poor Product Quality</td>\n",
              "      <td>5</td>\n",
              "    </tr>\n",
              "    <tr>\n",
              "      <th>1</th>\n",
              "      <td>Shaina Taube</td>\n",
              "      <td>57</td>\n",
              "      <td>M</td>\n",
              "      <td>NaN</td>\n",
              "      <td>Gold Membership</td>\n",
              "      <td>2015-05-14</td>\n",
              "      <td>Yes</td>\n",
              "      <td>Desktop</td>\n",
              "      <td>21:25:14</td>\n",
              "      <td>19</td>\n",
              "      <td>826.085388</td>\n",
              "      <td>34196.17</td>\n",
              "      <td>21.0</td>\n",
              "      <td>701.51</td>\n",
              "      <td>Yes</td>\n",
              "      <td>No</td>\n",
              "      <td>Not Applicable</td>\n",
              "      <td>Poor Customer Service</td>\n",
              "      <td>4</td>\n",
              "    </tr>\n",
              "    <tr>\n",
              "      <th>2</th>\n",
              "      <td>Maryln Roger</td>\n",
              "      <td>37</td>\n",
              "      <td>M</td>\n",
              "      <td>Town</td>\n",
              "      <td>Silver Membership</td>\n",
              "      <td>2017-03-14</td>\n",
              "      <td>No</td>\n",
              "      <td>Desktop</td>\n",
              "      <td>10:23:23</td>\n",
              "      <td>6</td>\n",
              "      <td>145.450000</td>\n",
              "      <td>26744.56</td>\n",
              "      <td>Error</td>\n",
              "      <td>715.44</td>\n",
              "      <td>Yes</td>\n",
              "      <td>Yes</td>\n",
              "      <td>No Information Available</td>\n",
              "      <td>Poor Customer Service</td>\n",
              "      <td>4</td>\n",
              "    </tr>\n",
              "    <tr>\n",
              "      <th>3</th>\n",
              "      <td>Alaina Densmore</td>\n",
              "      <td>23</td>\n",
              "      <td>F</td>\n",
              "      <td>City</td>\n",
              "      <td>Silver Membership</td>\n",
              "      <td>2015-09-25</td>\n",
              "      <td>Yes</td>\n",
              "      <td>?</td>\n",
              "      <td>00:03:10</td>\n",
              "      <td>20</td>\n",
              "      <td>170.090000</td>\n",
              "      <td>18016.81</td>\n",
              "      <td>18.0</td>\n",
              "      <td>743.10</td>\n",
              "      <td>Yes</td>\n",
              "      <td>Yes</td>\n",
              "      <td>No Information Available</td>\n",
              "      <td>Too many ads</td>\n",
              "      <td>3</td>\n",
              "    </tr>\n",
              "    <tr>\n",
              "      <th>4</th>\n",
              "      <td>Bernadine Krasner</td>\n",
              "      <td>30</td>\n",
              "      <td>M</td>\n",
              "      <td>NaN</td>\n",
              "      <td>Premium Membership</td>\n",
              "      <td>2016-12-13</td>\n",
              "      <td>Yes</td>\n",
              "      <td>Both</td>\n",
              "      <td>08:54:23</td>\n",
              "      <td>14</td>\n",
              "      <td>715.040000</td>\n",
              "      <td>17044.98</td>\n",
              "      <td>17.0</td>\n",
              "      <td>717.35</td>\n",
              "      <td>Yes</td>\n",
              "      <td>No</td>\n",
              "      <td>Not Applicable</td>\n",
              "      <td>Too many ads</td>\n",
              "      <td>3</td>\n",
              "    </tr>\n",
              "  </tbody>\n",
              "</table>\n",
              "</div>"
            ],
            "text/plain": [
              "                 имя  возраст  ...                 фидбек риск_ухода\n",
              "0      Lucio Gabriel       49  ...   Poor Product Quality          5\n",
              "1       Shaina Taube       57  ...  Poor Customer Service          4\n",
              "2       Maryln Roger       37  ...  Poor Customer Service          4\n",
              "3    Alaina Densmore       23  ...           Too many ads          3\n",
              "4  Bernadine Krasner       30  ...           Too many ads          3\n",
              "\n",
              "[5 rows x 19 columns]"
            ]
          },
          "metadata": {
            "tags": []
          },
          "execution_count": 71
        }
      ]
    },
    {
      "cell_type": "markdown",
      "metadata": {
        "id": "VcQiUca8w2iO"
      },
      "source": [
        "## Предобработка данных"
      ]
    },
    {
      "cell_type": "markdown",
      "metadata": {
        "id": "7h4gZuofw2iP"
      },
      "source": [
        "Удалим ненужные колонки:"
      ]
    },
    {
      "cell_type": "code",
      "metadata": {
        "id": "NUAP0qW6w2iP"
      },
      "source": [
        "train_data = train_data.drop(['имя', 'последний_визит'], axis=1)"
      ],
      "execution_count": null,
      "outputs": []
    },
    {
      "cell_type": "markdown",
      "metadata": {
        "id": "ldEUpipIw2iP"
      },
      "source": [
        "Признак \"дата регистрации\" переведем в кол-во дней от начала регистрации до 10 апреля 2021 года:"
      ]
    },
    {
      "cell_type": "code",
      "metadata": {
        "id": "d-VJt9c_w2iP"
      },
      "source": [
        "datetime_object_now = datetime.strptime('2021 04 10', '%Y %m %d')\n",
        "train_data['дата_регистрации'] = \\\n",
        "list(map(lambda x: (datetime_object_now - datetime.strptime(x.replace('-', ' '), '%Y %m %d')).days, train_data['дата_регистрации']))"
      ],
      "execution_count": null,
      "outputs": []
    },
    {
      "cell_type": "markdown",
      "metadata": {
        "id": "eY9Rdp0-w2iQ"
      },
      "source": [
        "Посмотрим на колонки:"
      ]
    },
    {
      "cell_type": "code",
      "metadata": {
        "id": "rrvfzn3Xw2iQ",
        "colab": {
          "base_uri": "https://localhost:8080/"
        },
        "outputId": "fefb9ad1-1d41-4360-c508-8186cbc6ce80"
      },
      "source": [
        "train_data.info()"
      ],
      "execution_count": null,
      "outputs": [
        {
          "output_type": "stream",
          "text": [
            "<class 'pandas.core.frame.DataFrame'>\n",
            "RangeIndex: 29593 entries, 0 to 29592\n",
            "Data columns (total 17 columns):\n",
            " #   Column                            Non-Null Count  Dtype  \n",
            "---  ------                            --------------  -----  \n",
            " 0   возраст                           29593 non-null  int64  \n",
            " 1   пол                               29593 non-null  object \n",
            " 2   тип_региона_проживания            25235 non-null  object \n",
            " 3   тип_обслуживания                  29593 non-null  object \n",
            " 4   дата_регистрации                  29593 non-null  int64  \n",
            " 5   реферальная_ссылка                29593 non-null  object \n",
            " 6   устройство                        29593 non-null  object \n",
            " 7   дней_с_момента_последнего_логина  29593 non-null  int64  \n",
            " 8   среднее_время                     29593 non-null  float64\n",
            " 9   средний_чек                       29593 non-null  float64\n",
            " 10  частота_посещений                 29593 non-null  object \n",
            " 11  баллы                             26804 non-null  float64\n",
            " 12  скидки                            29593 non-null  object \n",
            " 13  жалобы                            29593 non-null  object \n",
            " 14  статус_жалобы                     29593 non-null  object \n",
            " 15  фидбек                            29593 non-null  object \n",
            " 16  риск_ухода                        29593 non-null  int64  \n",
            "dtypes: float64(3), int64(4), object(10)\n",
            "memory usage: 3.8+ MB\n"
          ],
          "name": "stdout"
        }
      ]
    },
    {
      "cell_type": "markdown",
      "metadata": {
        "id": "P9Xradyxw2iQ"
      },
      "source": [
        "#### Выделим все категориальные колонки и посмотрим на значения в них:"
      ]
    },
    {
      "cell_type": "code",
      "metadata": {
        "id": "9XUdO2vew2iR"
      },
      "source": [
        "categorical_columns = [x for x in train_data.columns if train_data[x].dtype == 'object']"
      ],
      "execution_count": null,
      "outputs": []
    },
    {
      "cell_type": "code",
      "metadata": {
        "id": "3qiwAwQOw2iR",
        "colab": {
          "base_uri": "https://localhost:8080/"
        },
        "outputId": "8f17aeb3-d8c1-4f92-8f2c-17e276ad1a9d"
      },
      "source": [
        "categorical_columns"
      ],
      "execution_count": null,
      "outputs": [
        {
          "output_type": "execute_result",
          "data": {
            "text/plain": [
              "['пол',\n",
              " 'тип_региона_проживания',\n",
              " 'тип_обслуживания',\n",
              " 'реферальная_ссылка',\n",
              " 'устройство',\n",
              " 'частота_посещений',\n",
              " 'скидки',\n",
              " 'жалобы',\n",
              " 'статус_жалобы',\n",
              " 'фидбек']"
            ]
          },
          "metadata": {
            "tags": []
          },
          "execution_count": 76
        }
      ]
    },
    {
      "cell_type": "code",
      "metadata": {
        "id": "MUHZtDgrw2iS",
        "colab": {
          "base_uri": "https://localhost:8080/"
        },
        "outputId": "7933d68e-dc5f-4123-ef0a-95d14ecf9116"
      },
      "source": [
        "train_data['пол'].value_counts()"
      ],
      "execution_count": null,
      "outputs": [
        {
          "output_type": "execute_result",
          "data": {
            "text/plain": [
              "M          14774\n",
              "F          14770\n",
              "Unknown       49\n",
              "Name: пол, dtype: int64"
            ]
          },
          "metadata": {
            "tags": []
          },
          "execution_count": 77
        }
      ]
    },
    {
      "cell_type": "code",
      "metadata": {
        "id": "5hF0lCqkw2iT",
        "colab": {
          "base_uri": "https://localhost:8080/"
        },
        "outputId": "7364c548-1f40-42fe-a14a-9694bd9cce77"
      },
      "source": [
        "train_data['тип_региона_проживания'].value_counts()"
      ],
      "execution_count": null,
      "outputs": [
        {
          "output_type": "execute_result",
          "data": {
            "text/plain": [
              "Town       11282\n",
              "City       10236\n",
              "Village     3717\n",
              "Name: тип_региона_проживания, dtype: int64"
            ]
          },
          "metadata": {
            "tags": []
          },
          "execution_count": 78
        }
      ]
    },
    {
      "cell_type": "code",
      "metadata": {
        "id": "q_mVCmX4w2iU",
        "colab": {
          "base_uri": "https://localhost:8080/"
        },
        "outputId": "0851e9e9-a38c-4668-f870-2df0a2684218"
      },
      "source": [
        "train_data['тип_обслуживания'].value_counts()"
      ],
      "execution_count": null,
      "outputs": [
        {
          "output_type": "execute_result",
          "data": {
            "text/plain": [
              "Basic Membership       6188\n",
              "No Membership          6144\n",
              "Gold Membership        5488\n",
              "Silver Membership      4797\n",
              "Premium Membership     3519\n",
              "Platinum Membership    3457\n",
              "Name: тип_обслуживания, dtype: int64"
            ]
          },
          "metadata": {
            "tags": []
          },
          "execution_count": 79
        }
      ]
    },
    {
      "cell_type": "code",
      "metadata": {
        "id": "3iDkwVNlw2iU",
        "colab": {
          "base_uri": "https://localhost:8080/"
        },
        "outputId": "dd328c82-c215-433a-8066-f2ac61750ae3"
      },
      "source": [
        "train_data['реферальная_ссылка'].value_counts()"
      ],
      "execution_count": null,
      "outputs": [
        {
          "output_type": "execute_result",
          "data": {
            "text/plain": [
              "No     12691\n",
              "Yes    12585\n",
              "?       4317\n",
              "Name: реферальная_ссылка, dtype: int64"
            ]
          },
          "metadata": {
            "tags": []
          },
          "execution_count": 80
        }
      ]
    },
    {
      "cell_type": "code",
      "metadata": {
        "id": "cKNBN9Ylw2iV",
        "colab": {
          "base_uri": "https://localhost:8080/"
        },
        "outputId": "87e0dc74-3582-405b-bfd4-eafcc5490e8d"
      },
      "source": [
        "train_data['устройство'].value_counts()"
      ],
      "execution_count": null,
      "outputs": [
        {
          "output_type": "execute_result",
          "data": {
            "text/plain": [
              "Desktop       11178\n",
              "Smartphone    11140\n",
              "?              4257\n",
              "Both           3018\n",
              "Name: устройство, dtype: int64"
            ]
          },
          "metadata": {
            "tags": []
          },
          "execution_count": 81
        }
      ]
    },
    {
      "cell_type": "code",
      "metadata": {
        "id": "KYetLbbUw2iV",
        "colab": {
          "base_uri": "https://localhost:8080/"
        },
        "outputId": "147ac628-2bdf-4ccf-95db-74417acbb25b"
      },
      "source": [
        "train_data['частота_посещений'].value_counts()"
      ],
      "execution_count": null,
      "outputs": [
        {
          "output_type": "execute_result",
          "data": {
            "text/plain": [
              "Error                  2825\n",
              "13.0                   1129\n",
              "19.0                   1118\n",
              "8.0                    1102\n",
              "14.0                   1081\n",
              "                       ... \n",
              "28.39730232134528         1\n",
              "30.144339688134668        1\n",
              "47.74305199570827         1\n",
              "-11.336991977265093       1\n",
              "-9.154338861698612        1\n",
              "Name: частота_посещений, Length: 1305, dtype: int64"
            ]
          },
          "metadata": {
            "tags": []
          },
          "execution_count": 82
        }
      ]
    },
    {
      "cell_type": "code",
      "metadata": {
        "id": "F52Jvyx3w2iW",
        "colab": {
          "base_uri": "https://localhost:8080/"
        },
        "outputId": "e4c93bd3-e9b8-4c30-b750-d6f038470dbe"
      },
      "source": [
        "train_data['скидки'].value_counts()"
      ],
      "execution_count": null,
      "outputs": [
        {
          "output_type": "execute_result",
          "data": {
            "text/plain": [
              "Yes    16211\n",
              "No     13382\n",
              "Name: скидки, dtype: int64"
            ]
          },
          "metadata": {
            "tags": []
          },
          "execution_count": 83
        }
      ]
    },
    {
      "cell_type": "code",
      "metadata": {
        "id": "-YtYWNDXw2iW",
        "colab": {
          "base_uri": "https://localhost:8080/"
        },
        "outputId": "d0270825-a594-4de9-9654-60d43b5310da"
      },
      "source": [
        "train_data['жалобы'].value_counts()"
      ],
      "execution_count": null,
      "outputs": [
        {
          "output_type": "execute_result",
          "data": {
            "text/plain": [
              "No     14856\n",
              "Yes    14737\n",
              "Name: жалобы, dtype: int64"
            ]
          },
          "metadata": {
            "tags": []
          },
          "execution_count": 84
        }
      ]
    },
    {
      "cell_type": "code",
      "metadata": {
        "id": "BN12FJbgw2iX",
        "colab": {
          "base_uri": "https://localhost:8080/"
        },
        "outputId": "b90b1ab0-fb03-4172-c6ce-e79a2cb87596"
      },
      "source": [
        "train_data['статус_жалобы'].value_counts()"
      ],
      "execution_count": null,
      "outputs": [
        {
          "output_type": "execute_result",
          "data": {
            "text/plain": [
              "Not Applicable              14856\n",
              "Solved                       3727\n",
              "Unsolved                     3685\n",
              "Solved in Follow-up          3675\n",
              "No Information Available     3650\n",
              "Name: статус_жалобы, dtype: int64"
            ]
          },
          "metadata": {
            "tags": []
          },
          "execution_count": 85
        }
      ]
    },
    {
      "cell_type": "code",
      "metadata": {
        "id": "0ZaiEB-cw2iX",
        "colab": {
          "base_uri": "https://localhost:8080/"
        },
        "outputId": "330dac52-62cb-49e3-83cc-d5978a319d90"
      },
      "source": [
        "train_data['фидбек'].value_counts()"
      ],
      "execution_count": null,
      "outputs": [
        {
          "output_type": "execute_result",
          "data": {
            "text/plain": [
              "Poor Customer Service       5040\n",
              "No reason specified         5037\n",
              "Poor Product Quality        5036\n",
              "Too many ads                5032\n",
              "Poor Website                5013\n",
              "Reasonable Price            1148\n",
              "User Friendly Website       1115\n",
              "Quality Customer Care       1086\n",
              "Products always in Stock    1086\n",
              "Name: фидбек, dtype: int64"
            ]
          },
          "metadata": {
            "tags": []
          },
          "execution_count": 86
        }
      ]
    },
    {
      "cell_type": "markdown",
      "metadata": {
        "id": "zalcFMIDw2iY"
      },
      "source": [
        "Удалим колонку \"частота посещений\", потому что в ней много пропусков и непонятных значений:"
      ]
    },
    {
      "cell_type": "code",
      "metadata": {
        "id": "BBDHCS-1w2iY"
      },
      "source": [
        "train_data = train_data.drop(['частота_посещений'], axis=1)"
      ],
      "execution_count": null,
      "outputs": []
    },
    {
      "cell_type": "markdown",
      "metadata": {
        "id": "psxUk_wHw2iY"
      },
      "source": [
        "Переведем признаки \"скидки\" и \"жалобы\" в вид бинарных переменных:"
      ]
    },
    {
      "cell_type": "code",
      "metadata": {
        "id": "K-tvKeBvw2iY"
      },
      "source": [
        "train_data['скидки'] = train_data['скидки'].apply(lambda x: 1 if x == 'Yes' else 0)\n",
        "train_data['жалобы'] = train_data['жалобы'].apply(lambda x: 1 if x == 'Yes' else 0)"
      ],
      "execution_count": null,
      "outputs": []
    },
    {
      "cell_type": "code",
      "metadata": {
        "colab": {
          "base_uri": "https://localhost:8080/",
          "height": 385
        },
        "id": "GiZJaki3dAP_",
        "outputId": "f9aa381d-ad99-4378-b57d-35f806506fb7"
      },
      "source": [
        "train_data.head()"
      ],
      "execution_count": null,
      "outputs": [
        {
          "output_type": "execute_result",
          "data": {
            "text/html": [
              "<div>\n",
              "<style scoped>\n",
              "    .dataframe tbody tr th:only-of-type {\n",
              "        vertical-align: middle;\n",
              "    }\n",
              "\n",
              "    .dataframe tbody tr th {\n",
              "        vertical-align: top;\n",
              "    }\n",
              "\n",
              "    .dataframe thead th {\n",
              "        text-align: right;\n",
              "    }\n",
              "</style>\n",
              "<table border=\"1\" class=\"dataframe\">\n",
              "  <thead>\n",
              "    <tr style=\"text-align: right;\">\n",
              "      <th></th>\n",
              "      <th>возраст</th>\n",
              "      <th>пол</th>\n",
              "      <th>тип_региона_проживания</th>\n",
              "      <th>тип_обслуживания</th>\n",
              "      <th>дата_регистрации</th>\n",
              "      <th>реферальная_ссылка</th>\n",
              "      <th>устройство</th>\n",
              "      <th>дней_с_момента_последнего_логина</th>\n",
              "      <th>среднее_время</th>\n",
              "      <th>средний_чек</th>\n",
              "      <th>баллы</th>\n",
              "      <th>скидки</th>\n",
              "      <th>жалобы</th>\n",
              "      <th>статус_жалобы</th>\n",
              "      <th>фидбек</th>\n",
              "      <th>риск_ухода</th>\n",
              "    </tr>\n",
              "  </thead>\n",
              "  <tbody>\n",
              "    <tr>\n",
              "      <th>0</th>\n",
              "      <td>49</td>\n",
              "      <td>F</td>\n",
              "      <td>Town</td>\n",
              "      <td>Basic Membership</td>\n",
              "      <td>2073</td>\n",
              "      <td>Yes</td>\n",
              "      <td>Smartphone</td>\n",
              "      <td>23</td>\n",
              "      <td>47.450000</td>\n",
              "      <td>41083.45</td>\n",
              "      <td>657.67</td>\n",
              "      <td>0</td>\n",
              "      <td>1</td>\n",
              "      <td>Solved</td>\n",
              "      <td>Poor Product Quality</td>\n",
              "      <td>5</td>\n",
              "    </tr>\n",
              "    <tr>\n",
              "      <th>1</th>\n",
              "      <td>57</td>\n",
              "      <td>M</td>\n",
              "      <td>NaN</td>\n",
              "      <td>Gold Membership</td>\n",
              "      <td>2158</td>\n",
              "      <td>Yes</td>\n",
              "      <td>Desktop</td>\n",
              "      <td>19</td>\n",
              "      <td>826.085388</td>\n",
              "      <td>34196.17</td>\n",
              "      <td>701.51</td>\n",
              "      <td>1</td>\n",
              "      <td>0</td>\n",
              "      <td>Not Applicable</td>\n",
              "      <td>Poor Customer Service</td>\n",
              "      <td>4</td>\n",
              "    </tr>\n",
              "    <tr>\n",
              "      <th>2</th>\n",
              "      <td>37</td>\n",
              "      <td>M</td>\n",
              "      <td>Town</td>\n",
              "      <td>Silver Membership</td>\n",
              "      <td>1488</td>\n",
              "      <td>No</td>\n",
              "      <td>Desktop</td>\n",
              "      <td>6</td>\n",
              "      <td>145.450000</td>\n",
              "      <td>26744.56</td>\n",
              "      <td>715.44</td>\n",
              "      <td>1</td>\n",
              "      <td>1</td>\n",
              "      <td>No Information Available</td>\n",
              "      <td>Poor Customer Service</td>\n",
              "      <td>4</td>\n",
              "    </tr>\n",
              "    <tr>\n",
              "      <th>3</th>\n",
              "      <td>23</td>\n",
              "      <td>F</td>\n",
              "      <td>City</td>\n",
              "      <td>Silver Membership</td>\n",
              "      <td>2024</td>\n",
              "      <td>Yes</td>\n",
              "      <td>?</td>\n",
              "      <td>20</td>\n",
              "      <td>170.090000</td>\n",
              "      <td>18016.81</td>\n",
              "      <td>743.10</td>\n",
              "      <td>1</td>\n",
              "      <td>1</td>\n",
              "      <td>No Information Available</td>\n",
              "      <td>Too many ads</td>\n",
              "      <td>3</td>\n",
              "    </tr>\n",
              "    <tr>\n",
              "      <th>4</th>\n",
              "      <td>30</td>\n",
              "      <td>M</td>\n",
              "      <td>NaN</td>\n",
              "      <td>Premium Membership</td>\n",
              "      <td>1579</td>\n",
              "      <td>Yes</td>\n",
              "      <td>Both</td>\n",
              "      <td>14</td>\n",
              "      <td>715.040000</td>\n",
              "      <td>17044.98</td>\n",
              "      <td>717.35</td>\n",
              "      <td>1</td>\n",
              "      <td>0</td>\n",
              "      <td>Not Applicable</td>\n",
              "      <td>Too many ads</td>\n",
              "      <td>3</td>\n",
              "    </tr>\n",
              "  </tbody>\n",
              "</table>\n",
              "</div>"
            ],
            "text/plain": [
              "   возраст пол  ...                 фидбек риск_ухода\n",
              "0       49   F  ...   Poor Product Quality          5\n",
              "1       57   M  ...  Poor Customer Service          4\n",
              "2       37   M  ...  Poor Customer Service          4\n",
              "3       23   F  ...           Too many ads          3\n",
              "4       30   M  ...           Too many ads          3\n",
              "\n",
              "[5 rows x 16 columns]"
            ]
          },
          "metadata": {
            "tags": []
          },
          "execution_count": 89
        }
      ]
    },
    {
      "cell_type": "markdown",
      "metadata": {
        "id": "9t7Pks8Cw2iZ"
      },
      "source": [
        "#### Работа с пропусками"
      ]
    },
    {
      "cell_type": "markdown",
      "metadata": {
        "id": "3pCUoB2_w2iZ"
      },
      "source": [
        "Удалим строки, для которых неизвестен пол:"
      ]
    },
    {
      "cell_type": "code",
      "metadata": {
        "id": "ZBST9vDkw2ia"
      },
      "source": [
        "train_data = train_data[train_data['пол']!='Unknown']"
      ],
      "execution_count": null,
      "outputs": []
    },
    {
      "cell_type": "markdown",
      "metadata": {
        "id": "uOCdGUbWw2ia"
      },
      "source": [
        "И переведем признак \"пол\" в вид бинарной переменной:"
      ]
    },
    {
      "cell_type": "code",
      "metadata": {
        "id": "4gwYWGuQw2ib"
      },
      "source": [
        "train_data['пол'] = train_data['пол'].apply(lambda x: 1 if x == 'M' else 0)"
      ],
      "execution_count": null,
      "outputs": []
    },
    {
      "cell_type": "markdown",
      "metadata": {
        "id": "37y6Cs5dw2ib"
      },
      "source": [
        "Заполним пропуски в колонках \"тип_региона_проживания\" и \"баллы\":"
      ]
    },
    {
      "cell_type": "code",
      "metadata": {
        "id": "2mI4h15Xw2ic"
      },
      "source": [
        "# заполняем пропуски самым популярным значением\n",
        "train_data['тип_региона_проживания'] = train_data['тип_региона_проживания'].fillna('Town')"
      ],
      "execution_count": null,
      "outputs": []
    },
    {
      "cell_type": "code",
      "metadata": {
        "id": "U_KBlmb4w2ic",
        "colab": {
          "base_uri": "https://localhost:8080/",
          "height": 280
        },
        "outputId": "3e4e0335-85d2-4eed-90bd-73d54531b994"
      },
      "source": [
        "train_data['баллы'].hist()"
      ],
      "execution_count": null,
      "outputs": [
        {
          "output_type": "execute_result",
          "data": {
            "text/plain": [
              "<matplotlib.axes._subplots.AxesSubplot at 0x7fe438493810>"
            ]
          },
          "metadata": {
            "tags": []
          },
          "execution_count": 93
        },
        {
          "output_type": "display_data",
          "data": {
            "image/png": "[encoded data removed]",
            "text/plain": [
              "<Figure size 432x288 with 1 Axes>"
            ]
          },
          "metadata": {
            "tags": [],
            "needs_background": "light"
          }
        }
      ]
    },
    {
      "cell_type": "code",
      "metadata": {
        "id": "ihaDNjndw2ie"
      },
      "source": [
        "train_data['баллы'] = train_data['баллы'].fillna(0)"
      ],
      "execution_count": null,
      "outputs": []
    },
    {
      "cell_type": "markdown",
      "metadata": {
        "id": "27_jk0Bnw2ie"
      },
      "source": [
        "В колонке \"реферальная_ссылка\" для людей, о которых нет информации, считаем, что реферальной ссылки у них нет:"
      ]
    },
    {
      "cell_type": "code",
      "metadata": {
        "id": "RnltBxIUw2if"
      },
      "source": [
        "mask = train_data['реферальная_ссылка']=='?'\n",
        "train_data.loc[mask, 'реферальная_ссылка'] = 'No'"
      ],
      "execution_count": null,
      "outputs": []
    },
    {
      "cell_type": "markdown",
      "metadata": {
        "id": "lvDnXI3Ww2if"
      },
      "source": [
        "Вот что получилось на данном этапе:"
      ]
    },
    {
      "cell_type": "code",
      "metadata": {
        "id": "X3JHSfIfdv-b"
      },
      "source": [
        "train_data['реферальная_ссылка'] = train_data['реферальная_ссылка'].apply(lambda x: 1 if x == 'Yes' else 0)"
      ],
      "execution_count": null,
      "outputs": []
    },
    {
      "cell_type": "code",
      "metadata": {
        "id": "0-mJGK1sw2if",
        "colab": {
          "base_uri": "https://localhost:8080/",
          "height": 385
        },
        "outputId": "2183d504-679d-4a89-bc91-9b64d6fd4d03"
      },
      "source": [
        "train_data.head()"
      ],
      "execution_count": null,
      "outputs": [
        {
          "output_type": "execute_result",
          "data": {
            "text/html": [
              "<div>\n",
              "<style scoped>\n",
              "    .dataframe tbody tr th:only-of-type {\n",
              "        vertical-align: middle;\n",
              "    }\n",
              "\n",
              "    .dataframe tbody tr th {\n",
              "        vertical-align: top;\n",
              "    }\n",
              "\n",
              "    .dataframe thead th {\n",
              "        text-align: right;\n",
              "    }\n",
              "</style>\n",
              "<table border=\"1\" class=\"dataframe\">\n",
              "  <thead>\n",
              "    <tr style=\"text-align: right;\">\n",
              "      <th></th>\n",
              "      <th>возраст</th>\n",
              "      <th>пол</th>\n",
              "      <th>тип_региона_проживания</th>\n",
              "      <th>тип_обслуживания</th>\n",
              "      <th>дата_регистрации</th>\n",
              "      <th>реферальная_ссылка</th>\n",
              "      <th>устройство</th>\n",
              "      <th>дней_с_момента_последнего_логина</th>\n",
              "      <th>среднее_время</th>\n",
              "      <th>средний_чек</th>\n",
              "      <th>баллы</th>\n",
              "      <th>скидки</th>\n",
              "      <th>жалобы</th>\n",
              "      <th>статус_жалобы</th>\n",
              "      <th>фидбек</th>\n",
              "      <th>риск_ухода</th>\n",
              "    </tr>\n",
              "  </thead>\n",
              "  <tbody>\n",
              "    <tr>\n",
              "      <th>0</th>\n",
              "      <td>49</td>\n",
              "      <td>0</td>\n",
              "      <td>Town</td>\n",
              "      <td>Basic Membership</td>\n",
              "      <td>2073</td>\n",
              "      <td>1</td>\n",
              "      <td>Smartphone</td>\n",
              "      <td>23</td>\n",
              "      <td>47.450000</td>\n",
              "      <td>41083.45</td>\n",
              "      <td>657.67</td>\n",
              "      <td>0</td>\n",
              "      <td>1</td>\n",
              "      <td>Solved</td>\n",
              "      <td>Poor Product Quality</td>\n",
              "      <td>5</td>\n",
              "    </tr>\n",
              "    <tr>\n",
              "      <th>1</th>\n",
              "      <td>57</td>\n",
              "      <td>1</td>\n",
              "      <td>Town</td>\n",
              "      <td>Gold Membership</td>\n",
              "      <td>2158</td>\n",
              "      <td>1</td>\n",
              "      <td>Desktop</td>\n",
              "      <td>19</td>\n",
              "      <td>826.085388</td>\n",
              "      <td>34196.17</td>\n",
              "      <td>701.51</td>\n",
              "      <td>1</td>\n",
              "      <td>0</td>\n",
              "      <td>Not Applicable</td>\n",
              "      <td>Poor Customer Service</td>\n",
              "      <td>4</td>\n",
              "    </tr>\n",
              "    <tr>\n",
              "      <th>2</th>\n",
              "      <td>37</td>\n",
              "      <td>1</td>\n",
              "      <td>Town</td>\n",
              "      <td>Silver Membership</td>\n",
              "      <td>1488</td>\n",
              "      <td>0</td>\n",
              "      <td>Desktop</td>\n",
              "      <td>6</td>\n",
              "      <td>145.450000</td>\n",
              "      <td>26744.56</td>\n",
              "      <td>715.44</td>\n",
              "      <td>1</td>\n",
              "      <td>1</td>\n",
              "      <td>No Information Available</td>\n",
              "      <td>Poor Customer Service</td>\n",
              "      <td>4</td>\n",
              "    </tr>\n",
              "    <tr>\n",
              "      <th>3</th>\n",
              "      <td>23</td>\n",
              "      <td>0</td>\n",
              "      <td>City</td>\n",
              "      <td>Silver Membership</td>\n",
              "      <td>2024</td>\n",
              "      <td>1</td>\n",
              "      <td>?</td>\n",
              "      <td>20</td>\n",
              "      <td>170.090000</td>\n",
              "      <td>18016.81</td>\n",
              "      <td>743.10</td>\n",
              "      <td>1</td>\n",
              "      <td>1</td>\n",
              "      <td>No Information Available</td>\n",
              "      <td>Too many ads</td>\n",
              "      <td>3</td>\n",
              "    </tr>\n",
              "    <tr>\n",
              "      <th>4</th>\n",
              "      <td>30</td>\n",
              "      <td>1</td>\n",
              "      <td>Town</td>\n",
              "      <td>Premium Membership</td>\n",
              "      <td>1579</td>\n",
              "      <td>1</td>\n",
              "      <td>Both</td>\n",
              "      <td>14</td>\n",
              "      <td>715.040000</td>\n",
              "      <td>17044.98</td>\n",
              "      <td>717.35</td>\n",
              "      <td>1</td>\n",
              "      <td>0</td>\n",
              "      <td>Not Applicable</td>\n",
              "      <td>Too many ads</td>\n",
              "      <td>3</td>\n",
              "    </tr>\n",
              "  </tbody>\n",
              "</table>\n",
              "</div>"
            ],
            "text/plain": [
              "   возраст  пол  ...                 фидбек риск_ухода\n",
              "0       49    0  ...   Poor Product Quality          5\n",
              "1       57    1  ...  Poor Customer Service          4\n",
              "2       37    1  ...  Poor Customer Service          4\n",
              "3       23    0  ...           Too many ads          3\n",
              "4       30    1  ...           Too many ads          3\n",
              "\n",
              "[5 rows x 16 columns]"
            ]
          },
          "metadata": {
            "tags": []
          },
          "execution_count": 97
        }
      ]
    },
    {
      "cell_type": "code",
      "metadata": {
        "id": "y2mAj3FxeKRD"
      },
      "source": [
        ""
      ],
      "execution_count": null,
      "outputs": []
    },
    {
      "cell_type": "markdown",
      "metadata": {
        "id": "zRwkzeaVw2if"
      },
      "source": [
        "#### Переводим категориальные признаки в числовые"
      ]
    },
    {
      "cell_type": "markdown",
      "metadata": {
        "id": "0py862Gxw2ig"
      },
      "source": [
        "Посмотрим, какие категориальные признаки у нас остались:"
      ]
    },
    {
      "cell_type": "code",
      "metadata": {
        "id": "zEajJhwPw2ig",
        "colab": {
          "base_uri": "https://localhost:8080/"
        },
        "outputId": "ec5e9c8a-d5da-41fd-dd7c-99602bf99e03"
      },
      "source": [
        "categorical_columns = [x for x in train_data.columns if train_data[x].dtype == 'object']\n",
        "categorical_columns"
      ],
      "execution_count": null,
      "outputs": [
        {
          "output_type": "execute_result",
          "data": {
            "text/plain": [
              "['тип_региона_проживания',\n",
              " 'тип_обслуживания',\n",
              " 'устройство',\n",
              " 'статус_жалобы',\n",
              " 'фидбек']"
            ]
          },
          "metadata": {
            "tags": []
          },
          "execution_count": 35
        }
      ]
    },
    {
      "cell_type": "markdown",
      "metadata": {
        "id": "tD06d4N4w2ig"
      },
      "source": [
        "Бинаризуем все оставшиеся категориальные переменные:"
      ]
    },
    {
      "cell_type": "code",
      "metadata": {
        "id": "ivvtGf-Hw2ig",
        "colab": {
          "base_uri": "https://localhost:8080/",
          "height": 254
        },
        "outputId": "93aa18aa-5ee9-4f10-8e95-99d0c81a5059"
      },
      "source": [
        "train_data = pd.get_dummies(train_data, categorical_columns)\n",
        "train_data.head()"
      ],
      "execution_count": null,
      "outputs": [
        {
          "output_type": "execute_result",
          "data": {
            "text/html": [
              "<div>\n",
              "<style scoped>\n",
              "    .dataframe tbody tr th:only-of-type {\n",
              "        vertical-align: middle;\n",
              "    }\n",
              "\n",
              "    .dataframe tbody tr th {\n",
              "        vertical-align: top;\n",
              "    }\n",
              "\n",
              "    .dataframe thead th {\n",
              "        text-align: right;\n",
              "    }\n",
              "</style>\n",
              "<table border=\"1\" class=\"dataframe\">\n",
              "  <thead>\n",
              "    <tr style=\"text-align: right;\">\n",
              "      <th></th>\n",
              "      <th>возраст</th>\n",
              "      <th>пол</th>\n",
              "      <th>дата_регистрации</th>\n",
              "      <th>реферальная_ссылка</th>\n",
              "      <th>дней_с_момента_последнего_логина</th>\n",
              "      <th>среднее_время</th>\n",
              "      <th>средний_чек</th>\n",
              "      <th>баллы</th>\n",
              "      <th>скидки</th>\n",
              "      <th>жалобы</th>\n",
              "      <th>риск_ухода</th>\n",
              "      <th>тип_региона_проживания_City</th>\n",
              "      <th>тип_региона_проживания_Town</th>\n",
              "      <th>тип_региона_проживания_Village</th>\n",
              "      <th>тип_обслуживания_Basic Membership</th>\n",
              "      <th>тип_обслуживания_Gold Membership</th>\n",
              "      <th>тип_обслуживания_No Membership</th>\n",
              "      <th>тип_обслуживания_Platinum Membership</th>\n",
              "      <th>тип_обслуживания_Premium Membership</th>\n",
              "      <th>тип_обслуживания_Silver Membership</th>\n",
              "      <th>устройство_?</th>\n",
              "      <th>устройство_Both</th>\n",
              "      <th>устройство_Desktop</th>\n",
              "      <th>устройство_Smartphone</th>\n",
              "      <th>статус_жалобы_No Information Available</th>\n",
              "      <th>статус_жалобы_Not Applicable</th>\n",
              "      <th>статус_жалобы_Solved</th>\n",
              "      <th>статус_жалобы_Solved in Follow-up</th>\n",
              "      <th>статус_жалобы_Unsolved</th>\n",
              "      <th>фидбек_No reason specified</th>\n",
              "      <th>фидбек_Poor Customer Service</th>\n",
              "      <th>фидбек_Poor Product Quality</th>\n",
              "      <th>фидбек_Poor Website</th>\n",
              "      <th>фидбек_Products always in Stock</th>\n",
              "      <th>фидбек_Quality Customer Care</th>\n",
              "      <th>фидбек_Reasonable Price</th>\n",
              "      <th>фидбек_Too many ads</th>\n",
              "      <th>фидбек_User Friendly Website</th>\n",
              "    </tr>\n",
              "  </thead>\n",
              "  <tbody>\n",
              "    <tr>\n",
              "      <th>0</th>\n",
              "      <td>49</td>\n",
              "      <td>0</td>\n",
              "      <td>2073</td>\n",
              "      <td>1</td>\n",
              "      <td>23</td>\n",
              "      <td>47.450000</td>\n",
              "      <td>41083.45</td>\n",
              "      <td>657.67</td>\n",
              "      <td>0</td>\n",
              "      <td>1</td>\n",
              "      <td>5</td>\n",
              "      <td>0</td>\n",
              "      <td>1</td>\n",
              "      <td>0</td>\n",
              "      <td>1</td>\n",
              "      <td>0</td>\n",
              "      <td>0</td>\n",
              "      <td>0</td>\n",
              "      <td>0</td>\n",
              "      <td>0</td>\n",
              "      <td>0</td>\n",
              "      <td>0</td>\n",
              "      <td>0</td>\n",
              "      <td>1</td>\n",
              "      <td>0</td>\n",
              "      <td>0</td>\n",
              "      <td>1</td>\n",
              "      <td>0</td>\n",
              "      <td>0</td>\n",
              "      <td>0</td>\n",
              "      <td>0</td>\n",
              "      <td>1</td>\n",
              "      <td>0</td>\n",
              "      <td>0</td>\n",
              "      <td>0</td>\n",
              "      <td>0</td>\n",
              "      <td>0</td>\n",
              "      <td>0</td>\n",
              "    </tr>\n",
              "    <tr>\n",
              "      <th>1</th>\n",
              "      <td>57</td>\n",
              "      <td>1</td>\n",
              "      <td>2158</td>\n",
              "      <td>1</td>\n",
              "      <td>19</td>\n",
              "      <td>826.085388</td>\n",
              "      <td>34196.17</td>\n",
              "      <td>701.51</td>\n",
              "      <td>1</td>\n",
              "      <td>0</td>\n",
              "      <td>4</td>\n",
              "      <td>0</td>\n",
              "      <td>1</td>\n",
              "      <td>0</td>\n",
              "      <td>0</td>\n",
              "      <td>1</td>\n",
              "      <td>0</td>\n",
              "      <td>0</td>\n",
              "      <td>0</td>\n",
              "      <td>0</td>\n",
              "      <td>0</td>\n",
              "      <td>0</td>\n",
              "      <td>1</td>\n",
              "      <td>0</td>\n",
              "      <td>0</td>\n",
              "      <td>1</td>\n",
              "      <td>0</td>\n",
              "      <td>0</td>\n",
              "      <td>0</td>\n",
              "      <td>0</td>\n",
              "      <td>1</td>\n",
              "      <td>0</td>\n",
              "      <td>0</td>\n",
              "      <td>0</td>\n",
              "      <td>0</td>\n",
              "      <td>0</td>\n",
              "      <td>0</td>\n",
              "      <td>0</td>\n",
              "    </tr>\n",
              "    <tr>\n",
              "      <th>2</th>\n",
              "      <td>37</td>\n",
              "      <td>1</td>\n",
              "      <td>1488</td>\n",
              "      <td>0</td>\n",
              "      <td>6</td>\n",
              "      <td>145.450000</td>\n",
              "      <td>26744.56</td>\n",
              "      <td>715.44</td>\n",
              "      <td>1</td>\n",
              "      <td>1</td>\n",
              "      <td>4</td>\n",
              "      <td>0</td>\n",
              "      <td>1</td>\n",
              "      <td>0</td>\n",
              "      <td>0</td>\n",
              "      <td>0</td>\n",
              "      <td>0</td>\n",
              "      <td>0</td>\n",
              "      <td>0</td>\n",
              "      <td>1</td>\n",
              "      <td>0</td>\n",
              "      <td>0</td>\n",
              "      <td>1</td>\n",
              "      <td>0</td>\n",
              "      <td>1</td>\n",
              "      <td>0</td>\n",
              "      <td>0</td>\n",
              "      <td>0</td>\n",
              "      <td>0</td>\n",
              "      <td>0</td>\n",
              "      <td>1</td>\n",
              "      <td>0</td>\n",
              "      <td>0</td>\n",
              "      <td>0</td>\n",
              "      <td>0</td>\n",
              "      <td>0</td>\n",
              "      <td>0</td>\n",
              "      <td>0</td>\n",
              "    </tr>\n",
              "    <tr>\n",
              "      <th>3</th>\n",
              "      <td>23</td>\n",
              "      <td>0</td>\n",
              "      <td>2024</td>\n",
              "      <td>1</td>\n",
              "      <td>20</td>\n",
              "      <td>170.090000</td>\n",
              "      <td>18016.81</td>\n",
              "      <td>743.10</td>\n",
              "      <td>1</td>\n",
              "      <td>1</td>\n",
              "      <td>3</td>\n",
              "      <td>1</td>\n",
              "      <td>0</td>\n",
              "      <td>0</td>\n",
              "      <td>0</td>\n",
              "      <td>0</td>\n",
              "      <td>0</td>\n",
              "      <td>0</td>\n",
              "      <td>0</td>\n",
              "      <td>1</td>\n",
              "      <td>1</td>\n",
              "      <td>0</td>\n",
              "      <td>0</td>\n",
              "      <td>0</td>\n",
              "      <td>1</td>\n",
              "      <td>0</td>\n",
              "      <td>0</td>\n",
              "      <td>0</td>\n",
              "      <td>0</td>\n",
              "      <td>0</td>\n",
              "      <td>0</td>\n",
              "      <td>0</td>\n",
              "      <td>0</td>\n",
              "      <td>0</td>\n",
              "      <td>0</td>\n",
              "      <td>0</td>\n",
              "      <td>1</td>\n",
              "      <td>0</td>\n",
              "    </tr>\n",
              "    <tr>\n",
              "      <th>4</th>\n",
              "      <td>30</td>\n",
              "      <td>1</td>\n",
              "      <td>1579</td>\n",
              "      <td>1</td>\n",
              "      <td>14</td>\n",
              "      <td>715.040000</td>\n",
              "      <td>17044.98</td>\n",
              "      <td>717.35</td>\n",
              "      <td>1</td>\n",
              "      <td>0</td>\n",
              "      <td>3</td>\n",
              "      <td>0</td>\n",
              "      <td>1</td>\n",
              "      <td>0</td>\n",
              "      <td>0</td>\n",
              "      <td>0</td>\n",
              "      <td>0</td>\n",
              "      <td>0</td>\n",
              "      <td>1</td>\n",
              "      <td>0</td>\n",
              "      <td>0</td>\n",
              "      <td>1</td>\n",
              "      <td>0</td>\n",
              "      <td>0</td>\n",
              "      <td>0</td>\n",
              "      <td>1</td>\n",
              "      <td>0</td>\n",
              "      <td>0</td>\n",
              "      <td>0</td>\n",
              "      <td>0</td>\n",
              "      <td>0</td>\n",
              "      <td>0</td>\n",
              "      <td>0</td>\n",
              "      <td>0</td>\n",
              "      <td>0</td>\n",
              "      <td>0</td>\n",
              "      <td>1</td>\n",
              "      <td>0</td>\n",
              "    </tr>\n",
              "  </tbody>\n",
              "</table>\n",
              "</div>"
            ],
            "text/plain": [
              "   возраст  пол  ...  фидбек_Too many ads  фидбек_User Friendly Website\n",
              "0       49    0  ...                    0                             0\n",
              "1       57    1  ...                    0                             0\n",
              "2       37    1  ...                    0                             0\n",
              "3       23    0  ...                    1                             0\n",
              "4       30    1  ...                    1                             0\n",
              "\n",
              "[5 rows x 38 columns]"
            ]
          },
          "metadata": {
            "tags": []
          },
          "execution_count": 36
        }
      ]
    },
    {
      "cell_type": "markdown",
      "metadata": {
        "id": "oo8RepQSw2ih"
      },
      "source": [
        "И, наконец, поделим данные на признаки (Х) и целевую переменную (y):"
      ]
    },
    {
      "cell_type": "code",
      "metadata": {
        "id": "qKp-EJnzw2ih"
      },
      "source": [
        "y = train_data['риск_ухода']\n",
        "X = train_data.drop('риск_ухода', axis=1)"
      ],
      "execution_count": null,
      "outputs": []
    },
    {
      "cell_type": "markdown",
      "metadata": {
        "id": "PrG7KCvXw2ih"
      },
      "source": [
        "## Строим модель"
      ]
    },
    {
      "cell_type": "markdown",
      "metadata": {
        "id": "cXn5Hsppw2ii"
      },
      "source": [
        "Попробуем решить задачу линейной регрессией, случайным лесом и градиентным бустингом."
      ]
    },
    {
      "cell_type": "code",
      "metadata": {
        "id": "HHAM8mKEw2ii"
      },
      "source": [
        "from sklearn import ensemble, linear_model\n",
        "from sklearn.model_selection import cross_val_score\n",
        "from sklearn.metrics import mean_squared_error"
      ],
      "execution_count": null,
      "outputs": []
    },
    {
      "cell_type": "code",
      "metadata": {
        "id": "H-l-UJTcw2ii"
      },
      "source": [
        "linreg = linear_model.LinearRegression()\n",
        "rf = ensemble.RandomForestRegressor(n_estimators=100, max_depth=10, min_samples_split=7)\n",
        "gb = ensemble.GradientBoostingRegressor(n_estimators=500, max_depth=5, min_samples_split=10)"
      ],
      "execution_count": null,
      "outputs": []
    },
    {
      "cell_type": "code",
      "metadata": {
        "id": "QEN4BYFiw2ij",
        "colab": {
          "base_uri": "https://localhost:8080/"
        },
        "outputId": "2983bb78-843c-41ec-b055-3ca8c8979e04"
      },
      "source": [
        "linreg.fit(X, y)\n",
        "rf.fit(X, y)\n",
        "gb.fit(X, y)"
      ],
      "execution_count": null,
      "outputs": [
        {
          "output_type": "execute_result",
          "data": {
            "text/plain": [
              "GradientBoostingRegressor(alpha=0.9, ccp_alpha=0.0, criterion='friedman_mse',\n",
              "                          init=None, learning_rate=0.1, loss='ls', max_depth=5,\n",
              "                          max_features=None, max_leaf_nodes=None,\n",
              "                          min_impurity_decrease=0.0, min_impurity_split=None,\n",
              "                          min_samples_leaf=1, min_samples_split=10,\n",
              "                          min_weight_fraction_leaf=0.0, n_estimators=500,\n",
              "                          n_iter_no_change=None, presort='deprecated',\n",
              "                          random_state=None, subsample=1.0, tol=0.0001,\n",
              "                          validation_fraction=0.1, verbose=0, warm_start=False)"
            ]
          },
          "metadata": {
            "tags": []
          },
          "execution_count": 40
        }
      ]
    },
    {
      "cell_type": "markdown",
      "metadata": {
        "id": "UJGMDPD0w2ij"
      },
      "source": [
        "## Предобрабатываем тестовые данные"
      ]
    },
    {
      "cell_type": "code",
      "metadata": {
        "id": "8Mmbs5jxw2ik",
        "colab": {
          "base_uri": "https://localhost:8080/",
          "height": 369
        },
        "outputId": "eb1e479f-bc06-453e-95f2-422fd3161b0b"
      },
      "source": [
        "test_data = pd.read_csv('./test_data.csv').drop('Unnamed: 0', axis=1)\n",
        "test_data.head()"
      ],
      "execution_count": null,
      "outputs": [
        {
          "output_type": "execute_result",
          "data": {
            "text/html": [
              "<div>\n",
              "<style scoped>\n",
              "    .dataframe tbody tr th:only-of-type {\n",
              "        vertical-align: middle;\n",
              "    }\n",
              "\n",
              "    .dataframe tbody tr th {\n",
              "        vertical-align: top;\n",
              "    }\n",
              "\n",
              "    .dataframe thead th {\n",
              "        text-align: right;\n",
              "    }\n",
              "</style>\n",
              "<table border=\"1\" class=\"dataframe\">\n",
              "  <thead>\n",
              "    <tr style=\"text-align: right;\">\n",
              "      <th></th>\n",
              "      <th>имя</th>\n",
              "      <th>возраст</th>\n",
              "      <th>пол</th>\n",
              "      <th>тип_региона_проживания</th>\n",
              "      <th>тип_обслуживания</th>\n",
              "      <th>дата_регистрации</th>\n",
              "      <th>реферальная_ссылка</th>\n",
              "      <th>устройство</th>\n",
              "      <th>последний_визит</th>\n",
              "      <th>дней_с_момента_последнего_логина</th>\n",
              "      <th>среднее_время</th>\n",
              "      <th>средний_чек</th>\n",
              "      <th>частота_посещений</th>\n",
              "      <th>баллы</th>\n",
              "      <th>скидки</th>\n",
              "      <th>жалобы</th>\n",
              "      <th>статус_жалобы</th>\n",
              "      <th>фидбек</th>\n",
              "    </tr>\n",
              "  </thead>\n",
              "  <tbody>\n",
              "    <tr>\n",
              "      <th>0</th>\n",
              "      <td>Janelle Eisenman</td>\n",
              "      <td>30</td>\n",
              "      <td>F</td>\n",
              "      <td>City</td>\n",
              "      <td>No Membership</td>\n",
              "      <td>2015-01-23</td>\n",
              "      <td>Yes</td>\n",
              "      <td>Both</td>\n",
              "      <td>18:17:55</td>\n",
              "      <td>5</td>\n",
              "      <td>326.140000</td>\n",
              "      <td>19503.09</td>\n",
              "      <td>15.0</td>\n",
              "      <td>694.520000</td>\n",
              "      <td>Yes</td>\n",
              "      <td>No</td>\n",
              "      <td>Not Applicable</td>\n",
              "      <td>Poor Product Quality</td>\n",
              "    </tr>\n",
              "    <tr>\n",
              "      <th>1</th>\n",
              "      <td>Azucena Sun</td>\n",
              "      <td>29</td>\n",
              "      <td>F</td>\n",
              "      <td>Town</td>\n",
              "      <td>No Membership</td>\n",
              "      <td>2017-12-03</td>\n",
              "      <td>No</td>\n",
              "      <td>?</td>\n",
              "      <td>17:22:04</td>\n",
              "      <td>15</td>\n",
              "      <td>338.230000</td>\n",
              "      <td>6648.41</td>\n",
              "      <td>33.460205347560084</td>\n",
              "      <td>NaN</td>\n",
              "      <td>Yes</td>\n",
              "      <td>No</td>\n",
              "      <td>Not Applicable</td>\n",
              "      <td>Too many ads</td>\n",
              "    </tr>\n",
              "    <tr>\n",
              "      <th>2</th>\n",
              "      <td>Nikki Ranger</td>\n",
              "      <td>10</td>\n",
              "      <td>F</td>\n",
              "      <td>Town</td>\n",
              "      <td>Basic Membership</td>\n",
              "      <td>2015-07-02</td>\n",
              "      <td>No</td>\n",
              "      <td>Smartphone</td>\n",
              "      <td>23:53:45</td>\n",
              "      <td>13</td>\n",
              "      <td>154.050000</td>\n",
              "      <td>5415.97</td>\n",
              "      <td>14.0</td>\n",
              "      <td>866.803902</td>\n",
              "      <td>No</td>\n",
              "      <td>No</td>\n",
              "      <td>Not Applicable</td>\n",
              "      <td>Too many ads</td>\n",
              "    </tr>\n",
              "    <tr>\n",
              "      <th>3</th>\n",
              "      <td>Rex Kizer</td>\n",
              "      <td>55</td>\n",
              "      <td>F</td>\n",
              "      <td>City</td>\n",
              "      <td>Silver Membership</td>\n",
              "      <td>2017-12-12</td>\n",
              "      <td>Yes</td>\n",
              "      <td>?</td>\n",
              "      <td>03:33:11</td>\n",
              "      <td>13</td>\n",
              "      <td>1227.654536</td>\n",
              "      <td>5576.82</td>\n",
              "      <td>24.0</td>\n",
              "      <td>686.090000</td>\n",
              "      <td>No</td>\n",
              "      <td>Yes</td>\n",
              "      <td>Solved in Follow-up</td>\n",
              "      <td>Poor Product Quality</td>\n",
              "    </tr>\n",
              "    <tr>\n",
              "      <th>4</th>\n",
              "      <td>Christiana Dalzell</td>\n",
              "      <td>42</td>\n",
              "      <td>F</td>\n",
              "      <td>Village</td>\n",
              "      <td>Gold Membership</td>\n",
              "      <td>2017-06-20</td>\n",
              "      <td>No</td>\n",
              "      <td>?</td>\n",
              "      <td>23:21:04</td>\n",
              "      <td>11</td>\n",
              "      <td>69.330000</td>\n",
              "      <td>39146.00</td>\n",
              "      <td>16.0</td>\n",
              "      <td>666.440000</td>\n",
              "      <td>No</td>\n",
              "      <td>No</td>\n",
              "      <td>Not Applicable</td>\n",
              "      <td>Poor Website</td>\n",
              "    </tr>\n",
              "  </tbody>\n",
              "</table>\n",
              "</div>"
            ],
            "text/plain": [
              "                  имя  возраст  ...        статус_жалобы                фидбек\n",
              "0    Janelle Eisenman       30  ...       Not Applicable  Poor Product Quality\n",
              "1         Azucena Sun       29  ...       Not Applicable          Too many ads\n",
              "2        Nikki Ranger       10  ...       Not Applicable          Too many ads\n",
              "3           Rex Kizer       55  ...  Solved in Follow-up  Poor Product Quality\n",
              "4  Christiana Dalzell       42  ...       Not Applicable          Poor Website\n",
              "\n",
              "[5 rows x 18 columns]"
            ]
          },
          "metadata": {
            "tags": []
          },
          "execution_count": 98
        }
      ]
    },
    {
      "cell_type": "code",
      "metadata": {
        "id": "cXixRPd6w2ik"
      },
      "source": [
        "datetime_object_now = datetime.strptime('2021 04 10', '%Y %m %d')\n",
        "test_data['дата_регистрации'] = \\\n",
        "list(map(lambda x: (datetime_object_now - datetime.strptime(x.replace('-', ' '), '%Y %m %d')).days, test_data['дата_регистрации']))"
      ],
      "execution_count": null,
      "outputs": []
    },
    {
      "cell_type": "code",
      "metadata": {
        "id": "pxipLUtxw2il"
      },
      "source": [
        "test_data = test_data.drop(['имя', 'последний_визит', 'частота_посещений'], axis=1)"
      ],
      "execution_count": null,
      "outputs": []
    },
    {
      "cell_type": "code",
      "metadata": {
        "id": "QsvBUpVUw2il",
        "colab": {
          "base_uri": "https://localhost:8080/"
        },
        "outputId": "3796ea49-11da-4d5c-dfd3-7a9aa4e6d3f5"
      },
      "source": [
        "test_data.info()"
      ],
      "execution_count": null,
      "outputs": [
        {
          "output_type": "stream",
          "text": [
            "<class 'pandas.core.frame.DataFrame'>\n",
            "RangeIndex: 7399 entries, 0 to 7398\n",
            "Data columns (total 15 columns):\n",
            " #   Column                            Non-Null Count  Dtype  \n",
            "---  ------                            --------------  -----  \n",
            " 0   возраст                           7399 non-null   int64  \n",
            " 1   пол                               7399 non-null   object \n",
            " 2   тип_региона_проживания            6329 non-null   object \n",
            " 3   тип_обслуживания                  7399 non-null   object \n",
            " 4   дата_регистрации                  7399 non-null   int64  \n",
            " 5   реферальная_ссылка                7399 non-null   object \n",
            " 6   устройство                        7399 non-null   object \n",
            " 7   дней_с_момента_последнего_логина  7399 non-null   int64  \n",
            " 8   среднее_время                     7399 non-null   float64\n",
            " 9   средний_чек                       7399 non-null   float64\n",
            " 10  баллы                             6745 non-null   float64\n",
            " 11  скидки                            7399 non-null   object \n",
            " 12  жалобы                            7399 non-null   object \n",
            " 13  статус_жалобы                     7399 non-null   object \n",
            " 14  фидбек                            7399 non-null   object \n",
            "dtypes: float64(3), int64(3), object(9)\n",
            "memory usage: 867.2+ KB\n"
          ],
          "name": "stdout"
        }
      ]
    },
    {
      "cell_type": "code",
      "metadata": {
        "id": "RN2fVX6iw2il",
        "colab": {
          "base_uri": "https://localhost:8080/"
        },
        "outputId": "0b584cb2-4505-48d0-9c88-3ac27dd9647b"
      },
      "source": [
        "test_data['пол'].value_counts()"
      ],
      "execution_count": null,
      "outputs": [
        {
          "output_type": "execute_result",
          "data": {
            "text/plain": [
              "F          3720\n",
              "M          3669\n",
              "Unknown      10\n",
              "Name: пол, dtype: int64"
            ]
          },
          "metadata": {
            "tags": []
          },
          "execution_count": 102
        }
      ]
    },
    {
      "cell_type": "code",
      "metadata": {
        "id": "bPefDCOow2il"
      },
      "source": [
        "test_data['скидки'] = test_data['скидки'].apply(lambda x: 1 if x == 'Yes' else 0)\n",
        "test_data['жалобы'] = test_data['жалобы'].apply(lambda x: 1 if x == 'Yes' else 0)\n",
        "\n",
        "test_data['тип_региона_проживания'] = test_data['тип_региона_проживания'].fillna('Town')\n",
        "test_data['баллы'] = test_data['баллы'].fillna(0)\n",
        "\n",
        "mask = test_data['реферальная_ссылка']=='?'\n",
        "test_data.loc[mask, 'реферальная_ссылка'] = 'No'\n",
        "test_data['реферальная_ссылка'] = test_data['реферальная_ссылка'].apply(lambda x: 1 if x == 'Yes' else 0)\n",
        "\n",
        "mask = test_data['пол']=='Unknown'\n",
        "test_data.loc[mask, 'пол'] = 'F'\n",
        "test_data['пол'] = test_data['пол'].apply(lambda x: 1 if x == 'M' else 0)"
      ],
      "execution_count": null,
      "outputs": []
    },
    {
      "cell_type": "code",
      "metadata": {
        "colab": {
          "base_uri": "https://localhost:8080/"
        },
        "id": "PrIK3C__gDOq",
        "outputId": "a8c24d46-17bd-45f7-e38e-a2e1748194a6"
      },
      "source": [
        "categorical_columns"
      ],
      "execution_count": null,
      "outputs": [
        {
          "output_type": "execute_result",
          "data": {
            "text/plain": [
              "['тип_региона_проживания',\n",
              " 'тип_обслуживания',\n",
              " 'устройство',\n",
              " 'статус_жалобы',\n",
              " 'фидбек']"
            ]
          },
          "metadata": {
            "tags": []
          },
          "execution_count": 52
        }
      ]
    },
    {
      "cell_type": "code",
      "metadata": {
        "colab": {
          "base_uri": "https://localhost:8080/",
          "height": 369
        },
        "id": "BBQI_xoif7wO",
        "outputId": "ca92bdac-2014-4a6f-8ec1-d92e5d184b55"
      },
      "source": [
        "test_data.head()"
      ],
      "execution_count": null,
      "outputs": [
        {
          "output_type": "execute_result",
          "data": {
            "text/html": [
              "<div>\n",
              "<style scoped>\n",
              "    .dataframe tbody tr th:only-of-type {\n",
              "        vertical-align: middle;\n",
              "    }\n",
              "\n",
              "    .dataframe tbody tr th {\n",
              "        vertical-align: top;\n",
              "    }\n",
              "\n",
              "    .dataframe thead th {\n",
              "        text-align: right;\n",
              "    }\n",
              "</style>\n",
              "<table border=\"1\" class=\"dataframe\">\n",
              "  <thead>\n",
              "    <tr style=\"text-align: right;\">\n",
              "      <th></th>\n",
              "      <th>возраст</th>\n",
              "      <th>пол</th>\n",
              "      <th>тип_региона_проживания</th>\n",
              "      <th>тип_обслуживания</th>\n",
              "      <th>дата_регистрации</th>\n",
              "      <th>реферальная_ссылка</th>\n",
              "      <th>устройство</th>\n",
              "      <th>дней_с_момента_последнего_логина</th>\n",
              "      <th>среднее_время</th>\n",
              "      <th>средний_чек</th>\n",
              "      <th>баллы</th>\n",
              "      <th>скидки</th>\n",
              "      <th>жалобы</th>\n",
              "      <th>статус_жалобы</th>\n",
              "      <th>фидбек</th>\n",
              "    </tr>\n",
              "  </thead>\n",
              "  <tbody>\n",
              "    <tr>\n",
              "      <th>0</th>\n",
              "      <td>30</td>\n",
              "      <td>0</td>\n",
              "      <td>City</td>\n",
              "      <td>No Membership</td>\n",
              "      <td>2269</td>\n",
              "      <td>1</td>\n",
              "      <td>Both</td>\n",
              "      <td>5</td>\n",
              "      <td>326.140000</td>\n",
              "      <td>19503.09</td>\n",
              "      <td>694.520000</td>\n",
              "      <td>0</td>\n",
              "      <td>0</td>\n",
              "      <td>Not Applicable</td>\n",
              "      <td>Poor Product Quality</td>\n",
              "    </tr>\n",
              "    <tr>\n",
              "      <th>1</th>\n",
              "      <td>29</td>\n",
              "      <td>0</td>\n",
              "      <td>Town</td>\n",
              "      <td>No Membership</td>\n",
              "      <td>1224</td>\n",
              "      <td>0</td>\n",
              "      <td>?</td>\n",
              "      <td>15</td>\n",
              "      <td>338.230000</td>\n",
              "      <td>6648.41</td>\n",
              "      <td>0.000000</td>\n",
              "      <td>0</td>\n",
              "      <td>0</td>\n",
              "      <td>Not Applicable</td>\n",
              "      <td>Too many ads</td>\n",
              "    </tr>\n",
              "    <tr>\n",
              "      <th>2</th>\n",
              "      <td>10</td>\n",
              "      <td>0</td>\n",
              "      <td>Town</td>\n",
              "      <td>Basic Membership</td>\n",
              "      <td>2109</td>\n",
              "      <td>0</td>\n",
              "      <td>Smartphone</td>\n",
              "      <td>13</td>\n",
              "      <td>154.050000</td>\n",
              "      <td>5415.97</td>\n",
              "      <td>866.803902</td>\n",
              "      <td>0</td>\n",
              "      <td>0</td>\n",
              "      <td>Not Applicable</td>\n",
              "      <td>Too many ads</td>\n",
              "    </tr>\n",
              "    <tr>\n",
              "      <th>3</th>\n",
              "      <td>55</td>\n",
              "      <td>0</td>\n",
              "      <td>City</td>\n",
              "      <td>Silver Membership</td>\n",
              "      <td>1215</td>\n",
              "      <td>1</td>\n",
              "      <td>?</td>\n",
              "      <td>13</td>\n",
              "      <td>1227.654536</td>\n",
              "      <td>5576.82</td>\n",
              "      <td>686.090000</td>\n",
              "      <td>0</td>\n",
              "      <td>0</td>\n",
              "      <td>Solved in Follow-up</td>\n",
              "      <td>Poor Product Quality</td>\n",
              "    </tr>\n",
              "    <tr>\n",
              "      <th>4</th>\n",
              "      <td>42</td>\n",
              "      <td>0</td>\n",
              "      <td>Village</td>\n",
              "      <td>Gold Membership</td>\n",
              "      <td>1390</td>\n",
              "      <td>0</td>\n",
              "      <td>?</td>\n",
              "      <td>11</td>\n",
              "      <td>69.330000</td>\n",
              "      <td>39146.00</td>\n",
              "      <td>666.440000</td>\n",
              "      <td>0</td>\n",
              "      <td>0</td>\n",
              "      <td>Not Applicable</td>\n",
              "      <td>Poor Website</td>\n",
              "    </tr>\n",
              "  </tbody>\n",
              "</table>\n",
              "</div>"
            ],
            "text/plain": [
              "   возраст  пол  ...        статус_жалобы                фидбек\n",
              "0       30    0  ...       Not Applicable  Poor Product Quality\n",
              "1       29    0  ...       Not Applicable          Too many ads\n",
              "2       10    0  ...       Not Applicable          Too many ads\n",
              "3       55    0  ...  Solved in Follow-up  Poor Product Quality\n",
              "4       42    0  ...       Not Applicable          Poor Website\n",
              "\n",
              "[5 rows x 15 columns]"
            ]
          },
          "metadata": {
            "tags": []
          },
          "execution_count": 53
        }
      ]
    },
    {
      "cell_type": "code",
      "metadata": {
        "id": "3ckE0clLw2im",
        "colab": {
          "base_uri": "https://localhost:8080/",
          "height": 254
        },
        "outputId": "ea545abc-f21d-4db6-9157-1e3ac3c9ab65"
      },
      "source": [
        "test_data = pd.get_dummies(test_data, categorical_columns)\n",
        "test_data.head()"
      ],
      "execution_count": null,
      "outputs": [
        {
          "output_type": "execute_result",
          "data": {
            "text/html": [
              "<div>\n",
              "<style scoped>\n",
              "    .dataframe tbody tr th:only-of-type {\n",
              "        vertical-align: middle;\n",
              "    }\n",
              "\n",
              "    .dataframe tbody tr th {\n",
              "        vertical-align: top;\n",
              "    }\n",
              "\n",
              "    .dataframe thead th {\n",
              "        text-align: right;\n",
              "    }\n",
              "</style>\n",
              "<table border=\"1\" class=\"dataframe\">\n",
              "  <thead>\n",
              "    <tr style=\"text-align: right;\">\n",
              "      <th></th>\n",
              "      <th>возраст</th>\n",
              "      <th>пол</th>\n",
              "      <th>дата_регистрации</th>\n",
              "      <th>реферальная_ссылка</th>\n",
              "      <th>дней_с_момента_последнего_логина</th>\n",
              "      <th>среднее_время</th>\n",
              "      <th>средний_чек</th>\n",
              "      <th>баллы</th>\n",
              "      <th>скидки</th>\n",
              "      <th>жалобы</th>\n",
              "      <th>тип_региона_проживания_City</th>\n",
              "      <th>тип_региона_проживания_Town</th>\n",
              "      <th>тип_региона_проживания_Village</th>\n",
              "      <th>тип_обслуживания_Basic Membership</th>\n",
              "      <th>тип_обслуживания_Gold Membership</th>\n",
              "      <th>тип_обслуживания_No Membership</th>\n",
              "      <th>тип_обслуживания_Platinum Membership</th>\n",
              "      <th>тип_обслуживания_Premium Membership</th>\n",
              "      <th>тип_обслуживания_Silver Membership</th>\n",
              "      <th>устройство_?</th>\n",
              "      <th>устройство_Both</th>\n",
              "      <th>устройство_Desktop</th>\n",
              "      <th>устройство_Smartphone</th>\n",
              "      <th>статус_жалобы_No Information Available</th>\n",
              "      <th>статус_жалобы_Not Applicable</th>\n",
              "      <th>статус_жалобы_Solved</th>\n",
              "      <th>статус_жалобы_Solved in Follow-up</th>\n",
              "      <th>статус_жалобы_Unsolved</th>\n",
              "      <th>фидбек_No reason specified</th>\n",
              "      <th>фидбек_Poor Customer Service</th>\n",
              "      <th>фидбек_Poor Product Quality</th>\n",
              "      <th>фидбек_Poor Website</th>\n",
              "      <th>фидбек_Products always in Stock</th>\n",
              "      <th>фидбек_Quality Customer Care</th>\n",
              "      <th>фидбек_Reasonable Price</th>\n",
              "      <th>фидбек_Too many ads</th>\n",
              "      <th>фидбек_User Friendly Website</th>\n",
              "    </tr>\n",
              "  </thead>\n",
              "  <tbody>\n",
              "    <tr>\n",
              "      <th>0</th>\n",
              "      <td>30</td>\n",
              "      <td>0</td>\n",
              "      <td>2269</td>\n",
              "      <td>1</td>\n",
              "      <td>5</td>\n",
              "      <td>326.140000</td>\n",
              "      <td>19503.09</td>\n",
              "      <td>694.520000</td>\n",
              "      <td>0</td>\n",
              "      <td>0</td>\n",
              "      <td>1</td>\n",
              "      <td>0</td>\n",
              "      <td>0</td>\n",
              "      <td>0</td>\n",
              "      <td>0</td>\n",
              "      <td>1</td>\n",
              "      <td>0</td>\n",
              "      <td>0</td>\n",
              "      <td>0</td>\n",
              "      <td>0</td>\n",
              "      <td>1</td>\n",
              "      <td>0</td>\n",
              "      <td>0</td>\n",
              "      <td>0</td>\n",
              "      <td>1</td>\n",
              "      <td>0</td>\n",
              "      <td>0</td>\n",
              "      <td>0</td>\n",
              "      <td>0</td>\n",
              "      <td>0</td>\n",
              "      <td>1</td>\n",
              "      <td>0</td>\n",
              "      <td>0</td>\n",
              "      <td>0</td>\n",
              "      <td>0</td>\n",
              "      <td>0</td>\n",
              "      <td>0</td>\n",
              "    </tr>\n",
              "    <tr>\n",
              "      <th>1</th>\n",
              "      <td>29</td>\n",
              "      <td>0</td>\n",
              "      <td>1224</td>\n",
              "      <td>0</td>\n",
              "      <td>15</td>\n",
              "      <td>338.230000</td>\n",
              "      <td>6648.41</td>\n",
              "      <td>0.000000</td>\n",
              "      <td>0</td>\n",
              "      <td>0</td>\n",
              "      <td>0</td>\n",
              "      <td>1</td>\n",
              "      <td>0</td>\n",
              "      <td>0</td>\n",
              "      <td>0</td>\n",
              "      <td>1</td>\n",
              "      <td>0</td>\n",
              "      <td>0</td>\n",
              "      <td>0</td>\n",
              "      <td>1</td>\n",
              "      <td>0</td>\n",
              "      <td>0</td>\n",
              "      <td>0</td>\n",
              "      <td>0</td>\n",
              "      <td>1</td>\n",
              "      <td>0</td>\n",
              "      <td>0</td>\n",
              "      <td>0</td>\n",
              "      <td>0</td>\n",
              "      <td>0</td>\n",
              "      <td>0</td>\n",
              "      <td>0</td>\n",
              "      <td>0</td>\n",
              "      <td>0</td>\n",
              "      <td>0</td>\n",
              "      <td>1</td>\n",
              "      <td>0</td>\n",
              "    </tr>\n",
              "    <tr>\n",
              "      <th>2</th>\n",
              "      <td>10</td>\n",
              "      <td>0</td>\n",
              "      <td>2109</td>\n",
              "      <td>0</td>\n",
              "      <td>13</td>\n",
              "      <td>154.050000</td>\n",
              "      <td>5415.97</td>\n",
              "      <td>866.803902</td>\n",
              "      <td>0</td>\n",
              "      <td>0</td>\n",
              "      <td>0</td>\n",
              "      <td>1</td>\n",
              "      <td>0</td>\n",
              "      <td>1</td>\n",
              "      <td>0</td>\n",
              "      <td>0</td>\n",
              "      <td>0</td>\n",
              "      <td>0</td>\n",
              "      <td>0</td>\n",
              "      <td>0</td>\n",
              "      <td>0</td>\n",
              "      <td>0</td>\n",
              "      <td>1</td>\n",
              "      <td>0</td>\n",
              "      <td>1</td>\n",
              "      <td>0</td>\n",
              "      <td>0</td>\n",
              "      <td>0</td>\n",
              "      <td>0</td>\n",
              "      <td>0</td>\n",
              "      <td>0</td>\n",
              "      <td>0</td>\n",
              "      <td>0</td>\n",
              "      <td>0</td>\n",
              "      <td>0</td>\n",
              "      <td>1</td>\n",
              "      <td>0</td>\n",
              "    </tr>\n",
              "    <tr>\n",
              "      <th>3</th>\n",
              "      <td>55</td>\n",
              "      <td>0</td>\n",
              "      <td>1215</td>\n",
              "      <td>1</td>\n",
              "      <td>13</td>\n",
              "      <td>1227.654536</td>\n",
              "      <td>5576.82</td>\n",
              "      <td>686.090000</td>\n",
              "      <td>0</td>\n",
              "      <td>0</td>\n",
              "      <td>1</td>\n",
              "      <td>0</td>\n",
              "      <td>0</td>\n",
              "      <td>0</td>\n",
              "      <td>0</td>\n",
              "      <td>0</td>\n",
              "      <td>0</td>\n",
              "      <td>0</td>\n",
              "      <td>1</td>\n",
              "      <td>1</td>\n",
              "      <td>0</td>\n",
              "      <td>0</td>\n",
              "      <td>0</td>\n",
              "      <td>0</td>\n",
              "      <td>0</td>\n",
              "      <td>0</td>\n",
              "      <td>1</td>\n",
              "      <td>0</td>\n",
              "      <td>0</td>\n",
              "      <td>0</td>\n",
              "      <td>1</td>\n",
              "      <td>0</td>\n",
              "      <td>0</td>\n",
              "      <td>0</td>\n",
              "      <td>0</td>\n",
              "      <td>0</td>\n",
              "      <td>0</td>\n",
              "    </tr>\n",
              "    <tr>\n",
              "      <th>4</th>\n",
              "      <td>42</td>\n",
              "      <td>0</td>\n",
              "      <td>1390</td>\n",
              "      <td>0</td>\n",
              "      <td>11</td>\n",
              "      <td>69.330000</td>\n",
              "      <td>39146.00</td>\n",
              "      <td>666.440000</td>\n",
              "      <td>0</td>\n",
              "      <td>0</td>\n",
              "      <td>0</td>\n",
              "      <td>0</td>\n",
              "      <td>1</td>\n",
              "      <td>0</td>\n",
              "      <td>1</td>\n",
              "      <td>0</td>\n",
              "      <td>0</td>\n",
              "      <td>0</td>\n",
              "      <td>0</td>\n",
              "      <td>1</td>\n",
              "      <td>0</td>\n",
              "      <td>0</td>\n",
              "      <td>0</td>\n",
              "      <td>0</td>\n",
              "      <td>1</td>\n",
              "      <td>0</td>\n",
              "      <td>0</td>\n",
              "      <td>0</td>\n",
              "      <td>0</td>\n",
              "      <td>0</td>\n",
              "      <td>0</td>\n",
              "      <td>1</td>\n",
              "      <td>0</td>\n",
              "      <td>0</td>\n",
              "      <td>0</td>\n",
              "      <td>0</td>\n",
              "      <td>0</td>\n",
              "    </tr>\n",
              "  </tbody>\n",
              "</table>\n",
              "</div>"
            ],
            "text/plain": [
              "   возраст  пол  ...  фидбек_Too many ads  фидбек_User Friendly Website\n",
              "0       30    0  ...                    0                             0\n",
              "1       29    0  ...                    1                             0\n",
              "2       10    0  ...                    1                             0\n",
              "3       55    0  ...                    0                             0\n",
              "4       42    0  ...                    0                             0\n",
              "\n",
              "[5 rows x 37 columns]"
            ]
          },
          "metadata": {
            "tags": []
          },
          "execution_count": 54
        }
      ]
    },
    {
      "cell_type": "code",
      "metadata": {
        "colab": {
          "base_uri": "https://localhost:8080/"
        },
        "id": "VRhSlJRogZRg",
        "outputId": "22c78905-d489-41b2-cca6-2d85a9b71209"
      },
      "source": [
        "train_data.shape, test_data.shape"
      ],
      "execution_count": null,
      "outputs": [
        {
          "output_type": "execute_result",
          "data": {
            "text/plain": [
              "((29544, 16), (7399, 15))"
            ]
          },
          "metadata": {
            "tags": []
          },
          "execution_count": 104
        }
      ]
    },
    {
      "cell_type": "markdown",
      "metadata": {
        "id": "i40GUM46w2im"
      },
      "source": [
        "## Получаем предскзаания моделей:"
      ]
    },
    {
      "cell_type": "code",
      "metadata": {
        "id": "UZDpvzKIw2im"
      },
      "source": [
        "y_test_linreg = linreg.predict(test_data)"
      ],
      "execution_count": null,
      "outputs": []
    },
    {
      "cell_type": "code",
      "metadata": {
        "id": "kL4CMgENw2im"
      },
      "source": [
        "y_test_rf = rf.predict(test_data)"
      ],
      "execution_count": null,
      "outputs": []
    },
    {
      "cell_type": "code",
      "metadata": {
        "id": "_jNlzsTAw2in"
      },
      "source": [
        "y_test_gb = gb.predict(test_data)"
      ],
      "execution_count": null,
      "outputs": []
    },
    {
      "cell_type": "markdown",
      "metadata": {
        "id": "cxtP3vhCw2in"
      },
      "source": [
        "## Тестируем полученное решение"
      ]
    },
    {
      "cell_type": "code",
      "metadata": {
        "id": "KwGeLknfw2in"
      },
      "source": [
        "y_test_true = np.array(pd.read_csv('./test_answer.csv')).flatten()"
      ],
      "execution_count": null,
      "outputs": []
    },
    {
      "cell_type": "code",
      "metadata": {
        "id": "QSkNuWgLw2io",
        "colab": {
          "base_uri": "https://localhost:8080/"
        },
        "outputId": "05c44ca2-7e64-43be-9fb7-a8238eb54d93"
      },
      "source": [
        "y_test_true"
      ],
      "execution_count": null,
      "outputs": [
        {
          "output_type": "execute_result",
          "data": {
            "text/plain": [
              "array([4, 4, 5, ..., 4, 5, 1])"
            ]
          },
          "metadata": {
            "tags": []
          },
          "execution_count": 65
        }
      ]
    },
    {
      "cell_type": "code",
      "metadata": {
        "id": "6nN1Lfxvw2io",
        "outputId": "6418eee1-9723-4525-9906-88433407f229"
      },
      "source": [
        "plt.hist(y_test_true);"
      ],
      "execution_count": null,
      "outputs": [
        {
          "output_type": "display_data",
          "data": {
            "image/png": "[encoded data removed]",
            "text/plain": [
              "<Figure size 432x288 with 1 Axes>"
            ]
          },
          "metadata": {
            "tags": [],
            "needs_background": "light"
          }
        }
      ]
    },
    {
      "cell_type": "code",
      "metadata": {
        "id": "jBlMYRDHw2ip",
        "outputId": "4c729652-76a2-4788-bb38-48c28cccef64"
      },
      "source": [
        "plt.hist(y_test_rf);"
      ],
      "execution_count": null,
      "outputs": [
        {
          "output_type": "display_data",
          "data": {
            "image/png": "[encoded data removed]",
            "text/plain": [
              "<Figure size 432x288 with 1 Axes>"
            ]
          },
          "metadata": {
            "tags": [],
            "needs_background": "light"
          }
        }
      ]
    },
    {
      "cell_type": "code",
      "metadata": {
        "id": "jshe6z55w2iq",
        "colab": {
          "base_uri": "https://localhost:8080/"
        },
        "outputId": "c0131047-b7a1-490e-a7c7-fa80cd4376d3"
      },
      "source": [
        "mean_squared_error(y_test_linreg, y_test_true)"
      ],
      "execution_count": null,
      "outputs": [
        {
          "output_type": "execute_result",
          "data": {
            "text/plain": [
              "0.8223351808975198"
            ]
          },
          "metadata": {
            "tags": []
          },
          "execution_count": 66
        }
      ]
    },
    {
      "cell_type": "code",
      "metadata": {
        "id": "m5CkwuOrw2iq",
        "colab": {
          "base_uri": "https://localhost:8080/"
        },
        "outputId": "71d8bc16-12b7-47b5-ca5c-d98046257f72"
      },
      "source": [
        "(200 - sum((y_test_linreg - y_test_true)**2)**0.5) / 20"
      ],
      "execution_count": null,
      "outputs": [
        {
          "output_type": "execute_result",
          "data": {
            "text/plain": [
              "6.099853206781588"
            ]
          },
          "metadata": {
            "tags": []
          },
          "execution_count": 67
        }
      ]
    },
    {
      "cell_type": "code",
      "metadata": {
        "id": "M4u07JD5w2ir",
        "colab": {
          "base_uri": "https://localhost:8080/"
        },
        "outputId": "7dd42021-7330-4850-9229-9fd8faeb16b9"
      },
      "source": [
        "(200 - sum((y_test_rf - y_test_true)**2)**0.5) / 20"
      ],
      "execution_count": null,
      "outputs": [
        {
          "output_type": "execute_result",
          "data": {
            "text/plain": [
              "6.248396055229982"
            ]
          },
          "metadata": {
            "tags": []
          },
          "execution_count": 68
        }
      ]
    },
    {
      "cell_type": "code",
      "metadata": {
        "id": "1ZuFLkFyw2is",
        "colab": {
          "base_uri": "https://localhost:8080/"
        },
        "outputId": "b901400e-7709-462f-fa00-99190efba64b"
      },
      "source": [
        "(200 - sum((y_test_gb - y_test_true)**2)**0.5) / 20"
      ],
      "execution_count": null,
      "outputs": [
        {
          "output_type": "execute_result",
          "data": {
            "text/plain": [
              "6.150496539592652"
            ]
          },
          "metadata": {
            "tags": []
          },
          "execution_count": 69
        }
      ]
    },
    {
      "cell_type": "markdown",
      "metadata": {
        "id": "3QzROLZEw2it"
      },
      "source": [
        "## Пробуем CatBoost"
      ]
    },
    {
      "cell_type": "markdown",
      "metadata": {
        "id": "w932pQUyw2it"
      },
      "source": [
        "CatBoost умеет работать с категориальными признаками, поэтому для него предобработаем данные точно так же, как и для моделей выше, но не будем бинаризовать категориальные переменные."
      ]
    },
    {
      "cell_type": "code",
      "metadata": {
        "colab": {
          "base_uri": "https://localhost:8080/"
        },
        "id": "uBRNngVBhbM7",
        "outputId": "c054656c-7179-45c2-f172-422ed43d6d31"
      },
      "source": [
        "! pip install catboost"
      ],
      "execution_count": null,
      "outputs": [
        {
          "output_type": "stream",
          "text": [
            "Collecting catboost\n",
            "\u001b[?25l  Downloading https://files.pythonhosted.org/packages/1e/21/d1718eb4c93d6bacdd540b3792187f32ccb1ad9c51b9c4f10875d63ec176/catboost-0.25-cp37-none-manylinux1_x86_64.whl (67.3MB)\n",
            "\u001b[K     |████████████████████████████████| 67.3MB 69kB/s \n",
            "\u001b[?25hRequirement already satisfied: matplotlib in /usr/local/lib/python3.7/dist-packages (from catboost) (3.2.2)\n",
            "Requirement already satisfied: pandas>=0.24.0 in /usr/local/lib/python3.7/dist-packages (from catboost) (1.1.5)\n",
            "Requirement already satisfied: numpy>=1.16.0 in /usr/local/lib/python3.7/dist-packages (from catboost) (1.19.5)\n",
            "Requirement already satisfied: plotly in /usr/local/lib/python3.7/dist-packages (from catboost) (4.4.1)\n",
            "Requirement already satisfied: six in /usr/local/lib/python3.7/dist-packages (from catboost) (1.15.0)\n",
            "Requirement already satisfied: scipy in /usr/local/lib/python3.7/dist-packages (from catboost) (1.4.1)\n",
            "Requirement already satisfied: graphviz in /usr/local/lib/python3.7/dist-packages (from catboost) (0.10.1)\n",
            "Requirement already satisfied: kiwisolver>=1.0.1 in /usr/local/lib/python3.7/dist-packages (from matplotlib->catboost) (1.3.1)\n",
            "Requirement already satisfied: pyparsing!=2.0.4,!=2.1.2,!=2.1.6,>=2.0.1 in /usr/local/lib/python3.7/dist-packages (from matplotlib->catboost) (2.4.7)\n",
            "Requirement already satisfied: cycler>=0.10 in /usr/local/lib/python3.7/dist-packages (from matplotlib->catboost) (0.10.0)\n",
            "Requirement already satisfied: python-dateutil>=2.1 in /usr/local/lib/python3.7/dist-packages (from matplotlib->catboost) (2.8.1)\n",
            "Requirement already satisfied: pytz>=2017.2 in /usr/local/lib/python3.7/dist-packages (from pandas>=0.24.0->catboost) (2018.9)\n",
            "Requirement already satisfied: retrying>=1.3.3 in /usr/local/lib/python3.7/dist-packages (from plotly->catboost) (1.3.3)\n",
            "Installing collected packages: catboost\n",
            "Successfully installed catboost-0.25\n"
          ],
          "name": "stdout"
        }
      ]
    },
    {
      "cell_type": "code",
      "metadata": {
        "id": "jyRnmcoYw2it"
      },
      "source": [
        "from catboost import CatBoostRegressor, Pool"
      ],
      "execution_count": null,
      "outputs": []
    },
    {
      "cell_type": "code",
      "metadata": {
        "id": "eM6j7Xw6hq7s"
      },
      "source": [
        "categorical_columns = [x for x in train_data.columns if train_data[x].dtype == 'object']"
      ],
      "execution_count": null,
      "outputs": []
    },
    {
      "cell_type": "code",
      "metadata": {
        "id": "kE2x4efZw2it",
        "colab": {
          "base_uri": "https://localhost:8080/"
        },
        "outputId": "d79fe100-969c-49eb-eef2-ff7caf09fdc3"
      },
      "source": [
        "model = CatBoostRegressor(iterations=500,\n",
        "                           depth=3,\n",
        "                           learning_rate=0.1,\n",
        "                           loss_function='RMSE',\n",
        "                           cat_features=categorical_columns,\n",
        "                           verbose=True)\n",
        "# train the model\n",
        "model.fit(X, y)"
      ],
      "execution_count": null,
      "outputs": [
        {
          "output_type": "stream",
          "text": [
            "0:\tlearn: 1.3372716\ttotal: 64.7ms\tremaining: 32.3s\n",
            "1:\tlearn: 1.2742520\ttotal: 79.1ms\tremaining: 19.7s\n",
            "2:\tlearn: 1.2202224\ttotal: 88.3ms\tremaining: 14.6s\n",
            "3:\tlearn: 1.1727003\ttotal: 102ms\tremaining: 12.7s\n",
            "4:\tlearn: 1.1333383\ttotal: 112ms\tremaining: 11s\n",
            "5:\tlearn: 1.0990854\ttotal: 121ms\tremaining: 9.94s\n",
            "6:\tlearn: 1.0708760\ttotal: 130ms\tremaining: 9.16s\n",
            "7:\tlearn: 1.0474047\ttotal: 139ms\tremaining: 8.54s\n",
            "8:\tlearn: 1.0279305\ttotal: 148ms\tremaining: 8.08s\n",
            "9:\tlearn: 1.0119891\ttotal: 157ms\tremaining: 7.71s\n",
            "10:\tlearn: 0.9984903\ttotal: 173ms\tremaining: 7.69s\n",
            "11:\tlearn: 0.9873364\ttotal: 182ms\tremaining: 7.41s\n",
            "12:\tlearn: 0.9783751\ttotal: 191ms\tremaining: 7.17s\n",
            "13:\tlearn: 0.9710019\ttotal: 200ms\tremaining: 6.96s\n",
            "14:\tlearn: 0.9644990\ttotal: 210ms\tremaining: 6.78s\n",
            "15:\tlearn: 0.9585426\ttotal: 222ms\tremaining: 6.73s\n",
            "16:\tlearn: 0.9536538\ttotal: 232ms\tremaining: 6.59s\n",
            "17:\tlearn: 0.9498532\ttotal: 241ms\tremaining: 6.44s\n",
            "18:\tlearn: 0.9457833\ttotal: 253ms\tremaining: 6.41s\n",
            "19:\tlearn: 0.9426761\ttotal: 266ms\tremaining: 6.38s\n",
            "20:\tlearn: 0.9398492\ttotal: 278ms\tremaining: 6.35s\n",
            "21:\tlearn: 0.9363118\ttotal: 291ms\tremaining: 6.32s\n",
            "22:\tlearn: 0.9342715\ttotal: 301ms\tremaining: 6.24s\n",
            "23:\tlearn: 0.9320613\ttotal: 314ms\tremaining: 6.22s\n",
            "24:\tlearn: 0.9302869\ttotal: 327ms\tremaining: 6.21s\n",
            "25:\tlearn: 0.9292380\ttotal: 336ms\tremaining: 6.13s\n",
            "26:\tlearn: 0.9271992\ttotal: 351ms\tremaining: 6.14s\n",
            "27:\tlearn: 0.9254707\ttotal: 365ms\tremaining: 6.15s\n",
            "28:\tlearn: 0.9241186\ttotal: 377ms\tremaining: 6.12s\n",
            "29:\tlearn: 0.9229412\ttotal: 389ms\tremaining: 6.1s\n",
            "30:\tlearn: 0.9225733\ttotal: 401ms\tremaining: 6.07s\n",
            "31:\tlearn: 0.9219637\ttotal: 413ms\tremaining: 6.04s\n",
            "32:\tlearn: 0.9214915\ttotal: 423ms\tremaining: 5.99s\n",
            "33:\tlearn: 0.9208773\ttotal: 439ms\tremaining: 6.01s\n",
            "34:\tlearn: 0.9202461\ttotal: 451ms\tremaining: 6s\n",
            "35:\tlearn: 0.9199072\ttotal: 461ms\tremaining: 5.94s\n",
            "36:\tlearn: 0.9193988\ttotal: 477ms\tremaining: 5.97s\n",
            "37:\tlearn: 0.9189084\ttotal: 493ms\tremaining: 5.99s\n",
            "38:\tlearn: 0.9181983\ttotal: 509ms\tremaining: 6.01s\n",
            "39:\tlearn: 0.9177960\ttotal: 523ms\tremaining: 6.02s\n",
            "40:\tlearn: 0.9174528\ttotal: 538ms\tremaining: 6.02s\n",
            "41:\tlearn: 0.9171169\ttotal: 549ms\tremaining: 5.99s\n",
            "42:\tlearn: 0.9167172\ttotal: 561ms\tremaining: 5.97s\n",
            "43:\tlearn: 0.9162843\ttotal: 576ms\tremaining: 5.97s\n",
            "44:\tlearn: 0.9158291\ttotal: 589ms\tremaining: 5.95s\n",
            "45:\tlearn: 0.9158291\ttotal: 597ms\tremaining: 5.89s\n",
            "46:\tlearn: 0.9156124\ttotal: 610ms\tremaining: 5.88s\n",
            "47:\tlearn: 0.9154228\ttotal: 623ms\tremaining: 5.86s\n",
            "48:\tlearn: 0.9152160\ttotal: 638ms\tremaining: 5.87s\n",
            "49:\tlearn: 0.9150146\ttotal: 653ms\tremaining: 5.88s\n",
            "50:\tlearn: 0.9150044\ttotal: 666ms\tremaining: 5.86s\n",
            "51:\tlearn: 0.9148251\ttotal: 682ms\tremaining: 5.87s\n",
            "52:\tlearn: 0.9148244\ttotal: 691ms\tremaining: 5.83s\n",
            "53:\tlearn: 0.9144447\ttotal: 705ms\tremaining: 5.82s\n",
            "54:\tlearn: 0.9143546\ttotal: 729ms\tremaining: 5.9s\n",
            "55:\tlearn: 0.9143295\ttotal: 754ms\tremaining: 5.98s\n",
            "56:\tlearn: 0.9139457\ttotal: 768ms\tremaining: 5.97s\n",
            "57:\tlearn: 0.9139035\ttotal: 780ms\tremaining: 5.95s\n",
            "58:\tlearn: 0.9138434\ttotal: 794ms\tremaining: 5.94s\n",
            "59:\tlearn: 0.9136195\ttotal: 808ms\tremaining: 5.93s\n",
            "60:\tlearn: 0.9134814\ttotal: 821ms\tremaining: 5.91s\n",
            "61:\tlearn: 0.9134438\ttotal: 833ms\tremaining: 5.88s\n",
            "62:\tlearn: 0.9134341\ttotal: 842ms\tremaining: 5.84s\n",
            "63:\tlearn: 0.9134239\ttotal: 855ms\tremaining: 5.82s\n",
            "64:\tlearn: 0.9134029\ttotal: 867ms\tremaining: 5.8s\n",
            "65:\tlearn: 0.9133862\ttotal: 883ms\tremaining: 5.81s\n",
            "66:\tlearn: 0.9133859\ttotal: 893ms\tremaining: 5.77s\n",
            "67:\tlearn: 0.9133798\ttotal: 902ms\tremaining: 5.73s\n",
            "68:\tlearn: 0.9133621\ttotal: 920ms\tremaining: 5.75s\n",
            "69:\tlearn: 0.9133295\ttotal: 934ms\tremaining: 5.74s\n",
            "70:\tlearn: 0.9133292\ttotal: 943ms\tremaining: 5.7s\n",
            "71:\tlearn: 0.9133170\ttotal: 952ms\tremaining: 5.66s\n",
            "72:\tlearn: 0.9132842\ttotal: 963ms\tremaining: 5.63s\n",
            "73:\tlearn: 0.9132842\ttotal: 971ms\tremaining: 5.59s\n",
            "74:\tlearn: 0.9131950\ttotal: 986ms\tremaining: 5.59s\n",
            "75:\tlearn: 0.9130210\ttotal: 999ms\tremaining: 5.57s\n",
            "76:\tlearn: 0.9126752\ttotal: 1.01s\tremaining: 5.57s\n",
            "77:\tlearn: 0.9125609\ttotal: 1.03s\tremaining: 5.55s\n",
            "78:\tlearn: 0.9125398\ttotal: 1.04s\tremaining: 5.54s\n",
            "79:\tlearn: 0.9125398\ttotal: 1.04s\tremaining: 5.49s\n",
            "80:\tlearn: 0.9125397\ttotal: 1.06s\tremaining: 5.49s\n",
            "81:\tlearn: 0.9125059\ttotal: 1.07s\tremaining: 5.47s\n",
            "82:\tlearn: 0.9125059\ttotal: 1.09s\tremaining: 5.47s\n",
            "83:\tlearn: 0.9124148\ttotal: 1.1s\tremaining: 5.47s\n",
            "84:\tlearn: 0.9124096\ttotal: 1.11s\tremaining: 5.44s\n",
            "85:\tlearn: 0.9124096\ttotal: 1.12s\tremaining: 5.39s\n",
            "86:\tlearn: 0.9123325\ttotal: 1.14s\tremaining: 5.39s\n",
            "87:\tlearn: 0.9123000\ttotal: 1.15s\tremaining: 5.38s\n",
            "88:\tlearn: 0.9120842\ttotal: 1.17s\tremaining: 5.39s\n",
            "89:\tlearn: 0.9118163\ttotal: 1.18s\tremaining: 5.38s\n",
            "90:\tlearn: 0.9115905\ttotal: 1.2s\tremaining: 5.37s\n",
            "91:\tlearn: 0.9115536\ttotal: 1.21s\tremaining: 5.36s\n",
            "92:\tlearn: 0.9115536\ttotal: 1.22s\tremaining: 5.32s\n",
            "93:\tlearn: 0.9114637\ttotal: 1.23s\tremaining: 5.32s\n",
            "94:\tlearn: 0.9114459\ttotal: 1.24s\tremaining: 5.3s\n",
            "95:\tlearn: 0.9114433\ttotal: 1.25s\tremaining: 5.28s\n",
            "96:\tlearn: 0.9113730\ttotal: 1.27s\tremaining: 5.27s\n",
            "97:\tlearn: 0.9111530\ttotal: 1.28s\tremaining: 5.27s\n",
            "98:\tlearn: 0.9111387\ttotal: 1.3s\tremaining: 5.27s\n",
            "99:\tlearn: 0.9110865\ttotal: 1.31s\tremaining: 5.26s\n",
            "100:\tlearn: 0.9110865\ttotal: 1.32s\tremaining: 5.22s\n",
            "101:\tlearn: 0.9110305\ttotal: 1.34s\tremaining: 5.22s\n",
            "102:\tlearn: 0.9109206\ttotal: 1.35s\tremaining: 5.21s\n",
            "103:\tlearn: 0.9109203\ttotal: 1.36s\tremaining: 5.19s\n",
            "104:\tlearn: 0.9108817\ttotal: 1.38s\tremaining: 5.18s\n",
            "105:\tlearn: 0.9108227\ttotal: 1.39s\tremaining: 5.17s\n",
            "106:\tlearn: 0.9108200\ttotal: 1.4s\tremaining: 5.15s\n",
            "107:\tlearn: 0.9106005\ttotal: 1.42s\tremaining: 5.14s\n",
            "108:\tlearn: 0.9105987\ttotal: 1.43s\tremaining: 5.12s\n",
            "109:\tlearn: 0.9104082\ttotal: 1.44s\tremaining: 5.11s\n",
            "110:\tlearn: 0.9103473\ttotal: 1.46s\tremaining: 5.1s\n",
            "111:\tlearn: 0.9103473\ttotal: 1.47s\tremaining: 5.08s\n",
            "112:\tlearn: 0.9103378\ttotal: 1.48s\tremaining: 5.06s\n",
            "113:\tlearn: 0.9102690\ttotal: 1.49s\tremaining: 5.05s\n",
            "114:\tlearn: 0.9102620\ttotal: 1.5s\tremaining: 5.04s\n",
            "115:\tlearn: 0.9101575\ttotal: 1.52s\tremaining: 5.03s\n",
            "116:\tlearn: 0.9100890\ttotal: 1.53s\tremaining: 5.02s\n",
            "117:\tlearn: 0.9100217\ttotal: 1.54s\tremaining: 5s\n",
            "118:\tlearn: 0.9100053\ttotal: 1.55s\tremaining: 4.98s\n",
            "119:\tlearn: 0.9099092\ttotal: 1.57s\tremaining: 4.97s\n",
            "120:\tlearn: 0.9098212\ttotal: 1.59s\tremaining: 4.97s\n",
            "121:\tlearn: 0.9097845\ttotal: 1.6s\tremaining: 4.96s\n",
            "122:\tlearn: 0.9097776\ttotal: 1.61s\tremaining: 4.94s\n",
            "123:\tlearn: 0.9097755\ttotal: 1.62s\tremaining: 4.91s\n",
            "124:\tlearn: 0.9097286\ttotal: 1.64s\tremaining: 4.91s\n",
            "125:\tlearn: 0.9097231\ttotal: 1.65s\tremaining: 4.88s\n",
            "126:\tlearn: 0.9096930\ttotal: 1.66s\tremaining: 4.88s\n",
            "127:\tlearn: 0.9095179\ttotal: 1.68s\tremaining: 4.87s\n",
            "128:\tlearn: 0.9094983\ttotal: 1.69s\tremaining: 4.86s\n",
            "129:\tlearn: 0.9094255\ttotal: 1.71s\tremaining: 4.86s\n",
            "130:\tlearn: 0.9093252\ttotal: 1.72s\tremaining: 4.85s\n",
            "131:\tlearn: 0.9092997\ttotal: 1.74s\tremaining: 4.84s\n",
            "132:\tlearn: 0.9092909\ttotal: 1.75s\tremaining: 4.83s\n",
            "133:\tlearn: 0.9092830\ttotal: 1.76s\tremaining: 4.8s\n",
            "134:\tlearn: 0.9092735\ttotal: 1.77s\tremaining: 4.78s\n",
            "135:\tlearn: 0.9092650\ttotal: 1.78s\tremaining: 4.76s\n",
            "136:\tlearn: 0.9091257\ttotal: 1.79s\tremaining: 4.75s\n",
            "137:\tlearn: 0.9090867\ttotal: 1.81s\tremaining: 4.74s\n",
            "138:\tlearn: 0.9090790\ttotal: 1.82s\tremaining: 4.72s\n",
            "139:\tlearn: 0.9090559\ttotal: 1.83s\tremaining: 4.7s\n",
            "140:\tlearn: 0.9090480\ttotal: 1.84s\tremaining: 4.68s\n",
            "141:\tlearn: 0.9090314\ttotal: 1.85s\tremaining: 4.67s\n",
            "142:\tlearn: 0.9089303\ttotal: 1.86s\tremaining: 4.66s\n",
            "143:\tlearn: 0.9089234\ttotal: 1.87s\tremaining: 4.63s\n",
            "144:\tlearn: 0.9088197\ttotal: 1.89s\tremaining: 4.62s\n",
            "145:\tlearn: 0.9088174\ttotal: 1.9s\tremaining: 4.6s\n",
            "146:\tlearn: 0.9087377\ttotal: 1.91s\tremaining: 4.6s\n",
            "147:\tlearn: 0.9086857\ttotal: 1.93s\tremaining: 4.59s\n",
            "148:\tlearn: 0.9086817\ttotal: 1.94s\tremaining: 4.56s\n",
            "149:\tlearn: 0.9085998\ttotal: 1.95s\tremaining: 4.55s\n",
            "150:\tlearn: 0.9085944\ttotal: 1.96s\tremaining: 4.52s\n",
            "151:\tlearn: 0.9085915\ttotal: 1.97s\tremaining: 4.51s\n",
            "152:\tlearn: 0.9085334\ttotal: 1.98s\tremaining: 4.5s\n",
            "153:\tlearn: 0.9085233\ttotal: 2s\tremaining: 4.48s\n",
            "154:\tlearn: 0.9083969\ttotal: 2.01s\tremaining: 4.47s\n",
            "155:\tlearn: 0.9083950\ttotal: 2.02s\tremaining: 4.45s\n",
            "156:\tlearn: 0.9083449\ttotal: 2.03s\tremaining: 4.43s\n",
            "157:\tlearn: 0.9083404\ttotal: 2.04s\tremaining: 4.41s\n",
            "158:\tlearn: 0.9083378\ttotal: 2.04s\tremaining: 4.38s\n",
            "159:\tlearn: 0.9082844\ttotal: 2.06s\tremaining: 4.38s\n",
            "160:\tlearn: 0.9081830\ttotal: 2.08s\tremaining: 4.37s\n",
            "161:\tlearn: 0.9080432\ttotal: 2.08s\tremaining: 4.35s\n",
            "162:\tlearn: 0.9080355\ttotal: 2.1s\tremaining: 4.34s\n",
            "163:\tlearn: 0.9080318\ttotal: 2.11s\tremaining: 4.32s\n",
            "164:\tlearn: 0.9080133\ttotal: 2.12s\tremaining: 4.31s\n",
            "165:\tlearn: 0.9079789\ttotal: 2.13s\tremaining: 4.29s\n",
            "166:\tlearn: 0.9079308\ttotal: 2.15s\tremaining: 4.3s\n",
            "167:\tlearn: 0.9079157\ttotal: 2.17s\tremaining: 4.28s\n",
            "168:\tlearn: 0.9079136\ttotal: 2.17s\tremaining: 4.26s\n",
            "169:\tlearn: 0.9078983\ttotal: 2.19s\tremaining: 4.25s\n",
            "170:\tlearn: 0.9078920\ttotal: 2.2s\tremaining: 4.22s\n",
            "171:\tlearn: 0.9077754\ttotal: 2.21s\tremaining: 4.21s\n",
            "172:\tlearn: 0.9077745\ttotal: 2.22s\tremaining: 4.19s\n",
            "173:\tlearn: 0.9077724\ttotal: 2.23s\tremaining: 4.17s\n",
            "174:\tlearn: 0.9077003\ttotal: 2.24s\tremaining: 4.16s\n",
            "175:\tlearn: 0.9076986\ttotal: 2.25s\tremaining: 4.14s\n",
            "176:\tlearn: 0.9076977\ttotal: 2.26s\tremaining: 4.12s\n",
            "177:\tlearn: 0.9076221\ttotal: 2.27s\tremaining: 4.11s\n",
            "178:\tlearn: 0.9075633\ttotal: 2.29s\tremaining: 4.1s\n",
            "179:\tlearn: 0.9075217\ttotal: 2.3s\tremaining: 4.09s\n",
            "180:\tlearn: 0.9074696\ttotal: 2.32s\tremaining: 4.08s\n",
            "181:\tlearn: 0.9074315\ttotal: 2.33s\tremaining: 4.07s\n",
            "182:\tlearn: 0.9072932\ttotal: 2.34s\tremaining: 4.06s\n",
            "183:\tlearn: 0.9072714\ttotal: 2.35s\tremaining: 4.04s\n",
            "184:\tlearn: 0.9072611\ttotal: 2.37s\tremaining: 4.04s\n",
            "185:\tlearn: 0.9072487\ttotal: 2.38s\tremaining: 4.02s\n",
            "186:\tlearn: 0.9071765\ttotal: 2.4s\tremaining: 4.01s\n",
            "187:\tlearn: 0.9071326\ttotal: 2.41s\tremaining: 3.99s\n",
            "188:\tlearn: 0.9070908\ttotal: 2.42s\tremaining: 3.98s\n",
            "189:\tlearn: 0.9070746\ttotal: 2.44s\tremaining: 3.98s\n",
            "190:\tlearn: 0.9070538\ttotal: 2.45s\tremaining: 3.96s\n",
            "191:\tlearn: 0.9069583\ttotal: 2.46s\tremaining: 3.95s\n",
            "192:\tlearn: 0.9069109\ttotal: 2.48s\tremaining: 3.94s\n",
            "193:\tlearn: 0.9069103\ttotal: 2.49s\tremaining: 3.93s\n",
            "194:\tlearn: 0.9069067\ttotal: 2.51s\tremaining: 3.92s\n",
            "195:\tlearn: 0.9069064\ttotal: 2.52s\tremaining: 3.91s\n",
            "196:\tlearn: 0.9068973\ttotal: 2.53s\tremaining: 3.89s\n",
            "197:\tlearn: 0.9068501\ttotal: 2.54s\tremaining: 3.88s\n",
            "198:\tlearn: 0.9068414\ttotal: 2.56s\tremaining: 3.87s\n",
            "199:\tlearn: 0.9068314\ttotal: 2.57s\tremaining: 3.86s\n",
            "200:\tlearn: 0.9068229\ttotal: 2.58s\tremaining: 3.85s\n",
            "201:\tlearn: 0.9067548\ttotal: 2.6s\tremaining: 3.84s\n",
            "202:\tlearn: 0.9067118\ttotal: 2.62s\tremaining: 3.83s\n",
            "203:\tlearn: 0.9067039\ttotal: 2.63s\tremaining: 3.81s\n",
            "204:\tlearn: 0.9066112\ttotal: 2.64s\tremaining: 3.8s\n",
            "205:\tlearn: 0.9066029\ttotal: 2.65s\tremaining: 3.79s\n",
            "206:\tlearn: 0.9065967\ttotal: 2.67s\tremaining: 3.77s\n",
            "207:\tlearn: 0.9065892\ttotal: 2.68s\tremaining: 3.76s\n",
            "208:\tlearn: 0.9065726\ttotal: 2.69s\tremaining: 3.75s\n",
            "209:\tlearn: 0.9065303\ttotal: 2.71s\tremaining: 3.74s\n",
            "210:\tlearn: 0.9065066\ttotal: 2.72s\tremaining: 3.73s\n",
            "211:\tlearn: 0.9064841\ttotal: 2.74s\tremaining: 3.72s\n",
            "212:\tlearn: 0.9064773\ttotal: 2.75s\tremaining: 3.7s\n",
            "213:\tlearn: 0.9063807\ttotal: 2.76s\tremaining: 3.69s\n",
            "214:\tlearn: 0.9063595\ttotal: 2.77s\tremaining: 3.67s\n",
            "215:\tlearn: 0.9062928\ttotal: 2.79s\tremaining: 3.67s\n",
            "216:\tlearn: 0.9062382\ttotal: 2.8s\tremaining: 3.65s\n",
            "217:\tlearn: 0.9062187\ttotal: 2.82s\tremaining: 3.64s\n",
            "218:\tlearn: 0.9062184\ttotal: 2.83s\tremaining: 3.63s\n",
            "219:\tlearn: 0.9061317\ttotal: 2.84s\tremaining: 3.62s\n",
            "220:\tlearn: 0.9061204\ttotal: 2.86s\tremaining: 3.61s\n",
            "221:\tlearn: 0.9061095\ttotal: 2.87s\tremaining: 3.6s\n",
            "222:\tlearn: 0.9060808\ttotal: 2.89s\tremaining: 3.59s\n",
            "223:\tlearn: 0.9060610\ttotal: 2.9s\tremaining: 3.58s\n",
            "224:\tlearn: 0.9060599\ttotal: 2.92s\tremaining: 3.57s\n",
            "225:\tlearn: 0.9060156\ttotal: 2.93s\tremaining: 3.56s\n",
            "226:\tlearn: 0.9060152\ttotal: 2.94s\tremaining: 3.54s\n",
            "227:\tlearn: 0.9059203\ttotal: 2.96s\tremaining: 3.52s\n",
            "228:\tlearn: 0.9059037\ttotal: 2.97s\tremaining: 3.51s\n",
            "229:\tlearn: 0.9058472\ttotal: 2.98s\tremaining: 3.5s\n",
            "230:\tlearn: 0.9057438\ttotal: 3s\tremaining: 3.49s\n",
            "231:\tlearn: 0.9056807\ttotal: 3.01s\tremaining: 3.48s\n",
            "232:\tlearn: 0.9056122\ttotal: 3.02s\tremaining: 3.46s\n",
            "233:\tlearn: 0.9055887\ttotal: 3.04s\tremaining: 3.45s\n",
            "234:\tlearn: 0.9055758\ttotal: 3.05s\tremaining: 3.44s\n",
            "235:\tlearn: 0.9055754\ttotal: 3.06s\tremaining: 3.42s\n",
            "236:\tlearn: 0.9055342\ttotal: 3.07s\tremaining: 3.41s\n",
            "237:\tlearn: 0.9055282\ttotal: 3.08s\tremaining: 3.39s\n",
            "238:\tlearn: 0.9055220\ttotal: 3.1s\tremaining: 3.38s\n",
            "239:\tlearn: 0.9055170\ttotal: 3.11s\tremaining: 3.37s\n",
            "240:\tlearn: 0.9055050\ttotal: 3.13s\tremaining: 3.36s\n",
            "241:\tlearn: 0.9054672\ttotal: 3.14s\tremaining: 3.35s\n",
            "242:\tlearn: 0.9054625\ttotal: 3.16s\tremaining: 3.34s\n",
            "243:\tlearn: 0.9054500\ttotal: 3.17s\tremaining: 3.33s\n",
            "244:\tlearn: 0.9054447\ttotal: 3.18s\tremaining: 3.31s\n",
            "245:\tlearn: 0.9054140\ttotal: 3.2s\tremaining: 3.3s\n",
            "246:\tlearn: 0.9053978\ttotal: 3.21s\tremaining: 3.29s\n",
            "247:\tlearn: 0.9053435\ttotal: 3.23s\tremaining: 3.28s\n",
            "248:\tlearn: 0.9052868\ttotal: 3.24s\tremaining: 3.27s\n",
            "249:\tlearn: 0.9052258\ttotal: 3.26s\tremaining: 3.26s\n",
            "250:\tlearn: 0.9052059\ttotal: 3.28s\tremaining: 3.25s\n",
            "251:\tlearn: 0.9051981\ttotal: 3.29s\tremaining: 3.24s\n",
            "252:\tlearn: 0.9051918\ttotal: 3.31s\tremaining: 3.23s\n",
            "253:\tlearn: 0.9051727\ttotal: 3.32s\tremaining: 3.21s\n",
            "254:\tlearn: 0.9051137\ttotal: 3.34s\tremaining: 3.21s\n",
            "255:\tlearn: 0.9050895\ttotal: 3.35s\tremaining: 3.19s\n",
            "256:\tlearn: 0.9050524\ttotal: 3.36s\tremaining: 3.18s\n",
            "257:\tlearn: 0.9050183\ttotal: 3.38s\tremaining: 3.17s\n",
            "258:\tlearn: 0.9050162\ttotal: 3.39s\tremaining: 3.15s\n",
            "259:\tlearn: 0.9050065\ttotal: 3.4s\tremaining: 3.14s\n",
            "260:\tlearn: 0.9050028\ttotal: 3.41s\tremaining: 3.12s\n",
            "261:\tlearn: 0.9049980\ttotal: 3.42s\tremaining: 3.11s\n",
            "262:\tlearn: 0.9049898\ttotal: 3.43s\tremaining: 3.09s\n",
            "263:\tlearn: 0.9049879\ttotal: 3.44s\tremaining: 3.08s\n",
            "264:\tlearn: 0.9049863\ttotal: 3.45s\tremaining: 3.06s\n",
            "265:\tlearn: 0.9049748\ttotal: 3.46s\tremaining: 3.05s\n",
            "266:\tlearn: 0.9049722\ttotal: 3.48s\tremaining: 3.03s\n",
            "267:\tlearn: 0.9049687\ttotal: 3.48s\tremaining: 3.02s\n",
            "268:\tlearn: 0.9049037\ttotal: 3.5s\tremaining: 3s\n",
            "269:\tlearn: 0.9048549\ttotal: 3.51s\tremaining: 2.99s\n",
            "270:\tlearn: 0.9048359\ttotal: 3.53s\tremaining: 2.98s\n",
            "271:\tlearn: 0.9047884\ttotal: 3.55s\tremaining: 2.97s\n",
            "272:\tlearn: 0.9047503\ttotal: 3.56s\tremaining: 2.96s\n",
            "273:\tlearn: 0.9046870\ttotal: 3.58s\tremaining: 2.95s\n",
            "274:\tlearn: 0.9046483\ttotal: 3.59s\tremaining: 2.94s\n",
            "275:\tlearn: 0.9045850\ttotal: 3.61s\tremaining: 2.93s\n",
            "276:\tlearn: 0.9045305\ttotal: 3.62s\tremaining: 2.91s\n",
            "277:\tlearn: 0.9045251\ttotal: 3.63s\tremaining: 2.9s\n",
            "278:\tlearn: 0.9044809\ttotal: 3.65s\tremaining: 2.89s\n",
            "279:\tlearn: 0.9044415\ttotal: 3.66s\tremaining: 2.88s\n",
            "280:\tlearn: 0.9043883\ttotal: 3.68s\tremaining: 2.87s\n",
            "281:\tlearn: 0.9043248\ttotal: 3.69s\tremaining: 2.85s\n",
            "282:\tlearn: 0.9042737\ttotal: 3.7s\tremaining: 2.84s\n",
            "283:\tlearn: 0.9042369\ttotal: 3.72s\tremaining: 2.83s\n",
            "284:\tlearn: 0.9042307\ttotal: 3.73s\tremaining: 2.82s\n",
            "285:\tlearn: 0.9042065\ttotal: 3.75s\tremaining: 2.81s\n",
            "286:\tlearn: 0.9041424\ttotal: 3.77s\tremaining: 2.79s\n",
            "287:\tlearn: 0.9041421\ttotal: 3.78s\tremaining: 2.78s\n",
            "288:\tlearn: 0.9041378\ttotal: 3.79s\tremaining: 2.77s\n",
            "289:\tlearn: 0.9041290\ttotal: 3.8s\tremaining: 2.75s\n",
            "290:\tlearn: 0.9041154\ttotal: 3.81s\tremaining: 2.74s\n",
            "291:\tlearn: 0.9040767\ttotal: 3.83s\tremaining: 2.73s\n",
            "292:\tlearn: 0.9040499\ttotal: 3.84s\tremaining: 2.71s\n",
            "293:\tlearn: 0.9040387\ttotal: 3.85s\tremaining: 2.7s\n",
            "294:\tlearn: 0.9040345\ttotal: 3.86s\tremaining: 2.69s\n",
            "295:\tlearn: 0.9040303\ttotal: 3.88s\tremaining: 2.67s\n",
            "296:\tlearn: 0.9040109\ttotal: 3.89s\tremaining: 2.66s\n",
            "297:\tlearn: 0.9039692\ttotal: 3.91s\tremaining: 2.65s\n",
            "298:\tlearn: 0.9039286\ttotal: 3.92s\tremaining: 2.63s\n",
            "299:\tlearn: 0.9038660\ttotal: 3.93s\tremaining: 2.62s\n",
            "300:\tlearn: 0.9038629\ttotal: 3.94s\tremaining: 2.61s\n",
            "301:\tlearn: 0.9038021\ttotal: 3.96s\tremaining: 2.6s\n",
            "302:\tlearn: 0.9037476\ttotal: 3.98s\tremaining: 2.58s\n",
            "303:\tlearn: 0.9037442\ttotal: 3.99s\tremaining: 2.57s\n",
            "304:\tlearn: 0.9036746\ttotal: 4.01s\tremaining: 2.56s\n",
            "305:\tlearn: 0.9036455\ttotal: 4.02s\tremaining: 2.55s\n",
            "306:\tlearn: 0.9036399\ttotal: 4.04s\tremaining: 2.54s\n",
            "307:\tlearn: 0.9036388\ttotal: 4.05s\tremaining: 2.52s\n",
            "308:\tlearn: 0.9036265\ttotal: 4.06s\tremaining: 2.51s\n",
            "309:\tlearn: 0.9036194\ttotal: 4.07s\tremaining: 2.5s\n",
            "310:\tlearn: 0.9036176\ttotal: 4.08s\tremaining: 2.48s\n",
            "311:\tlearn: 0.9036159\ttotal: 4.1s\tremaining: 2.47s\n",
            "312:\tlearn: 0.9036076\ttotal: 4.11s\tremaining: 2.46s\n",
            "313:\tlearn: 0.9035957\ttotal: 4.12s\tremaining: 2.44s\n",
            "314:\tlearn: 0.9035929\ttotal: 4.13s\tremaining: 2.43s\n",
            "315:\tlearn: 0.9035366\ttotal: 4.15s\tremaining: 2.42s\n",
            "316:\tlearn: 0.9035357\ttotal: 4.17s\tremaining: 2.41s\n",
            "317:\tlearn: 0.9035291\ttotal: 4.18s\tremaining: 2.39s\n",
            "318:\tlearn: 0.9034905\ttotal: 4.2s\tremaining: 2.38s\n",
            "319:\tlearn: 0.9034848\ttotal: 4.21s\tremaining: 2.37s\n",
            "320:\tlearn: 0.9034495\ttotal: 4.22s\tremaining: 2.35s\n",
            "321:\tlearn: 0.9034248\ttotal: 4.24s\tremaining: 2.34s\n",
            "322:\tlearn: 0.9034236\ttotal: 4.25s\tremaining: 2.33s\n",
            "323:\tlearn: 0.9034213\ttotal: 4.26s\tremaining: 2.31s\n",
            "324:\tlearn: 0.9033832\ttotal: 4.28s\tremaining: 2.3s\n",
            "325:\tlearn: 0.9033754\ttotal: 4.29s\tremaining: 2.29s\n",
            "326:\tlearn: 0.9033613\ttotal: 4.3s\tremaining: 2.28s\n",
            "327:\tlearn: 0.9033537\ttotal: 4.32s\tremaining: 2.26s\n",
            "328:\tlearn: 0.9033315\ttotal: 4.33s\tremaining: 2.25s\n",
            "329:\tlearn: 0.9032584\ttotal: 4.34s\tremaining: 2.24s\n",
            "330:\tlearn: 0.9032561\ttotal: 4.35s\tremaining: 2.22s\n",
            "331:\tlearn: 0.9032545\ttotal: 4.36s\tremaining: 2.21s\n",
            "332:\tlearn: 0.9032083\ttotal: 4.38s\tremaining: 2.2s\n",
            "333:\tlearn: 0.9032019\ttotal: 4.39s\tremaining: 2.18s\n",
            "334:\tlearn: 0.9032016\ttotal: 4.4s\tremaining: 2.17s\n",
            "335:\tlearn: 0.9031775\ttotal: 4.42s\tremaining: 2.16s\n",
            "336:\tlearn: 0.9031754\ttotal: 4.43s\tremaining: 2.14s\n",
            "337:\tlearn: 0.9031712\ttotal: 4.44s\tremaining: 2.13s\n",
            "338:\tlearn: 0.9031669\ttotal: 4.45s\tremaining: 2.11s\n",
            "339:\tlearn: 0.9031056\ttotal: 4.46s\tremaining: 2.1s\n",
            "340:\tlearn: 0.9031029\ttotal: 4.47s\tremaining: 2.08s\n",
            "341:\tlearn: 0.9030554\ttotal: 4.48s\tremaining: 2.07s\n",
            "342:\tlearn: 0.9029977\ttotal: 4.5s\tremaining: 2.06s\n",
            "343:\tlearn: 0.9029919\ttotal: 4.51s\tremaining: 2.05s\n",
            "344:\tlearn: 0.9029855\ttotal: 4.53s\tremaining: 2.03s\n",
            "345:\tlearn: 0.9029847\ttotal: 4.54s\tremaining: 2.02s\n",
            "346:\tlearn: 0.9029758\ttotal: 4.55s\tremaining: 2s\n",
            "347:\tlearn: 0.9029655\ttotal: 4.56s\tremaining: 1.99s\n",
            "348:\tlearn: 0.9029567\ttotal: 4.57s\tremaining: 1.98s\n",
            "349:\tlearn: 0.9029333\ttotal: 4.59s\tremaining: 1.97s\n",
            "350:\tlearn: 0.9028554\ttotal: 4.61s\tremaining: 1.96s\n",
            "351:\tlearn: 0.9027849\ttotal: 4.62s\tremaining: 1.94s\n",
            "352:\tlearn: 0.9027550\ttotal: 4.64s\tremaining: 1.93s\n",
            "353:\tlearn: 0.9026884\ttotal: 4.65s\tremaining: 1.92s\n",
            "354:\tlearn: 0.9026695\ttotal: 4.67s\tremaining: 1.91s\n",
            "355:\tlearn: 0.9025799\ttotal: 4.68s\tremaining: 1.89s\n",
            "356:\tlearn: 0.9025404\ttotal: 4.7s\tremaining: 1.88s\n",
            "357:\tlearn: 0.9025386\ttotal: 4.71s\tremaining: 1.87s\n",
            "358:\tlearn: 0.9025182\ttotal: 4.72s\tremaining: 1.85s\n",
            "359:\tlearn: 0.9024608\ttotal: 4.74s\tremaining: 1.84s\n",
            "360:\tlearn: 0.9024486\ttotal: 4.75s\tremaining: 1.83s\n",
            "361:\tlearn: 0.9023937\ttotal: 4.77s\tremaining: 1.82s\n",
            "362:\tlearn: 0.9023912\ttotal: 4.78s\tremaining: 1.8s\n",
            "363:\tlearn: 0.9023858\ttotal: 4.79s\tremaining: 1.79s\n",
            "364:\tlearn: 0.9023783\ttotal: 4.81s\tremaining: 1.78s\n",
            "365:\tlearn: 0.9023530\ttotal: 4.82s\tremaining: 1.76s\n",
            "366:\tlearn: 0.9023054\ttotal: 4.84s\tremaining: 1.75s\n",
            "367:\tlearn: 0.9022522\ttotal: 4.85s\tremaining: 1.74s\n",
            "368:\tlearn: 0.9022482\ttotal: 4.87s\tremaining: 1.73s\n",
            "369:\tlearn: 0.9022197\ttotal: 4.88s\tremaining: 1.72s\n",
            "370:\tlearn: 0.9022064\ttotal: 4.89s\tremaining: 1.7s\n",
            "371:\tlearn: 0.9021874\ttotal: 4.91s\tremaining: 1.69s\n",
            "372:\tlearn: 0.9021772\ttotal: 4.92s\tremaining: 1.67s\n",
            "373:\tlearn: 0.9021749\ttotal: 4.93s\tremaining: 1.66s\n",
            "374:\tlearn: 0.9021163\ttotal: 4.95s\tremaining: 1.65s\n",
            "375:\tlearn: 0.9021073\ttotal: 4.96s\tremaining: 1.63s\n",
            "376:\tlearn: 0.9021049\ttotal: 4.97s\tremaining: 1.62s\n",
            "377:\tlearn: 0.9021000\ttotal: 4.98s\tremaining: 1.61s\n",
            "378:\tlearn: 0.9020737\ttotal: 4.99s\tremaining: 1.59s\n",
            "379:\tlearn: 0.9020734\ttotal: 5.01s\tremaining: 1.58s\n",
            "380:\tlearn: 0.9020682\ttotal: 5.02s\tremaining: 1.57s\n",
            "381:\tlearn: 0.9020676\ttotal: 5.03s\tremaining: 1.55s\n",
            "382:\tlearn: 0.9020448\ttotal: 5.04s\tremaining: 1.54s\n",
            "383:\tlearn: 0.9020417\ttotal: 5.05s\tremaining: 1.52s\n",
            "384:\tlearn: 0.9020382\ttotal: 5.07s\tremaining: 1.51s\n",
            "385:\tlearn: 0.9019890\ttotal: 5.08s\tremaining: 1.5s\n",
            "386:\tlearn: 0.9019698\ttotal: 5.09s\tremaining: 1.49s\n",
            "387:\tlearn: 0.9019570\ttotal: 5.1s\tremaining: 1.47s\n",
            "388:\tlearn: 0.9018850\ttotal: 5.12s\tremaining: 1.46s\n",
            "389:\tlearn: 0.9018845\ttotal: 5.14s\tremaining: 1.45s\n",
            "390:\tlearn: 0.9018363\ttotal: 5.15s\tremaining: 1.44s\n",
            "391:\tlearn: 0.9018237\ttotal: 5.16s\tremaining: 1.42s\n",
            "392:\tlearn: 0.9017746\ttotal: 5.18s\tremaining: 1.41s\n",
            "393:\tlearn: 0.9017261\ttotal: 5.19s\tremaining: 1.4s\n",
            "394:\tlearn: 0.9017235\ttotal: 5.21s\tremaining: 1.38s\n",
            "395:\tlearn: 0.9016627\ttotal: 5.22s\tremaining: 1.37s\n",
            "396:\tlearn: 0.9016251\ttotal: 5.24s\tremaining: 1.36s\n",
            "397:\tlearn: 0.9016229\ttotal: 5.25s\tremaining: 1.34s\n",
            "398:\tlearn: 0.9016199\ttotal: 5.26s\tremaining: 1.33s\n",
            "399:\tlearn: 0.9016119\ttotal: 5.27s\tremaining: 1.32s\n",
            "400:\tlearn: 0.9016114\ttotal: 5.28s\tremaining: 1.3s\n",
            "401:\tlearn: 0.9015879\ttotal: 5.3s\tremaining: 1.29s\n",
            "402:\tlearn: 0.9015539\ttotal: 5.32s\tremaining: 1.28s\n",
            "403:\tlearn: 0.9015112\ttotal: 5.33s\tremaining: 1.27s\n",
            "404:\tlearn: 0.9015105\ttotal: 5.34s\tremaining: 1.25s\n",
            "405:\tlearn: 0.9014492\ttotal: 5.35s\tremaining: 1.24s\n",
            "406:\tlearn: 0.9014480\ttotal: 5.36s\tremaining: 1.23s\n",
            "407:\tlearn: 0.9014476\ttotal: 5.37s\tremaining: 1.21s\n",
            "408:\tlearn: 0.9014456\ttotal: 5.38s\tremaining: 1.2s\n",
            "409:\tlearn: 0.9014439\ttotal: 5.39s\tremaining: 1.18s\n",
            "410:\tlearn: 0.9014131\ttotal: 5.41s\tremaining: 1.17s\n",
            "411:\tlearn: 0.9013712\ttotal: 5.42s\tremaining: 1.16s\n",
            "412:\tlearn: 0.9013403\ttotal: 5.44s\tremaining: 1.15s\n",
            "413:\tlearn: 0.9013276\ttotal: 5.45s\tremaining: 1.13s\n",
            "414:\tlearn: 0.9012913\ttotal: 5.47s\tremaining: 1.12s\n",
            "415:\tlearn: 0.9012490\ttotal: 5.48s\tremaining: 1.11s\n",
            "416:\tlearn: 0.9012418\ttotal: 5.49s\tremaining: 1.09s\n",
            "417:\tlearn: 0.9011909\ttotal: 5.51s\tremaining: 1.08s\n",
            "418:\tlearn: 0.9011760\ttotal: 5.52s\tremaining: 1.07s\n",
            "419:\tlearn: 0.9011723\ttotal: 5.53s\tremaining: 1.05s\n",
            "420:\tlearn: 0.9011713\ttotal: 5.54s\tremaining: 1.04s\n",
            "421:\tlearn: 0.9011405\ttotal: 5.56s\tremaining: 1.03s\n",
            "422:\tlearn: 0.9011351\ttotal: 5.57s\tremaining: 1.01s\n",
            "423:\tlearn: 0.9011300\ttotal: 5.58s\tremaining: 1s\n",
            "424:\tlearn: 0.9011197\ttotal: 5.59s\tremaining: 987ms\n",
            "425:\tlearn: 0.9010931\ttotal: 5.61s\tremaining: 974ms\n",
            "426:\tlearn: 0.9010928\ttotal: 5.62s\tremaining: 961ms\n",
            "427:\tlearn: 0.9010905\ttotal: 5.63s\tremaining: 947ms\n",
            "428:\tlearn: 0.9010145\ttotal: 5.65s\tremaining: 935ms\n",
            "429:\tlearn: 0.9010128\ttotal: 5.66s\tremaining: 921ms\n",
            "430:\tlearn: 0.9009979\ttotal: 5.67s\tremaining: 907ms\n",
            "431:\tlearn: 0.9009906\ttotal: 5.68s\tremaining: 894ms\n",
            "432:\tlearn: 0.9009891\ttotal: 5.69s\tremaining: 881ms\n",
            "433:\tlearn: 0.9009887\ttotal: 5.7s\tremaining: 867ms\n",
            "434:\tlearn: 0.9009805\ttotal: 5.72s\tremaining: 854ms\n",
            "435:\tlearn: 0.9009440\ttotal: 5.73s\tremaining: 841ms\n",
            "436:\tlearn: 0.9008832\ttotal: 5.75s\tremaining: 829ms\n",
            "437:\tlearn: 0.9008437\ttotal: 5.76s\tremaining: 816ms\n",
            "438:\tlearn: 0.9008311\ttotal: 5.78s\tremaining: 802ms\n",
            "439:\tlearn: 0.9008238\ttotal: 5.79s\tremaining: 790ms\n",
            "440:\tlearn: 0.9008150\ttotal: 5.8s\tremaining: 777ms\n",
            "441:\tlearn: 0.9008147\ttotal: 5.81s\tremaining: 763ms\n",
            "442:\tlearn: 0.9008093\ttotal: 5.83s\tremaining: 750ms\n",
            "443:\tlearn: 0.9007714\ttotal: 5.84s\tremaining: 737ms\n",
            "444:\tlearn: 0.9007703\ttotal: 5.86s\tremaining: 724ms\n",
            "445:\tlearn: 0.9007634\ttotal: 5.87s\tremaining: 711ms\n",
            "446:\tlearn: 0.9007543\ttotal: 5.88s\tremaining: 698ms\n",
            "447:\tlearn: 0.9007494\ttotal: 5.9s\tremaining: 685ms\n",
            "448:\tlearn: 0.9007108\ttotal: 5.91s\tremaining: 672ms\n",
            "449:\tlearn: 0.9006454\ttotal: 5.92s\tremaining: 658ms\n",
            "450:\tlearn: 0.9005692\ttotal: 5.94s\tremaining: 645ms\n",
            "451:\tlearn: 0.9005593\ttotal: 5.95s\tremaining: 632ms\n",
            "452:\tlearn: 0.9005026\ttotal: 5.96s\tremaining: 619ms\n",
            "453:\tlearn: 0.9004507\ttotal: 5.98s\tremaining: 606ms\n",
            "454:\tlearn: 0.9004075\ttotal: 5.99s\tremaining: 593ms\n",
            "455:\tlearn: 0.9003296\ttotal: 6.01s\tremaining: 580ms\n",
            "456:\tlearn: 0.9002986\ttotal: 6.03s\tremaining: 567ms\n",
            "457:\tlearn: 0.9002679\ttotal: 6.04s\tremaining: 554ms\n",
            "458:\tlearn: 0.9002659\ttotal: 6.05s\tremaining: 541ms\n",
            "459:\tlearn: 0.9002411\ttotal: 6.07s\tremaining: 528ms\n",
            "460:\tlearn: 0.9002355\ttotal: 6.08s\tremaining: 514ms\n",
            "461:\tlearn: 0.9002202\ttotal: 6.09s\tremaining: 501ms\n",
            "462:\tlearn: 0.9002172\ttotal: 6.1s\tremaining: 487ms\n",
            "463:\tlearn: 0.9001699\ttotal: 6.12s\tremaining: 475ms\n",
            "464:\tlearn: 0.9001696\ttotal: 6.13s\tremaining: 461ms\n",
            "465:\tlearn: 0.9001621\ttotal: 6.14s\tremaining: 448ms\n",
            "466:\tlearn: 0.9001343\ttotal: 6.16s\tremaining: 435ms\n",
            "467:\tlearn: 0.9001319\ttotal: 6.17s\tremaining: 422ms\n",
            "468:\tlearn: 0.9001052\ttotal: 6.19s\tremaining: 409ms\n",
            "469:\tlearn: 0.9000822\ttotal: 6.2s\tremaining: 396ms\n",
            "470:\tlearn: 0.9000542\ttotal: 6.22s\tremaining: 383ms\n",
            "471:\tlearn: 0.9000517\ttotal: 6.24s\tremaining: 370ms\n",
            "472:\tlearn: 0.9000199\ttotal: 6.25s\tremaining: 357ms\n",
            "473:\tlearn: 0.8999614\ttotal: 6.27s\tremaining: 344ms\n",
            "474:\tlearn: 0.8999514\ttotal: 6.29s\tremaining: 331ms\n",
            "475:\tlearn: 0.8999486\ttotal: 6.29s\tremaining: 317ms\n",
            "476:\tlearn: 0.8999409\ttotal: 6.3s\tremaining: 304ms\n",
            "477:\tlearn: 0.8999346\ttotal: 6.32s\tremaining: 291ms\n",
            "478:\tlearn: 0.8999084\ttotal: 6.33s\tremaining: 278ms\n",
            "479:\tlearn: 0.8998855\ttotal: 6.35s\tremaining: 265ms\n",
            "480:\tlearn: 0.8998811\ttotal: 6.36s\tremaining: 251ms\n",
            "481:\tlearn: 0.8998227\ttotal: 6.38s\tremaining: 238ms\n",
            "482:\tlearn: 0.8997596\ttotal: 6.39s\tremaining: 225ms\n",
            "483:\tlearn: 0.8997279\ttotal: 6.4s\tremaining: 212ms\n",
            "484:\tlearn: 0.8997031\ttotal: 6.42s\tremaining: 199ms\n",
            "485:\tlearn: 0.8996553\ttotal: 6.43s\tremaining: 185ms\n",
            "486:\tlearn: 0.8996460\ttotal: 6.45s\tremaining: 172ms\n",
            "487:\tlearn: 0.8995628\ttotal: 6.46s\tremaining: 159ms\n",
            "488:\tlearn: 0.8994962\ttotal: 6.48s\tremaining: 146ms\n",
            "489:\tlearn: 0.8994662\ttotal: 6.49s\tremaining: 133ms\n",
            "490:\tlearn: 0.8994601\ttotal: 6.51s\tremaining: 119ms\n",
            "491:\tlearn: 0.8994319\ttotal: 6.52s\tremaining: 106ms\n",
            "492:\tlearn: 0.8993908\ttotal: 6.54s\tremaining: 92.8ms\n",
            "493:\tlearn: 0.8993703\ttotal: 6.55s\tremaining: 79.5ms\n",
            "494:\tlearn: 0.8993147\ttotal: 6.56s\tremaining: 66.3ms\n",
            "495:\tlearn: 0.8992911\ttotal: 6.58s\tremaining: 53ms\n",
            "496:\tlearn: 0.8992772\ttotal: 6.59s\tremaining: 39.8ms\n",
            "497:\tlearn: 0.8992458\ttotal: 6.61s\tremaining: 26.5ms\n",
            "498:\tlearn: 0.8992048\ttotal: 6.62s\tremaining: 13.3ms\n",
            "499:\tlearn: 0.8991958\ttotal: 6.63s\tremaining: 0us\n"
          ],
          "name": "stdout"
        },
        {
          "output_type": "execute_result",
          "data": {
            "text/plain": [
              "<catboost.core.CatBoostRegressor at 0x7fe42e6976d0>"
            ]
          },
          "metadata": {
            "tags": []
          },
          "execution_count": 112
        }
      ]
    },
    {
      "cell_type": "code",
      "metadata": {
        "id": "zKDHye9vw2iu"
      },
      "source": [
        "catboost_ans = model.predict(test_data)"
      ],
      "execution_count": null,
      "outputs": []
    },
    {
      "cell_type": "code",
      "metadata": {
        "id": "FbncVPx3w2iu",
        "colab": {
          "base_uri": "https://localhost:8080/"
        },
        "outputId": "c689ca9f-320e-4a9e-dfad-4ca84bace633"
      },
      "source": [
        "(200 - sum((catboost_ans - y_test_true)**2)**0.5) / 20"
      ],
      "execution_count": null,
      "outputs": [
        {
          "output_type": "execute_result",
          "data": {
            "text/plain": [
              "6.269933982910803"
            ]
          },
          "metadata": {
            "tags": []
          },
          "execution_count": 114
        }
      ]
    },
    {
      "cell_type": "code",
      "metadata": {
        "id": "T0JSbSZJw2iu",
        "colab": {
          "base_uri": "https://localhost:8080/"
        },
        "outputId": "b2cc5ccf-7167-4985-b476-4531db1842e4"
      },
      "source": [
        "mean_squared_error(catboost_ans, y_test_true)"
      ],
      "execution_count": null,
      "outputs": [
        {
          "output_type": "execute_result",
          "data": {
            "text/plain": [
              "0.7521769153584884"
            ]
          },
          "metadata": {
            "tags": []
          },
          "execution_count": 115
        }
      ]
    },
    {
      "cell_type": "code",
      "metadata": {
        "id": "o20aMoeBw2iu",
        "colab": {
          "base_uri": "https://localhost:8080/"
        },
        "outputId": "4739df13-c711-4fff-ac55-696c9ce6b7fa"
      },
      "source": [
        "mean_squared_error(model.predict(train_data), y)"
      ],
      "execution_count": null,
      "outputs": [
        {
          "output_type": "execute_result",
          "data": {
            "text/plain": [
              "0.8093683192170281"
            ]
          },
          "metadata": {
            "tags": []
          },
          "execution_count": 116
        }
      ]
    },
    {
      "cell_type": "code",
      "metadata": {
        "id": "sMR_yAy8w2iv",
        "outputId": "2d50b5b1-ff06-4427-c2de-7c81fdb77ad3"
      },
      "source": [
        "catboost_ans"
      ],
      "execution_count": null,
      "outputs": [
        {
          "output_type": "execute_result",
          "data": {
            "text/plain": [
              "array([4.99465171, 4.99999865, 4.90038198, ..., 3.99848139, 4.99999869,\n",
              "       0.99817369])"
            ]
          },
          "metadata": {
            "tags": []
          },
          "execution_count": 287
        }
      ]
    },
    {
      "cell_type": "code",
      "metadata": {
        "id": "mafwLI6-w2iv"
      },
      "source": [
        ""
      ],
      "execution_count": null,
      "outputs": []
    }
  ]
}