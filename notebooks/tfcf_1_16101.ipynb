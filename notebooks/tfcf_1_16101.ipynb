{
  "nbformat": 4,
  "nbformat_minor": 0,
  "metadata": {
    "accelerator": "GPU",
    "colab": {
      "name": "tfcf_1.16101.ipynb",
      "provenance": [],
      "collapsed_sections": []
    },
    "kernelspec": {
      "display_name": "Python 3",
      "name": "python3"
    },
    "language_info": {
      "name": "python"
    }
  },
  "cells": [
    {
      "cell_type": "code",
      "metadata": {
        "colab": {
          "base_uri": "https://localhost:8080/"
        },
        "id": "LLikH1DH2H0j",
        "outputId": "3612cf7c-f840-448e-ea00-b7c9c4b718c0"
      },
      "source": [
        "from google.colab import drive\n",
        "drive.mount('/content/drive')\n",
        "import os\n",
        "try:\n",
        "    os.chdir(\"./drive/My Drive/RuCode/RuCode3/Рекомендации Аниме\")\n",
        "except Exception as e:\n",
        "    print(e)"
      ],
      "execution_count": 1,
      "outputs": [
        {
          "output_type": "stream",
          "text": [
            "Mounted at /content/drive\n"
          ],
          "name": "stdout"
        }
      ]
    },
    {
      "cell_type": "code",
      "metadata": {
        "id": "ylzuiN0Y3iaB"
      },
      "source": [
        "# import tensorflow as tf\n",
        "\n",
        "# if tf.__version__ != \"1.15.0\":\n",
        "#     !pip install tensorflow==1.15"
      ],
      "execution_count": null,
      "outputs": []
    },
    {
      "cell_type": "code",
      "metadata": {
        "colab": {
          "base_uri": "https://localhost:8080/"
        },
        "id": "j4A9JIIK2sDT",
        "outputId": "45e4385b-b770-4684-a58b-570e8d46ea22"
      },
      "source": [
        "%tensorflow_version 1.x\n",
        "import numpy as np\n",
        "import tensorflow as tf\n",
        "from tf_recsys.tfcf.metrics import mae, rmse\n",
        "from tf_recsys.tfcf.config import Config\n",
        "from tf_recsys.tfcf.models.svd import SVD\n",
        "from tf_recsys.tfcf.models.svdpp import SVDPP\n",
        "from sklearn.model_selection import train_test_split\n",
        "import pandas as pd\n",
        "import random\n",
        "\n",
        "np.random.seed(42)\n",
        "random.seed(42)\n",
        "tf.set_random_seed(42)\n",
        " \n",
        "ratings = pd.read_csv(\"user_ratings.csv\", dtype=np.int32)\n",
        "ratings = ratings.loc[ratings[\"rating\"] != 0]\n",
        "x = ratings[[\"user_id\", \"anime_id\"]].values\n",
        "y = ratings[\"rating\"].values\n",
        "\n",
        "test_size = 0.01\n",
        "x_train, x_test, y_train, y_test = train_test_split(\n",
        "    x, y, test_size=test_size, random_state=0)\n",
        " \n",
        "config = Config()\n",
        "config.num_users = np.max(x[:, 0]) + 1\n",
        "config.num_items = np.max(x[:, 1]) + 1\n",
        "config.min_value = np.min(y)\n",
        "config.max_value = np.max(y)\n",
        "config.num_factors = 30\n",
        "config.reg_p_u = 0.01\n",
        "config.reg_q_i = 0.01\n",
        "config.reg_y_u = 0.01\n",
        "config.reg_g_i = 0.01\n",
        "\n",
        "epochs = 4\n",
        "batch_size = 8192\n",
        "\n",
        "with tf.Session() as sess:\n",
        "    tf.set_random_seed(42)\n",
        "    model = SVDPP(config, sess, dual=True)\n",
        "\n",
        "    print(\"Start train\")\n",
        "    model.train(x_train,\n",
        "                y_train,\n",
        "                validation_data=(x_test, y_test),\n",
        "                epochs=epochs,\n",
        "                batch_size=batch_size)\n",
        "\n",
        "    y_pred = model.predict(x_test)\n",
        "    print('rmse: {}, mae: {}'.format(rmse(y_test, y_pred), mae(y_test, y_pred)))\n",
        " \n",
        "    model.save_model(f'model_{epochs}it_{batch_size}_num_factors{config.num_factors}_test_size{test_size}_red_all_{config.reg_p_u}/')\n",
        "\n",
        "    sample = pd.read_csv(\"sample_submission.csv\")\n",
        "    sample_new = np.array([[int(i) for i in id.split()] for id, rat in sample.values])\n",
        "    test_preds = model.predict(sample_new)\n",
        "    sample[\"rating\"] = pd.Series([float(x) for x in test_preds])\n",
        "    sample.to_csv(f\"tfcf_sub_model_{epochs}it_{batch_size}_num_factors{config.num_factors}_test_size{test_size}_red_all_{config.reg_p_u}.csv\",\n",
        "                  index=None)"
      ],
      "execution_count": 2,
      "outputs": [
        {
          "output_type": "stream",
          "text": [
            "TensorFlow 1.x selected.\n",
            "Start train\n",
            "WARNING:tensorflow:From /content/drive/My Drive/RuCode/RuCode3/Рекомендации Аниме/tf_recsys/tfcf/models/svd.py:37: The name tf.variable_scope is deprecated. Please use tf.compat.v1.variable_scope instead.\n",
            "\n",
            "WARNING:tensorflow:From /content/drive/My Drive/RuCode/RuCode3/Рекомендации Аниме/tf_recsys/tfcf/models/svd.py:27: The name tf.placeholder is deprecated. Please use tf.compat.v1.placeholder instead.\n",
            "\n",
            "WARNING:tensorflow:From /content/drive/My Drive/RuCode/RuCode3/Рекомендации Аниме/tf_recsys/tfcf/models/svd.py:49: The name tf.get_variable is deprecated. Please use tf.compat.v1.get_variable instead.\n",
            "\n",
            "WARNING:tensorflow:\n",
            "The TensorFlow contrib module will not be included in TensorFlow 2.0.\n",
            "For more information, please see:\n",
            "  * https://github.com/tensorflow/community/blob/master/rfcs/20180907-contrib-sunset.md\n",
            "  * https://github.com/tensorflow/addons\n",
            "  * https://github.com/tensorflow/io (for I/O related ops)\n",
            "If you depend on functionality not listed there, please file an issue.\n",
            "\n",
            "WARNING:tensorflow:From /content/drive/My Drive/RuCode/RuCode3/Рекомендации Аниме/tf_recsys/tfcf/models/svd.py:142: The name tf.get_collection is deprecated. Please use tf.compat.v1.get_collection instead.\n",
            "\n",
            "WARNING:tensorflow:From /content/drive/My Drive/RuCode/RuCode3/Рекомендации Аниме/tf_recsys/tfcf/models/svd.py:143: The name tf.GraphKeys is deprecated. Please use tf.compat.v1.GraphKeys instead.\n",
            "\n",
            "WARNING:tensorflow:From /tensorflow-1.15.2/python3.7/tensorflow_core/python/ops/resource_variable_ops.py:1630: calling BaseResourceVariable.__init__ (from tensorflow.python.ops.resource_variable_ops) with constraint is deprecated and will be removed in a future version.\n",
            "Instructions for updating:\n",
            "If using Keras pass *_constraint arguments to layers.\n",
            "WARNING:tensorflow:From /content/drive/My Drive/RuCode/RuCode3/Рекомендации Аниме/tf_recsys/tfcf/models/svd.py:150: The name tf.train.AdamOptimizer is deprecated. Please use tf.compat.v1.train.AdamOptimizer instead.\n",
            "\n"
          ],
          "name": "stdout"
        },
        {
          "output_type": "stream",
          "text": [
            "/tensorflow-1.15.2/python3.7/tensorflow_core/python/framework/indexed_slices.py:424: UserWarning: Converting sparse IndexedSlices to a dense Tensor of unknown shape. This may consume a large amount of memory.\n",
            "  \"Converting sparse IndexedSlices to a dense Tensor of unknown shape. \"\n",
            "/tensorflow-1.15.2/python3.7/tensorflow_core/python/framework/indexed_slices.py:424: UserWarning: Converting sparse IndexedSlices to a dense Tensor of unknown shape. This may consume a large amount of memory.\n",
            "  \"Converting sparse IndexedSlices to a dense Tensor of unknown shape. \"\n"
          ],
          "name": "stderr"
        },
        {
          "output_type": "stream",
          "text": [
            "WARNING:tensorflow:From /content/drive/My Drive/RuCode/RuCode3/Рекомендации Аниме/tf_recsys/tfcf/models/svd.py:174: The name tf.global_variables_initializer is deprecated. Please use tf.compat.v1.global_variables_initializer instead.\n",
            "\n",
            "Epoch 1/4\n",
            "1318/1318 [==============================] - 2458s 2s/step - rmse: 1.2522 - mae: 0.9375 - val_rmse: 1.2072 - val_mae: 0.9028\n",
            "Epoch 2/4\n",
            "1318/1318 [==============================] - 2358s 2s/step - rmse: 1.1568 - mae: 0.8600 - val_rmse: 1.1750 - val_mae: 0.8757\n",
            "Epoch 3/4\n",
            "1318/1318 [==============================] - 2320s 2s/step - rmse: 1.1120 - mae: 0.8249 - val_rmse: 1.1616 - val_mae: 0.8638\n",
            "Epoch 4/4\n",
            "1318/1318 [==============================] - 2361s 2s/step - rmse: 1.0786 - mae: 0.7992 - val_rmse: 1.1557 - val_mae: 0.8591\n",
            "rmse: 1.155732056393225, mae: 0.8591308247805202\n",
            "WARNING:tensorflow:From /content/drive/My Drive/RuCode/RuCode3/Рекомендации Аниме/tf_recsys/tfcf/models/model_base.py:34: The name tf.train.Saver is deprecated. Please use tf.compat.v1.train.Saver instead.\n",
            "\n"
          ],
          "name": "stdout"
        }
      ]
    }
  ]
}