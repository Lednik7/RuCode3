{
  "nbformat": 4,
  "nbformat_minor": 0,
  "metadata": {
    "colab": {
      "name": "baseline_1_42081.ipynb",
      "provenance": [],
      "collapsed_sections": []
    },
    "kernelspec": {
      "name": "python3",
      "display_name": "Python 3"
    },
    "language_info": {
      "name": "python"
    },
    "accelerator": "GPU"
  },
  "cells": [
    {
      "cell_type": "code",
      "metadata": {
        "colab": {
          "base_uri": "https://localhost:8080/"
        },
        "id": "8v9Q9xwVVILw",
        "outputId": "6af05c2b-7bdd-4235-c6ff-623e3dd86448"
      },
      "source": [
        "from google.colab import drive\n",
        "drive.mount('/content/drive')\n",
        "import os\n",
        "try:\n",
        "    os.chdir(\"./drive/My Drive/RuCode/RuCode3/Рекомендации Аниме\")\n",
        "except Exception as e:\n",
        "    print(e)\n",
        "#  проверяем наличие файлов\n",
        "directory = os.listdir()\n",
        "directory"
      ],
      "execution_count": null,
      "outputs": [
        {
          "output_type": "stream",
          "text": [
            "Drive already mounted at /content/drive; to attempt to forcibly remount, call drive.mount(\"/content/drive\", force_remount=True).\n"
          ],
          "name": "stdout"
        },
        {
          "output_type": "execute_result",
          "data": {
            "text/plain": [
              "['anime.csv',\n",
              " 'sample_submission.csv',\n",
              " 'user_ratings.csv',\n",
              " 'baseline_catboost.ipynb',\n",
              " 'submissions',\n",
              " 'sub10.csv',\n",
              " 'Решения',\n",
              " 'collaborative-filtering-on-anime-data.ipynb',\n",
              " 'baseline_ranking_estim.ipynb',\n",
              " 'sub12.csv',\n",
              " 'sub13.csv',\n",
              " 'sub14.csv',\n",
              " 'baseline_1.51.ipynb',\n",
              " 'baseline_1_47298.ipynb']"
            ]
          },
          "metadata": {
            "tags": []
          },
          "execution_count": 2
        }
      ]
    },
    {
      "cell_type": "code",
      "metadata": {
        "id": "o56DJxv5QmOY"
      },
      "source": [
        "import pandas as pd\n",
        "import numpy as np\n",
        "\n",
        "anime = pd.read_csv(\"anime.csv\")\n",
        "ratings = pd.read_csv(\"user_ratings.csv\", dtype=np.int32)\n",
        "sample = pd.read_csv(\"sample_submission.csv\")"
      ],
      "execution_count": null,
      "outputs": []
    },
    {
      "cell_type": "code",
      "metadata": {
        "id": "kv9ZwB4gVHtv"
      },
      "source": [
        "sample_new = [[int(i) for i in id.split()] for id, rat in sample.values]\n",
        "sample_df = pd.DataFrame(sample_new, columns=[\"user_id\", \"Id\"])"
      ],
      "execution_count": null,
      "outputs": []
    },
    {
      "cell_type": "code",
      "metadata": {
        "id": "0_PE4NqqsVjv"
      },
      "source": [
        "from collections import Counter\n",
        "\n",
        "grouped_ratings = ratings.groupby(\"user_id\").agg(lambda x: Counter(x).most_common(1)[0][0])\\\n",
        "                         .reset_index()[[\"user_id\", \"rating\"]]\\\n",
        "                         .rename({\"rating\": \"rating_mean\"}, axis=1)"
      ],
      "execution_count": null,
      "outputs": []
    },
    {
      "cell_type": "code",
      "metadata": {
        "colab": {
          "base_uri": "https://localhost:8080/",
          "height": 281
        },
        "id": "rKQpGHFwtvGZ",
        "outputId": "217ca06d-995a-4772-d4b8-fbfd6bf26d71"
      },
      "source": [
        "grouped_ratings[\"rating_mean\"].hist()"
      ],
      "execution_count": null,
      "outputs": [
        {
          "output_type": "execute_result",
          "data": {
            "text/plain": [
              "<matplotlib.axes._subplots.AxesSubplot at 0x7fd66866f3d0>"
            ]
          },
          "metadata": {
            "tags": []
          },
          "execution_count": 6
        },
        {
          "output_type": "display_data",
          "data": {
            "image/png": "[encoded data removed]",
            "text/plain": [
              "<Figure size 432x288 with 1 Axes>"
            ]
          },
          "metadata": {
            "tags": [],
            "needs_background": "light"
          }
        }
      ]
    },
    {
      "cell_type": "code",
      "metadata": {
        "id": "rgomeNJTVsxg"
      },
      "source": [
        "merged = sample_df.merge(grouped_ratings, how=\"left\", on=[\"user_id\"])\\\n",
        "                         .merge(anime[[\"Id\", \"Avg score\"]], how=\"left\", on=[\"Id\"])\\\n",
        "                         .replace(\"Unknown\", np.nan)"
      ],
      "execution_count": null,
      "outputs": []
    },
    {
      "cell_type": "code",
      "metadata": {
        "id": "TkA1oONEaD0Y"
      },
      "source": [
        "median_value = merged[\"Avg score\"].median()\n",
        "merged[\"Avg score\"] = merged[\"Avg score\"].fillna(median_value).astype(np.float32)"
      ],
      "execution_count": null,
      "outputs": []
    },
    {
      "cell_type": "code",
      "metadata": {
        "id": "G-S5KU7bWADJ"
      },
      "source": [
        "merged[\"rating\"] = (merged[\"rating_mean\"] + merged[\"Avg score\"]) / 2"
      ],
      "execution_count": null,
      "outputs": []
    },
    {
      "cell_type": "code",
      "metadata": {
        "id": "d4l1nCnwY9tj",
        "colab": {
          "base_uri": "https://localhost:8080/",
          "height": 191
        },
        "outputId": "671cbf89-ec66-4505-9087-a38d19d78517"
      },
      "source": [
        "merged.head()"
      ],
      "execution_count": null,
      "outputs": [
        {
          "output_type": "execute_result",
          "data": {
            "text/html": [
              "<div>\n",
              "<style scoped>\n",
              "    .dataframe tbody tr th:only-of-type {\n",
              "        vertical-align: middle;\n",
              "    }\n",
              "\n",
              "    .dataframe tbody tr th {\n",
              "        vertical-align: top;\n",
              "    }\n",
              "\n",
              "    .dataframe thead th {\n",
              "        text-align: right;\n",
              "    }\n",
              "</style>\n",
              "<table border=\"1\" class=\"dataframe\">\n",
              "  <thead>\n",
              "    <tr style=\"text-align: right;\">\n",
              "      <th></th>\n",
              "      <th>user_id</th>\n",
              "      <th>Id</th>\n",
              "      <th>rating_mean</th>\n",
              "      <th>Avg score</th>\n",
              "      <th>rating</th>\n",
              "    </tr>\n",
              "  </thead>\n",
              "  <tbody>\n",
              "    <tr>\n",
              "      <th>0</th>\n",
              "      <td>0</td>\n",
              "      <td>249</td>\n",
              "      <td>8</td>\n",
              "      <td>7.85</td>\n",
              "      <td>7.925</td>\n",
              "    </tr>\n",
              "    <tr>\n",
              "      <th>1</th>\n",
              "      <td>0</td>\n",
              "      <td>4181</td>\n",
              "      <td>8</td>\n",
              "      <td>8.96</td>\n",
              "      <td>8.480</td>\n",
              "    </tr>\n",
              "    <tr>\n",
              "      <th>2</th>\n",
              "      <td>0</td>\n",
              "      <td>813</td>\n",
              "      <td>8</td>\n",
              "      <td>8.16</td>\n",
              "      <td>8.080</td>\n",
              "    </tr>\n",
              "    <tr>\n",
              "      <th>3</th>\n",
              "      <td>0</td>\n",
              "      <td>2167</td>\n",
              "      <td>8</td>\n",
              "      <td>8.07</td>\n",
              "      <td>8.035</td>\n",
              "    </tr>\n",
              "    <tr>\n",
              "      <th>4</th>\n",
              "      <td>1</td>\n",
              "      <td>1838</td>\n",
              "      <td>7</td>\n",
              "      <td>5.98</td>\n",
              "      <td>6.490</td>\n",
              "    </tr>\n",
              "  </tbody>\n",
              "</table>\n",
              "</div>"
            ],
            "text/plain": [
              "   user_id    Id  rating_mean  Avg score  rating\n",
              "0        0   249            8       7.85   7.925\n",
              "1        0  4181            8       8.96   8.480\n",
              "2        0   813            8       8.16   8.080\n",
              "3        0  2167            8       8.07   8.035\n",
              "4        1  1838            7       5.98   6.490"
            ]
          },
          "metadata": {
            "tags": []
          },
          "execution_count": 10
        }
      ]
    },
    {
      "cell_type": "code",
      "metadata": {
        "id": "cSy0s1HpraCJ",
        "colab": {
          "base_uri": "https://localhost:8080/",
          "height": 133
        },
        "outputId": "91e0f719-43cf-40f1-bd39-1cf85c24d466"
      },
      "source": [
        "merged.loc[merged[\"rating_mean\"] < merged[\"Avg score\"]].head(3)"
      ],
      "execution_count": null,
      "outputs": [
        {
          "output_type": "execute_result",
          "data": {
            "text/html": [
              "<div>\n",
              "<style scoped>\n",
              "    .dataframe tbody tr th:only-of-type {\n",
              "        vertical-align: middle;\n",
              "    }\n",
              "\n",
              "    .dataframe tbody tr th {\n",
              "        vertical-align: top;\n",
              "    }\n",
              "\n",
              "    .dataframe thead th {\n",
              "        text-align: right;\n",
              "    }\n",
              "</style>\n",
              "<table border=\"1\" class=\"dataframe\">\n",
              "  <thead>\n",
              "    <tr style=\"text-align: right;\">\n",
              "      <th></th>\n",
              "      <th>user_id</th>\n",
              "      <th>Id</th>\n",
              "      <th>rating_mean</th>\n",
              "      <th>Avg score</th>\n",
              "      <th>rating</th>\n",
              "    </tr>\n",
              "  </thead>\n",
              "  <tbody>\n",
              "    <tr>\n",
              "      <th>1</th>\n",
              "      <td>0</td>\n",
              "      <td>4181</td>\n",
              "      <td>8</td>\n",
              "      <td>8.96</td>\n",
              "      <td>8.480</td>\n",
              "    </tr>\n",
              "    <tr>\n",
              "      <th>2</th>\n",
              "      <td>0</td>\n",
              "      <td>813</td>\n",
              "      <td>8</td>\n",
              "      <td>8.16</td>\n",
              "      <td>8.080</td>\n",
              "    </tr>\n",
              "    <tr>\n",
              "      <th>3</th>\n",
              "      <td>0</td>\n",
              "      <td>2167</td>\n",
              "      <td>8</td>\n",
              "      <td>8.07</td>\n",
              "      <td>8.035</td>\n",
              "    </tr>\n",
              "  </tbody>\n",
              "</table>\n",
              "</div>"
            ],
            "text/plain": [
              "   user_id    Id  rating_mean  Avg score  rating\n",
              "1        0  4181            8       8.96   8.480\n",
              "2        0   813            8       8.16   8.080\n",
              "3        0  2167            8       8.07   8.035"
            ]
          },
          "metadata": {
            "tags": []
          },
          "execution_count": 11
        }
      ]
    },
    {
      "cell_type": "code",
      "metadata": {
        "id": "M2dKzc2Cop6O",
        "colab": {
          "base_uri": "https://localhost:8080/"
        },
        "outputId": "197a22d2-661d-4cb5-b6bc-1877e7089ccd"
      },
      "source": [
        "arr = []\n",
        "n = 0\n",
        "for element in merged.values:\n",
        "    rat = element[2]\n",
        "    avg = element[3]\n",
        "    if not rat:\n",
        "        element[4] = avg\n",
        "        n += 1\n",
        "    arr.append(element)\n",
        "merged_checked = pd.DataFrame(arr, columns=['user_id', 'Id', 'rating_mean',\n",
        "                                            'Avg score', 'rating'])\n",
        "merged_checked[\"user_id\"] = merged_checked[\"user_id\"].astype(np.int32)\n",
        "merged_checked[\"Id\"] = merged_checked[\"Id\"].astype(np.int32)\n",
        "print(n)"
      ],
      "execution_count": null,
      "outputs": [
        {
          "output_type": "stream",
          "text": [
            "556160\n"
          ],
          "name": "stdout"
        }
      ]
    },
    {
      "cell_type": "code",
      "metadata": {
        "id": "3EHwNeLDqxJC",
        "colab": {
          "base_uri": "https://localhost:8080/",
          "height": 191
        },
        "outputId": "13c3f482-9bce-4944-cb78-07e681bb210e"
      },
      "source": [
        "merged_checked.head()"
      ],
      "execution_count": null,
      "outputs": [
        {
          "output_type": "execute_result",
          "data": {
            "text/html": [
              "<div>\n",
              "<style scoped>\n",
              "    .dataframe tbody tr th:only-of-type {\n",
              "        vertical-align: middle;\n",
              "    }\n",
              "\n",
              "    .dataframe tbody tr th {\n",
              "        vertical-align: top;\n",
              "    }\n",
              "\n",
              "    .dataframe thead th {\n",
              "        text-align: right;\n",
              "    }\n",
              "</style>\n",
              "<table border=\"1\" class=\"dataframe\">\n",
              "  <thead>\n",
              "    <tr style=\"text-align: right;\">\n",
              "      <th></th>\n",
              "      <th>user_id</th>\n",
              "      <th>Id</th>\n",
              "      <th>rating_mean</th>\n",
              "      <th>Avg score</th>\n",
              "      <th>rating</th>\n",
              "    </tr>\n",
              "  </thead>\n",
              "  <tbody>\n",
              "    <tr>\n",
              "      <th>0</th>\n",
              "      <td>0</td>\n",
              "      <td>249</td>\n",
              "      <td>8.0</td>\n",
              "      <td>7.85</td>\n",
              "      <td>7.925</td>\n",
              "    </tr>\n",
              "    <tr>\n",
              "      <th>1</th>\n",
              "      <td>0</td>\n",
              "      <td>4181</td>\n",
              "      <td>8.0</td>\n",
              "      <td>8.96</td>\n",
              "      <td>8.480</td>\n",
              "    </tr>\n",
              "    <tr>\n",
              "      <th>2</th>\n",
              "      <td>0</td>\n",
              "      <td>813</td>\n",
              "      <td>8.0</td>\n",
              "      <td>8.16</td>\n",
              "      <td>8.080</td>\n",
              "    </tr>\n",
              "    <tr>\n",
              "      <th>3</th>\n",
              "      <td>0</td>\n",
              "      <td>2167</td>\n",
              "      <td>8.0</td>\n",
              "      <td>8.07</td>\n",
              "      <td>8.035</td>\n",
              "    </tr>\n",
              "    <tr>\n",
              "      <th>4</th>\n",
              "      <td>1</td>\n",
              "      <td>1838</td>\n",
              "      <td>7.0</td>\n",
              "      <td>5.98</td>\n",
              "      <td>6.490</td>\n",
              "    </tr>\n",
              "  </tbody>\n",
              "</table>\n",
              "</div>"
            ],
            "text/plain": [
              "   user_id    Id  rating_mean  Avg score  rating\n",
              "0        0   249          8.0       7.85   7.925\n",
              "1        0  4181          8.0       8.96   8.480\n",
              "2        0   813          8.0       8.16   8.080\n",
              "3        0  2167          8.0       8.07   8.035\n",
              "4        1  1838          7.0       5.98   6.490"
            ]
          },
          "metadata": {
            "tags": []
          },
          "execution_count": 13
        }
      ]
    },
    {
      "cell_type": "code",
      "metadata": {
        "id": "d3YH5DiZsVCk",
        "colab": {
          "base_uri": "https://localhost:8080/"
        },
        "outputId": "40b94322-84ea-4d42-9d8a-22bd5162b579"
      },
      "source": [
        "merged_checked[\"rating\"].mean()"
      ],
      "execution_count": null,
      "outputs": [
        {
          "output_type": "execute_result",
          "data": {
            "text/plain": [
              "7.813438264615688"
            ]
          },
          "metadata": {
            "tags": []
          },
          "execution_count": 14
        }
      ]
    },
    {
      "cell_type": "code",
      "metadata": {
        "id": "BvQLr310sZDj",
        "colab": {
          "base_uri": "https://localhost:8080/"
        },
        "outputId": "9fcae298-145b-4699-ef70-aa3efcdfc06c"
      },
      "source": [
        "merged[\"rating\"].mean()"
      ],
      "execution_count": null,
      "outputs": [
        {
          "output_type": "execute_result",
          "data": {
            "text/plain": [
              "5.353589057922363"
            ]
          },
          "metadata": {
            "tags": []
          },
          "execution_count": 15
        }
      ]
    },
    {
      "cell_type": "code",
      "metadata": {
        "id": "86JBLMYvb76T"
      },
      "source": [
        "df_out = pd.DataFrame()\n",
        "df_out[\"Id\"] = merged_checked[\"user_id\"].astype(str) + \" \" + merged_checked[\"Id\"].astype(str)\n",
        "df_out[\"rating\"] = merged_checked[\"rating\"]"
      ],
      "execution_count": null,
      "outputs": []
    },
    {
      "cell_type": "code",
      "metadata": {
        "id": "Xjw7Tuk6chT0",
        "colab": {
          "base_uri": "https://localhost:8080/",
          "height": 133
        },
        "outputId": "52023084-39c8-476b-a46c-f40918625fcb"
      },
      "source": [
        "df_out.head(3)"
      ],
      "execution_count": null,
      "outputs": [
        {
          "output_type": "execute_result",
          "data": {
            "text/html": [
              "<div>\n",
              "<style scoped>\n",
              "    .dataframe tbody tr th:only-of-type {\n",
              "        vertical-align: middle;\n",
              "    }\n",
              "\n",
              "    .dataframe tbody tr th {\n",
              "        vertical-align: top;\n",
              "    }\n",
              "\n",
              "    .dataframe thead th {\n",
              "        text-align: right;\n",
              "    }\n",
              "</style>\n",
              "<table border=\"1\" class=\"dataframe\">\n",
              "  <thead>\n",
              "    <tr style=\"text-align: right;\">\n",
              "      <th></th>\n",
              "      <th>Id</th>\n",
              "      <th>rating</th>\n",
              "    </tr>\n",
              "  </thead>\n",
              "  <tbody>\n",
              "    <tr>\n",
              "      <th>0</th>\n",
              "      <td>0 249</td>\n",
              "      <td>7.925</td>\n",
              "    </tr>\n",
              "    <tr>\n",
              "      <th>1</th>\n",
              "      <td>0 4181</td>\n",
              "      <td>8.480</td>\n",
              "    </tr>\n",
              "    <tr>\n",
              "      <th>2</th>\n",
              "      <td>0 813</td>\n",
              "      <td>8.080</td>\n",
              "    </tr>\n",
              "  </tbody>\n",
              "</table>\n",
              "</div>"
            ],
            "text/plain": [
              "       Id  rating\n",
              "0   0 249   7.925\n",
              "1  0 4181   8.480\n",
              "2   0 813   8.080"
            ]
          },
          "metadata": {
            "tags": []
          },
          "execution_count": 17
        }
      ]
    },
    {
      "cell_type": "code",
      "metadata": {
        "id": "TgYO_Qpib4RR"
      },
      "source": [
        "df_out.to_csv(\"sub15.csv\", index=False)"
      ],
      "execution_count": null,
      "outputs": []
    },
    {
      "cell_type": "code",
      "metadata": {
        "colab": {
          "base_uri": "https://localhost:8080/"
        },
        "id": "nkZ94CrUcTQe",
        "outputId": "226dad78-3406-4f0d-9c56-92402797dbcc"
      },
      "source": [
        "df_out[\"rating\"].mean()"
      ],
      "execution_count": null,
      "outputs": [
        {
          "output_type": "execute_result",
          "data": {
            "text/plain": [
              "7.813438264615688"
            ]
          },
          "metadata": {
            "tags": []
          },
          "execution_count": 19
        }
      ]
    },
    {
      "cell_type": "code",
      "metadata": {
        "colab": {
          "base_uri": "https://localhost:8080/"
        },
        "id": "aDeLpo9RvSu3",
        "outputId": "b90e1e55-5ef9-4ec9-831b-6e2b41e26960"
      },
      "source": [
        "df_out[\"rating\"].isna().sum()"
      ],
      "execution_count": null,
      "outputs": [
        {
          "output_type": "execute_result",
          "data": {
            "text/plain": [
              "0"
            ]
          },
          "metadata": {
            "tags": []
          },
          "execution_count": 20
        }
      ]
    },
    {
      "cell_type": "code",
      "metadata": {
        "colab": {
          "base_uri": "https://localhost:8080/",
          "height": 281
        },
        "id": "ar2d81pBvUyX",
        "outputId": "466f6030-e0c3-4de8-9a8d-5044b2ca7a28"
      },
      "source": [
        "df_out[\"rating\"].hist()"
      ],
      "execution_count": null,
      "outputs": [
        {
          "output_type": "execute_result",
          "data": {
            "text/plain": [
              "<matplotlib.axes._subplots.AxesSubplot at 0x7fd6687bdbd0>"
            ]
          },
          "metadata": {
            "tags": []
          },
          "execution_count": 21
        },
        {
          "output_type": "display_data",
          "data": {
            "image/png": "[encoded data removed]",
            "text/plain": [
              "<Figure size 432x288 with 1 Axes>"
            ]
          },
          "metadata": {
            "tags": [],
            "needs_background": "light"
          }
        }
      ]
    },
    {
      "cell_type": "code",
      "metadata": {
        "id": "icg3FGBVv_d_"
      },
      "source": [
        ""
      ],
      "execution_count": null,
      "outputs": []
    }
  ]
}