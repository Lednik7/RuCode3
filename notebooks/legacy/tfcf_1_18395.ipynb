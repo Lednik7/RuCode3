{
  "nbformat": 4,
  "nbformat_minor": 0,
  "metadata": {
    "colab": {
      "name": "tfcf_1_18395.ipynb",
      "provenance": []
    },
    "kernelspec": {
      "name": "python3",
      "display_name": "Python 3"
    },
    "language_info": {
      "name": "python"
    },
    "accelerator": "GPU"
  },
  "cells": [
    {
      "cell_type": "code",
      "metadata": {
        "id": "LLikH1DH2H0j",
        "colab": {
          "base_uri": "https://localhost:8080/"
        },
        "outputId": "ad235d41-3e55-4077-d424-41f363f2d45f"
      },
      "source": [
        "from google.colab import drive\n",
        "drive.mount('/content/drive')\n",
        "import os\n",
        "try:\n",
        "    os.chdir(\"./drive/My Drive/RuCode/RuCode3/Рекомендации Аниме\")\n",
        "except Exception as e:\n",
        "    print(e)"
      ],
      "execution_count": null,
      "outputs": [
        {
          "output_type": "stream",
          "text": [
            "Drive already mounted at /content/drive; to attempt to forcibly remount, call drive.mount(\"/content/drive\", force_remount=True).\n"
          ],
          "name": "stdout"
        }
      ]
    },
    {
      "cell_type": "code",
      "metadata": {
        "id": "ylzuiN0Y3iaB"
      },
      "source": [
        "#!pip install tensorflow==1.15"
      ],
      "execution_count": null,
      "outputs": []
    },
    {
      "cell_type": "code",
      "metadata": {
        "colab": {
          "base_uri": "https://localhost:8080/"
        },
        "id": "j4A9JIIK2sDT",
        "outputId": "15fc7df2-a4d1-4fb2-f7c2-0d58126631bc"
      },
      "source": [
        "import numpy as np\n",
        "import tensorflow as tf\n",
        "from tf_recsys.tfcf.metrics import mae, rmse\n",
        "from tf_recsys.tfcf.config import Config\n",
        "from tf_recsys.tfcf.models.svd import SVD\n",
        "from tf_recsys.tfcf.models.svdpp import SVDPP\n",
        "from sklearn.model_selection import train_test_split\n",
        "import pandas as pd\n",
        "import random\n",
        " \n",
        "np.random.seed(42)\n",
        "random.seed(42)\n",
        "tf.set_random_seed(42)\n",
        " \n",
        "ratings = pd.read_csv(\"user_ratings.csv\", dtype=np.int32)\n",
        "ratings = ratings.loc[ratings[\"rating\"] != 0]\n",
        "x = ratings[[\"user_id\", \"anime_id\"]].values\n",
        "y = ratings[\"rating\"].values\n",
        " \n",
        "x_train, x_test, y_train, y_test = train_test_split(\n",
        "    x, y, test_size=0.01, random_state=0)\n",
        " \n",
        "config = Config()\n",
        "config.num_users = np.max(x[:, 0]) + 1\n",
        "config.num_items = np.max(x[:, 1]) + 1\n",
        "config.min_value = np.min(y)\n",
        "config.max_value = np.max(y)\n",
        " \n",
        "with tf.Session() as sess:\n",
        "    tf.set_random_seed(42)\n",
        "    model = SVD(config, sess)\n",
        " \n",
        "    print(\"Start train\")\n",
        "    model.train(x_train,\n",
        "                y_train,\n",
        "                validation_data=(x_test, y_test),\n",
        "                epochs=15,\n",
        "                batch_size=1024)\n",
        " \n",
        "    y_pred = model.predict(x_test)\n",
        "    print('rmse: {}, mae: {}'.format(rmse(y_test, y_pred), mae(y_test, y_pred)))\n",
        " \n",
        "    model.save_model('model/')\n",
        " \n",
        "    sample = pd.read_csv(\"sample_submission.csv\")\n",
        "    sample_new = np.array([[int(i) for i in id.split()] for id, rat in sample.values])\n",
        "    test_preds = model.predict(sample_new)\n",
        "    sample[\"rating\"] = pd.Series([float(x) for x in test_preds])\n",
        "    sample.to_csv(\"tfcf_sub30.csv\", index=None)"
      ],
      "execution_count": null,
      "outputs": [
        {
          "output_type": "stream",
          "text": [
            "Start train\n",
            "WARNING:tensorflow:From /content/drive/My Drive/RuCode/RuCode3/Рекомендации Аниме/tf_recsys/tfcf/models/svd.py:37: The name tf.variable_scope is deprecated. Please use tf.compat.v1.variable_scope instead.\n",
            "\n",
            "WARNING:tensorflow:From /content/drive/My Drive/RuCode/RuCode3/Рекомендации Аниме/tf_recsys/tfcf/models/svd.py:27: The name tf.placeholder is deprecated. Please use tf.compat.v1.placeholder instead.\n",
            "\n",
            "WARNING:tensorflow:From /content/drive/My Drive/RuCode/RuCode3/Рекомендации Аниме/tf_recsys/tfcf/models/svd.py:49: The name tf.get_variable is deprecated. Please use tf.compat.v1.get_variable instead.\n",
            "\n",
            "WARNING:tensorflow:\n",
            "The TensorFlow contrib module will not be included in TensorFlow 2.0.\n",
            "For more information, please see:\n",
            "  * https://github.com/tensorflow/community/blob/master/rfcs/20180907-contrib-sunset.md\n",
            "  * https://github.com/tensorflow/addons\n",
            "  * https://github.com/tensorflow/io (for I/O related ops)\n",
            "If you depend on functionality not listed there, please file an issue.\n",
            "\n",
            "WARNING:tensorflow:From /content/drive/My Drive/RuCode/RuCode3/Рекомендации Аниме/tf_recsys/tfcf/models/svd.py:142: The name tf.get_collection is deprecated. Please use tf.compat.v1.get_collection instead.\n",
            "\n",
            "WARNING:tensorflow:From /content/drive/My Drive/RuCode/RuCode3/Рекомендации Аниме/tf_recsys/tfcf/models/svd.py:143: The name tf.GraphKeys is deprecated. Please use tf.compat.v1.GraphKeys instead.\n",
            "\n",
            "WARNING:tensorflow:From /usr/local/lib/python3.7/dist-packages/tensorflow_core/python/ops/resource_variable_ops.py:1630: calling BaseResourceVariable.__init__ (from tensorflow.python.ops.resource_variable_ops) with constraint is deprecated and will be removed in a future version.\n",
            "Instructions for updating:\n",
            "If using Keras pass *_constraint arguments to layers.\n",
            "WARNING:tensorflow:From /content/drive/My Drive/RuCode/RuCode3/Рекомендации Аниме/tf_recsys/tfcf/models/svd.py:150: The name tf.train.AdamOptimizer is deprecated. Please use tf.compat.v1.train.AdamOptimizer instead.\n",
            "\n",
            "WARNING:tensorflow:From /content/drive/My Drive/RuCode/RuCode3/Рекомендации Аниме/tf_recsys/tfcf/models/svd.py:174: The name tf.global_variables_initializer is deprecated. Please use tf.compat.v1.global_variables_initializer instead.\n",
            "\n",
            "Epoch 1/15\n",
            "10544/10544 [==============================] - 46s 4ms/step - rmse: 1.3603 - mae: 1.0186 - val_rmse: 1.2793 - val_mae: 0.9559\n",
            "Epoch 2/15\n",
            "10544/10544 [==============================] - 46s 4ms/step - rmse: 1.2512 - mae: 0.9335 - val_rmse: 1.2560 - val_mae: 0.9373\n",
            "Epoch 3/15\n",
            "10544/10544 [==============================] - 46s 4ms/step - rmse: 1.2272 - mae: 0.9143 - val_rmse: 1.2347 - val_mae: 0.9193\n",
            "Epoch 4/15\n",
            "10544/10544 [==============================] - 45s 4ms/step - rmse: 1.2056 - mae: 0.8966 - val_rmse: 1.2215 - val_mae: 0.9086\n",
            "Epoch 5/15\n",
            "10544/10544 [==============================] - 46s 4ms/step - rmse: 1.1895 - mae: 0.8835 - val_rmse: 1.2116 - val_mae: 0.8996\n",
            "Epoch 6/15\n",
            "10544/10544 [==============================] - 46s 4ms/step - rmse: 1.1767 - mae: 0.8731 - val_rmse: 1.2041 - val_mae: 0.8934\n",
            "Epoch 7/15\n",
            "10544/10544 [==============================] - 46s 4ms/step - rmse: 1.1665 - mae: 0.8648 - val_rmse: 1.1993 - val_mae: 0.8893\n",
            "Epoch 8/15\n",
            "10544/10544 [==============================] - 45s 4ms/step - rmse: 1.1590 - mae: 0.8587 - val_rmse: 1.1958 - val_mae: 0.8863\n",
            "Epoch 9/15\n",
            "10544/10544 [==============================] - 46s 4ms/step - rmse: 1.1538 - mae: 0.8546 - val_rmse: 1.1942 - val_mae: 0.8852\n",
            "Epoch 10/15\n",
            "10544/10544 [==============================] - 47s 4ms/step - rmse: 1.1504 - mae: 0.8519 - val_rmse: 1.1929 - val_mae: 0.8839\n",
            "Epoch 11/15\n",
            "10544/10544 [==============================] - 46s 4ms/step - rmse: 1.1480 - mae: 0.8501 - val_rmse: 1.1917 - val_mae: 0.8828\n",
            "Epoch 12/15\n",
            "10544/10544 [==============================] - 46s 4ms/step - rmse: 1.1465 - mae: 0.8489 - val_rmse: 1.1908 - val_mae: 0.8819\n",
            "Epoch 13/15\n",
            "10544/10544 [==============================] - 46s 4ms/step - rmse: 1.1452 - mae: 0.8480 - val_rmse: 1.1909 - val_mae: 0.8823\n",
            "Epoch 14/15\n",
            "10544/10544 [==============================] - 46s 4ms/step - rmse: 1.1443 - mae: 0.8473 - val_rmse: 1.1903 - val_mae: 0.8815\n",
            "Epoch 15/15\n",
            "10544/10544 [==============================] - 47s 4ms/step - rmse: 1.1436 - mae: 0.8467 - val_rmse: 1.1902 - val_mae: 0.8812\n",
            "rmse: 1.1901937824742557, mae: 0.8811781424657384\n",
            "WARNING:tensorflow:From /content/drive/My Drive/RuCode/RuCode3/Рекомендации Аниме/tf_recsys/tfcf/models/model_base.py:34: The name tf.train.Saver is deprecated. Please use tf.compat.v1.train.Saver instead.\n",
            "\n"
          ],
          "name": "stdout"
        }
      ]
    },
    {
      "cell_type": "code",
      "metadata": {
        "id": "fgUxqaIs8_nb"
      },
      "source": [
        ""
      ],
      "execution_count": null,
      "outputs": []
    }
  ]
}