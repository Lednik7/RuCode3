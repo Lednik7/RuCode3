{
 "cells": [
  {
   "cell_type": "code",
   "execution_count": 1,
   "metadata": {
    "id": "V9aQYTMCOiVP"
   },
   "outputs": [],
   "source": [
    "# !echo '{\"username\":\"mygaps\",\"key\":\"c865d568876db7d1a9457943a3ac99bc\"}' > ~/.kaggle/kaggle.json\n",
    "# !kaggle competitions download -c anime-recommendation-rucode"
   ]
  },
  {
   "cell_type": "code",
   "execution_count": 1,
   "metadata": {
    "colab": {
     "base_uri": "https://localhost:8080/"
    },
    "id": "_3WASuae8fEx",
    "outputId": "6aecb66f-a163-4030-986f-0c73f526698d"
   },
   "outputs": [
    {
     "name": "stdout",
     "output_type": "stream",
     "text": [
      "Defaulting to user installation because normal site-packages is not writeable\n",
      "Requirement already satisfied: catboost in /home/ax37/.local/lib/python3.9/site-packages (0.24.4)\n",
      "Requirement already satisfied: numpy>=1.16.0 in /usr/lib/python3.9/site-packages (from catboost) (1.19.4)\n",
      "Requirement already satisfied: scipy in /home/ax37/.local/lib/python3.9/site-packages (from catboost) (1.6.1)\n",
      "Requirement already satisfied: matplotlib in /usr/lib/python3.9/site-packages (from catboost) (3.3.3)\n",
      "Requirement already satisfied: six in /usr/lib/python3.9/site-packages (from catboost) (1.15.0)\n",
      "Requirement already satisfied: graphviz in /home/ax37/.local/lib/python3.9/site-packages (from catboost) (0.8.4)\n",
      "Requirement already satisfied: plotly in /home/ax37/.local/lib/python3.9/site-packages (from catboost) (4.14.3)\n",
      "Requirement already satisfied: pandas>=0.24.0 in /home/ax37/.local/lib/python3.9/site-packages (from catboost) (1.1.5)\n",
      "Requirement already satisfied: cycler>=0.10 in /usr/lib/python3.9/site-packages (from matplotlib->catboost) (0.10.0)\n",
      "Requirement already satisfied: kiwisolver>=1.0.1 in /usr/lib/python3.9/site-packages (from matplotlib->catboost) (1.3.1)\n",
      "Requirement already satisfied: pillow>=6.2.0 in /usr/lib/python3.9/site-packages (from matplotlib->catboost) (8.0.1)\n",
      "Requirement already satisfied: pyparsing!=2.0.4,!=2.1.2,!=2.1.6,>=2.0.3 in /usr/lib/python3.9/site-packages (from matplotlib->catboost) (2.4.7)\n",
      "Requirement already satisfied: python-dateutil>=2.1 in /usr/lib/python3.9/site-packages (from matplotlib->catboost) (2.8.1)\n",
      "Requirement already satisfied: retrying>=1.3.3 in /usr/lib/python3.9/site-packages (from plotly->catboost) (1.3.3)\n",
      "Requirement already satisfied: pytz>=2017.2 in /usr/lib/python3.9/site-packages (from pandas>=0.24.0->catboost) (2020.4)\n"
     ]
    }
   ],
   "source": [
    "!pip install catboost"
   ]
  },
  {
   "cell_type": "code",
   "execution_count": 3,
   "metadata": {
    "colab": {
     "base_uri": "https://localhost:8080/"
    },
    "id": "5tnN9NWM233Q",
    "outputId": "d374c87d-3338-465e-c3ec-549f2a13aada"
   },
   "outputs": [
    {
     "name": "stdout",
     "output_type": "stream",
     "text": [
      "Drive already mounted at /content/drive; to attempt to forcibly remount, call drive.mount(\"/content/drive\", force_remount=True).\n"
     ]
    },
    {
     "data": {
      "text/plain": [
       "['anime.csv',\n",
       " 'sample_submission.csv',\n",
       " 'user_ratings.csv',\n",
       " 'submissions',\n",
       " 'sub10.csv',\n",
       " 'Решения',\n",
       " 'collaborative-filtering-on-anime-data.ipynb',\n",
       " 'baseline_ranking_estim.ipynb',\n",
       " 'sub12.csv',\n",
       " 'sub13.csv',\n",
       " 'sub14.csv',\n",
       " 'sub15.csv',\n",
       " 'sub16.csv',\n",
       " 'baseline_1.51.ipynb',\n",
       " 'sub17.csv',\n",
       " 'sub18.csv',\n",
       " 'sub19.csv',\n",
       " 'sub21.csv',\n",
       " 'sub22.csv',\n",
       " 'sub24.csv',\n",
       " 'sub23.csv',\n",
       " 'baseline_1.33359.ipynb',\n",
       " 'ranker.ipynb',\n",
       " 'baseline_catboost.ipynb',\n",
       " 'catboost_info',\n",
       " 'sub25.csv']"
      ]
     },
     "execution_count": 3,
     "metadata": {
      "tags": []
     },
     "output_type": "execute_result"
    }
   ],
   "source": [
    "from google.colab import drive\n",
    "drive.mount('/content/drive')\n",
    "import os\n",
    "try:\n",
    "    os.chdir(\"./drive/My Drive/RuCode/RuCode3/Рекомендации Аниме\")\n",
    "except Exception as e:\n",
    "    print(e)\n",
    "#  проверяем наличие файлов\n",
    "directory = os.listdir()\n",
    "directory"
   ]
  },
  {
   "cell_type": "code",
   "execution_count": 20,
   "metadata": {
    "id": "Zb0dyPwyzfSj"
   },
   "outputs": [],
   "source": [
    "import numpy as np\n",
    "\n",
    "def LabelEncoder(df, names):\n",
    "    values = {}\n",
    "    for name in df[names]:\n",
    "        series = list(set(df[name]))\n",
    "        values[name] = dict([[i, j] for i, j in zip(series,\n",
    "                                                    range(len(series)))])\n",
    "    return values\n",
    "\n",
    "def to_encode(frame, names, encoding):\n",
    "    df = frame.copy()\n",
    "    for name in df[names]:\n",
    "        df[name] = df[name].apply(lambda x: encoding[name].get(x, np.nan))\n",
    "    return df"
   ]
  },
  {
   "cell_type": "markdown",
   "metadata": {
    "id": "LrpAGHDyx_CA"
   },
   "source": [
    "# Подготовка данных"
   ]
  },
  {
   "cell_type": "code",
   "execution_count": 128,
   "metadata": {
    "id": "o56DJxv5QmOY"
   },
   "outputs": [],
   "source": [
    "import pandas as pd\n",
    "import numpy as np\n",
    "\n",
    "anime = pd.read_csv(\"anime.csv\").replace(\"Unknown\", np.nan)\n",
    "ratings = pd.read_csv(\"user_ratings.csv\", dtype=np.int32)\n",
    "ratings = ratings.loc[ratings[\"rating\"] != 0]\n",
    "sample = pd.read_csv(\"sample_submission.csv\")"
   ]
  },
  {
   "cell_type": "code",
   "execution_count": 129,
   "metadata": {
    "id": "kv9ZwB4gVHtv"
   },
   "outputs": [],
   "source": [
    "sample_new = [[int(i) for i in id.split()] for id, rat in sample.values]\n",
    "sample_df = pd.DataFrame(sample_new, columns=[\"user_id\", \"Id\"])"
   ]
  },
  {
   "cell_type": "code",
   "execution_count": 96,
   "metadata": {
    "colab": {
     "base_uri": "https://localhost:8080/",
     "height": 133
    },
    "id": "wrTY_0NzkfyN",
    "outputId": "a50a0d1b-f8a7-41a9-b11c-1891559fc640"
   },
   "outputs": [
    {
     "data": {
      "text/html": [
       "<div>\n",
       "<style scoped>\n",
       "    .dataframe tbody tr th:only-of-type {\n",
       "        vertical-align: middle;\n",
       "    }\n",
       "\n",
       "    .dataframe tbody tr th {\n",
       "        vertical-align: top;\n",
       "    }\n",
       "\n",
       "    .dataframe thead th {\n",
       "        text-align: right;\n",
       "    }\n",
       "</style>\n",
       "<table border=\"1\" class=\"dataframe\">\n",
       "  <thead>\n",
       "    <tr style=\"text-align: right;\">\n",
       "      <th></th>\n",
       "      <th>user_id</th>\n",
       "      <th>anime_id</th>\n",
       "      <th>rating</th>\n",
       "      <th>watching_status</th>\n",
       "      <th>watched_episodes</th>\n",
       "    </tr>\n",
       "  </thead>\n",
       "  <tbody>\n",
       "    <tr>\n",
       "      <th>0</th>\n",
       "      <td>0</td>\n",
       "      <td>121</td>\n",
       "      <td>8</td>\n",
       "      <td>1</td>\n",
       "      <td>0</td>\n",
       "    </tr>\n",
       "    <tr>\n",
       "      <th>1</th>\n",
       "      <td>0</td>\n",
       "      <td>12815</td>\n",
       "      <td>10</td>\n",
       "      <td>1</td>\n",
       "      <td>3</td>\n",
       "    </tr>\n",
       "    <tr>\n",
       "      <th>2</th>\n",
       "      <td>0</td>\n",
       "      <td>3588</td>\n",
       "      <td>9</td>\n",
       "      <td>1</td>\n",
       "      <td>13</td>\n",
       "    </tr>\n",
       "  </tbody>\n",
       "</table>\n",
       "</div>"
      ],
      "text/plain": [
       "   user_id  anime_id  rating  watching_status  watched_episodes\n",
       "0        0       121       8                1                 0\n",
       "1        0     12815      10                1                 3\n",
       "2        0      3588       9                1                13"
      ]
     },
     "execution_count": 96,
     "metadata": {},
     "output_type": "execute_result"
    }
   ],
   "source": [
    "ratings.head(3)"
   ]
  },
  {
   "cell_type": "code",
   "execution_count": 130,
   "metadata": {
    "id": "ld02AewfyX6B"
   },
   "outputs": [],
   "source": [
    "# делим данные\n",
    "from sklearn.model_selection import train_test_split\n",
    "\n",
    "X_train, X_test = train_test_split(ratings.drop([\"watching_status\",\n",
    "                                                 \"watched_episodes\"],\n",
    "                                                axis=1),\n",
    "                                   test_size=0.1,\n",
    "                                   random_state=42)"
   ]
  },
  {
   "cell_type": "code",
   "execution_count": 25,
   "metadata": {
    "colab": {
     "base_uri": "https://localhost:8080/",
     "height": 133
    },
    "id": "LL8ZhCJ149Jt",
    "outputId": "94396bfd-08ce-4ae2-e459-3e56e92e87bf"
   },
   "outputs": [
    {
     "data": {
      "text/html": [
       "<div>\n",
       "<style scoped>\n",
       "    .dataframe tbody tr th:only-of-type {\n",
       "        vertical-align: middle;\n",
       "    }\n",
       "\n",
       "    .dataframe tbody tr th {\n",
       "        vertical-align: top;\n",
       "    }\n",
       "\n",
       "    .dataframe thead th {\n",
       "        text-align: right;\n",
       "    }\n",
       "</style>\n",
       "<table border=\"1\" class=\"dataframe\">\n",
       "  <thead>\n",
       "    <tr style=\"text-align: right;\">\n",
       "      <th></th>\n",
       "      <th>user_id</th>\n",
       "      <th>anime_id</th>\n",
       "      <th>rating</th>\n",
       "    </tr>\n",
       "  </thead>\n",
       "  <tbody>\n",
       "    <tr>\n",
       "      <th>6147150</th>\n",
       "      <td>32104</td>\n",
       "      <td>41168</td>\n",
       "      <td>5</td>\n",
       "    </tr>\n",
       "    <tr>\n",
       "      <th>12933307</th>\n",
       "      <td>66845</td>\n",
       "      <td>11981</td>\n",
       "      <td>10</td>\n",
       "    </tr>\n",
       "    <tr>\n",
       "      <th>11253106</th>\n",
       "      <td>58330</td>\n",
       "      <td>916</td>\n",
       "      <td>6</td>\n",
       "    </tr>\n",
       "  </tbody>\n",
       "</table>\n",
       "</div>"
      ],
      "text/plain": [
       "          user_id  anime_id  rating\n",
       "6147150     32104     41168       5\n",
       "12933307    66845     11981      10\n",
       "11253106    58330       916       6"
      ]
     },
     "execution_count": 25,
     "metadata": {},
     "output_type": "execute_result"
    }
   ],
   "source": [
    "X_train.head(3)"
   ]
  },
  {
   "cell_type": "code",
   "execution_count": 132,
   "metadata": {
    "colab": {
     "base_uri": "https://localhost:8080/",
     "height": 133
    },
    "id": "2f6FVFOpXQho",
    "outputId": "4307ed05-aebb-4f78-e8bc-bb78390080ea"
   },
   "outputs": [
    {
     "data": {
      "text/html": [
       "<div>\n",
       "<style scoped>\n",
       "    .dataframe tbody tr th:only-of-type {\n",
       "        vertical-align: middle;\n",
       "    }\n",
       "\n",
       "    .dataframe tbody tr th {\n",
       "        vertical-align: top;\n",
       "    }\n",
       "\n",
       "    .dataframe thead th {\n",
       "        text-align: right;\n",
       "    }\n",
       "</style>\n",
       "<table border=\"1\" class=\"dataframe\">\n",
       "  <thead>\n",
       "    <tr style=\"text-align: right;\">\n",
       "      <th></th>\n",
       "      <th>user_id</th>\n",
       "      <th>rating_median</th>\n",
       "      <th>rating_mean</th>\n",
       "      <th>rating_var</th>\n",
       "      <th>rating_skew</th>\n",
       "      <th>num_watched</th>\n",
       "    </tr>\n",
       "  </thead>\n",
       "  <tbody>\n",
       "    <tr>\n",
       "      <th>0</th>\n",
       "      <td>0.0</td>\n",
       "      <td>9.0</td>\n",
       "      <td>9.000000</td>\n",
       "      <td>1.000000</td>\n",
       "      <td>3.0</td>\n",
       "      <td>0.000000</td>\n",
       "    </tr>\n",
       "    <tr>\n",
       "      <th>1</th>\n",
       "      <td>1.0</td>\n",
       "      <td>7.0</td>\n",
       "      <td>7.283465</td>\n",
       "      <td>1.331709</td>\n",
       "      <td>127.0</td>\n",
       "      <td>-0.826844</td>\n",
       "    </tr>\n",
       "    <tr>\n",
       "      <th>2</th>\n",
       "      <td>3.0</td>\n",
       "      <td>7.0</td>\n",
       "      <td>7.508197</td>\n",
       "      <td>1.657899</td>\n",
       "      <td>183.0</td>\n",
       "      <td>-0.502368</td>\n",
       "    </tr>\n",
       "  </tbody>\n",
       "</table>\n",
       "</div>"
      ],
      "text/plain": [
       "   user_id  rating_median  rating_mean  rating_var  rating_skew  num_watched\n",
       "0      0.0            9.0     9.000000    1.000000          3.0     0.000000\n",
       "1      1.0            7.0     7.283465    1.331709        127.0    -0.826844\n",
       "2      3.0            7.0     7.508197    1.657899        183.0    -0.502368"
      ]
     },
     "execution_count": 132,
     "metadata": {},
     "output_type": "execute_result"
    }
   ],
   "source": [
    "grouped_ratings = X_train[[\"user_id\", \"rating\"]].groupby(\"user_id\")\\\n",
    "                                                .agg([\"median\", \"mean\", #\"std\",\n",
    "                                                      \"var\", \"count\", \"skew\"\n",
    "                                                     ])\n",
    "\n",
    "additionally_user = pd.DataFrame(grouped_ratings.reset_index().values,\n",
    "                                 columns=[\"user_id\", \"rating_median\", \"rating_mean\",\n",
    "                                          \"rating_var\", \"rating_skew\",\n",
    "                                          \"num_watched\"])\n",
    "\n",
    "additionally_user.head(3)"
   ]
  },
  {
   "cell_type": "code",
   "execution_count": 133,
   "metadata": {
    "id": "ZNkDT-kMrcrS"
   },
   "outputs": [],
   "source": [
    "categorical = [\"Type\", \"Producers\", \"Licensors\",\n",
    "               \"Studios\", \"Based on\", \"Age limit\",\n",
    "               \"Duration\"]\n",
    "\n",
    "numeric = [\"Avg score\", \"Num episodes\", \"In list\",\n",
    "           \"In favourites\", \"Watching\", \"Finished\",\n",
    "           \"On hold\", \"Dropped\", \"Planning to watch\",\n",
    "           \"Group members\", 'Score-10', 'Score-9',\n",
    "           'Score-8', 'Score-7', 'Score-6',\n",
    "           'Score-5', 'Score-4', 'Score-3',\n",
    "           'Score-2', 'Score-1'\n",
    "          ]"
   ]
  },
  {
   "cell_type": "code",
   "execution_count": 134,
   "metadata": {
    "id": "Dev9KmK-r-4H"
   },
   "outputs": [],
   "source": [
    "encode = LabelEncoder(anime, categorical)\n",
    "anime_encode = to_encode(anime, categorical, encode)"
   ]
  },
  {
   "cell_type": "code",
   "execution_count": 135,
   "metadata": {
    "id": "LLgWupOYuBO_"
   },
   "outputs": [],
   "source": [
    "X_train_add = X_train.merge(additionally_user, how=\"left\", on=\"user_id\")\\\n",
    "                     .merge(anime_encode[categorical + numeric + [\"Id\"]],\n",
    "                            how=\"left\", left_on=\"anime_id\", right_on=\"Id\")\\\n",
    "                            .drop([\"user_id\", \"Id\", \"anime_id\"], axis=1)\\\n",
    "                            .drop_duplicates()"
   ]
  },
  {
   "cell_type": "code",
   "execution_count": 136,
   "metadata": {
    "id": "bn1Aou1Q6ypg"
   },
   "outputs": [],
   "source": [
    "X_test_add = X_test.merge(additionally_user, how=\"left\", on=\"user_id\")\\\n",
    "                     .merge(anime_encode[categorical + numeric + [\"Id\"]],\n",
    "                            how=\"left\", left_on=\"anime_id\", right_on=\"Id\")\\\n",
    "                            .drop([\"user_id\", \"Id\", \"anime_id\"], axis=1)\\\n",
    "                            .drop_duplicates()"
   ]
  },
  {
   "cell_type": "code",
   "execution_count": 103,
   "metadata": {
    "colab": {
     "base_uri": "https://localhost:8080/",
     "height": 170
    },
    "id": "BhIcTwPu0hZq",
    "outputId": "0cf365af-5e4c-4bee-b91f-33e750532c82"
   },
   "outputs": [
    {
     "data": {
      "text/html": [
       "<div>\n",
       "<style scoped>\n",
       "    .dataframe tbody tr th:only-of-type {\n",
       "        vertical-align: middle;\n",
       "    }\n",
       "\n",
       "    .dataframe tbody tr th {\n",
       "        vertical-align: top;\n",
       "    }\n",
       "\n",
       "    .dataframe thead th {\n",
       "        text-align: right;\n",
       "    }\n",
       "</style>\n",
       "<table border=\"1\" class=\"dataframe\">\n",
       "  <thead>\n",
       "    <tr style=\"text-align: right;\">\n",
       "      <th></th>\n",
       "      <th>rating</th>\n",
       "      <th>rating_median</th>\n",
       "      <th>rating_mean</th>\n",
       "      <th>rating_var</th>\n",
       "      <th>num_watched</th>\n",
       "      <th>Type</th>\n",
       "      <th>Producers</th>\n",
       "      <th>Licensors</th>\n",
       "      <th>Studios</th>\n",
       "      <th>Based on</th>\n",
       "      <th>...</th>\n",
       "      <th>Score-10</th>\n",
       "      <th>Score-9</th>\n",
       "      <th>Score-8</th>\n",
       "      <th>Score-7</th>\n",
       "      <th>Score-6</th>\n",
       "      <th>Score-5</th>\n",
       "      <th>Score-4</th>\n",
       "      <th>Score-3</th>\n",
       "      <th>Score-2</th>\n",
       "      <th>Score-1</th>\n",
       "    </tr>\n",
       "  </thead>\n",
       "  <tbody>\n",
       "    <tr>\n",
       "      <th>0</th>\n",
       "      <td>10</td>\n",
       "      <td>9.0</td>\n",
       "      <td>8.103448</td>\n",
       "      <td>6.493553</td>\n",
       "      <td>116.0</td>\n",
       "      <td>3</td>\n",
       "      <td>2969</td>\n",
       "      <td>10</td>\n",
       "      <td>390</td>\n",
       "      <td>4</td>\n",
       "      <td>...</td>\n",
       "      <td>66252.0</td>\n",
       "      <td>96956.0</td>\n",
       "      <td>84546.0</td>\n",
       "      <td>41611.0</td>\n",
       "      <td>14305.0</td>\n",
       "      <td>6216.0</td>\n",
       "      <td>2578.0</td>\n",
       "      <td>994.0</td>\n",
       "      <td>512.0</td>\n",
       "      <td>922.0</td>\n",
       "    </tr>\n",
       "    <tr>\n",
       "      <th>1</th>\n",
       "      <td>7</td>\n",
       "      <td>6.0</td>\n",
       "      <td>4.754690</td>\n",
       "      <td>13.107366</td>\n",
       "      <td>693.0</td>\n",
       "      <td>3</td>\n",
       "      <td>34</td>\n",
       "      <td>119</td>\n",
       "      <td>942</td>\n",
       "      <td>12</td>\n",
       "      <td>...</td>\n",
       "      <td>1668.0</td>\n",
       "      <td>2980.0</td>\n",
       "      <td>6203.0</td>\n",
       "      <td>7513.0</td>\n",
       "      <td>3338.0</td>\n",
       "      <td>1659.0</td>\n",
       "      <td>575.0</td>\n",
       "      <td>205.0</td>\n",
       "      <td>98.0</td>\n",
       "      <td>89.0</td>\n",
       "    </tr>\n",
       "    <tr>\n",
       "      <th>2</th>\n",
       "      <td>0</td>\n",
       "      <td>0.0</td>\n",
       "      <td>1.272981</td>\n",
       "      <td>8.243709</td>\n",
       "      <td>359.0</td>\n",
       "      <td>3</td>\n",
       "      <td>677</td>\n",
       "      <td>192</td>\n",
       "      <td>877</td>\n",
       "      <td>12</td>\n",
       "      <td>...</td>\n",
       "      <td>4490.0</td>\n",
       "      <td>8549.0</td>\n",
       "      <td>16921.0</td>\n",
       "      <td>17138.0</td>\n",
       "      <td>8117.0</td>\n",
       "      <td>4029.0</td>\n",
       "      <td>1650.0</td>\n",
       "      <td>701.0</td>\n",
       "      <td>324.0</td>\n",
       "      <td>219.0</td>\n",
       "    </tr>\n",
       "  </tbody>\n",
       "</table>\n",
       "<p>3 rows × 32 columns</p>\n",
       "</div>"
      ],
      "text/plain": [
       "   rating  rating_median  rating_mean  rating_var  num_watched  Type  \\\n",
       "0      10            9.0     8.103448    6.493553        116.0     3   \n",
       "1       7            6.0     4.754690   13.107366        693.0     3   \n",
       "2       0            0.0     1.272981    8.243709        359.0     3   \n",
       "\n",
       "   Producers  Licensors  Studios  Based on  ...  Score-10  Score-9  Score-8  \\\n",
       "0       2969         10      390         4  ...   66252.0  96956.0  84546.0   \n",
       "1         34        119      942        12  ...    1668.0   2980.0   6203.0   \n",
       "2        677        192      877        12  ...    4490.0   8549.0  16921.0   \n",
       "\n",
       "   Score-7  Score-6  Score-5  Score-4  Score-3  Score-2  Score-1  \n",
       "0  41611.0  14305.0   6216.0   2578.0    994.0    512.0    922.0  \n",
       "1   7513.0   3338.0   1659.0    575.0    205.0     98.0     89.0  \n",
       "2  17138.0   8117.0   4029.0   1650.0    701.0    324.0    219.0  \n",
       "\n",
       "[3 rows x 32 columns]"
      ]
     },
     "execution_count": 103,
     "metadata": {},
     "output_type": "execute_result"
    }
   ],
   "source": [
    "X_train_add.head(3)"
   ]
  },
  {
   "cell_type": "code",
   "execution_count": 137,
   "metadata": {},
   "outputs": [],
   "source": [
    "from autogluon.tabular import TabularPredictor"
   ]
  },
  {
   "cell_type": "code",
   "execution_count": 141,
   "metadata": {},
   "outputs": [
    {
     "name": "stderr",
     "output_type": "stream",
     "text": [
      "No path specified. Models will be saved in: \"AutogluonModels/ag-20210411_120020/\"\n"
     ]
    }
   ],
   "source": [
    "pred = TabularPredictor(label=\"rating\", problem_type=\"regression\")"
   ]
  },
  {
   "cell_type": "code",
   "execution_count": null,
   "metadata": {},
   "outputs": [
    {
     "name": "stderr",
     "output_type": "stream",
     "text": [
      "Presets specified: ['best_quality']\n",
      "Beginning AutoGluon training ...\n",
      "AutoGluon will save models to \"AutogluonModels/ag-20210411_120020/\"\n",
      "AutoGluon Version:  0.1.0\n",
      "Train Data Rows:    9815011\n",
      "Train Data Columns: 2\n",
      "Preprocessing data ...\n",
      "Using Feature Generators to preprocess the data ...\n",
      "Fitting AutoMLPipelineFeatureGenerator...\n",
      "\tAvailable Memory:                    5614.91 MB\n",
      "\tTrain Data (Original)  Memory Usage: 78.52 MB (1.4% of available memory)\n",
      "\tInferring data type of each feature based on column values. Set feature_metadata_in to manually specify special dtypes of the features.\n",
      "\tStage 1 Generators:\n",
      "\t\tFitting AsTypeFeatureGenerator...\n",
      "\tStage 2 Generators:\n",
      "\t\tFitting FillNaFeatureGenerator...\n",
      "\tStage 3 Generators:\n",
      "\t\tFitting IdentityFeatureGenerator...\n",
      "\tStage 4 Generators:\n",
      "\t\tFitting DropUniqueFeatureGenerator...\n",
      "\tTypes of features in original data (raw dtype, special dtypes):\n",
      "\t\t('int', []) : 2 | ['user_id', 'anime_id']\n",
      "\tTypes of features in processed data (raw dtype, special dtypes):\n",
      "\t\t('int', []) : 2 | ['user_id', 'anime_id']\n",
      "\t4.5s = Fit runtime\n",
      "\t2 features in original data used to generate 2 features in processed data.\n",
      "\tTrain Data (Processed) Memory Usage: 78.52 MB (1.3% of available memory)\n",
      "Data preprocessing and feature engineering runtime = 6.14s ...\n",
      "AutoGluon will gauge predictive performance using evaluation metric: 'root_mean_squared_error'\n",
      "\tTo change this, specify the eval_metric argument of fit()\n",
      "Fitting model: RandomForestMSE_BAG_L1 ...\n",
      "\tWarning: Model is expected to require 118.47% of available memory (Estimated before training)...\n",
      "\tNot enough memory to train RandomForestMSE_BAG_L1... Skipping this model.\n",
      "Fitting model: ExtraTreesMSE_BAG_L1 ...\n",
      "\tWarning: Model is expected to require 117.82% of available memory (Estimated before training)...\n",
      "\tNot enough memory to train ExtraTreesMSE_BAG_L1... Skipping this model.\n",
      "Fitting model: KNeighborsUnif_BAG_L1 ...\n",
      "\t-1.74\t = Validation root_mean_squared_error score\n",
      "\t125.66s\t = Training runtime\n",
      "\t19.15s\t = Validation runtime\n",
      "Fitting model: KNeighborsDist_BAG_L1 ...\n",
      "\t-1.7697\t = Validation root_mean_squared_error score\n",
      "\t126.13s\t = Training runtime\n",
      "\t20.2s\t = Validation runtime\n",
      "Fitting model: LightGBM_BAG_L1 ...\n"
     ]
    },
    {
     "name": "stdout",
     "output_type": "stream",
     "text": [
      "[1000]\ttrain_set's rmse: 1.68961\tvalid_set's rmse: 1.69035\n",
      "[1000]\ttrain_set's rmse: 1.689\tvalid_set's rmse: 1.6906\n",
      "[1000]\ttrain_set's rmse: 1.68982\tvalid_set's rmse: 1.68648\n",
      "[1000]\ttrain_set's rmse: 1.6916\tvalid_set's rmse: 1.69135\n",
      "[1000]\ttrain_set's rmse: 1.68878\tvalid_set's rmse: 1.68842\n",
      "[1000]\ttrain_set's rmse: 1.69048\tvalid_set's rmse: 1.69157\n",
      "[1000]\ttrain_set's rmse: 1.69085\tvalid_set's rmse: 1.69405\n",
      "[1000]\ttrain_set's rmse: 1.69102\tvalid_set's rmse: 1.6907\n",
      "[1000]\ttrain_set's rmse: 1.68803\tvalid_set's rmse: 1.68889\n",
      "[1000]\ttrain_set's rmse: 1.69039\tvalid_set's rmse: 1.69374\n"
     ]
    },
    {
     "name": "stderr",
     "output_type": "stream",
     "text": [
      "\t-1.6905\t = Validation root_mean_squared_error score\n",
      "\t1439.45s\t = Training runtime\n",
      "\t49.98s\t = Validation runtime\n",
      "Fitting model: LightGBMXT_BAG_L1 ...\n"
     ]
    },
    {
     "name": "stdout",
     "output_type": "stream",
     "text": [
      "[1000]\ttrain_set's rmse: 1.71752\tvalid_set's rmse: 1.71783\n",
      "[2000]\ttrain_set's rmse: 1.71457\tvalid_set's rmse: 1.71493\n",
      "[3000]\ttrain_set's rmse: 1.71195\tvalid_set's rmse: 1.71237\n",
      "[4000]\ttrain_set's rmse: 1.70985\tvalid_set's rmse: 1.71028\n",
      "[5000]\ttrain_set's rmse: 1.7081\tvalid_set's rmse: 1.70856\n",
      "[6000]\ttrain_set's rmse: 1.70663\tvalid_set's rmse: 1.7071\n",
      "[7000]\ttrain_set's rmse: 1.70541\tvalid_set's rmse: 1.70589\n",
      "[8000]\ttrain_set's rmse: 1.70418\tvalid_set's rmse: 1.70468\n",
      "[9000]\ttrain_set's rmse: 1.70316\tvalid_set's rmse: 1.70368\n",
      "[10000]\ttrain_set's rmse: 1.70226\tvalid_set's rmse: 1.70279\n",
      "[1000]\ttrain_set's rmse: 1.71725\tvalid_set's rmse: 1.71844\n",
      "[2000]\ttrain_set's rmse: 1.71372\tvalid_set's rmse: 1.71496\n",
      "[3000]\ttrain_set's rmse: 1.71141\tvalid_set's rmse: 1.71269\n",
      "[4000]\ttrain_set's rmse: 1.70943\tvalid_set's rmse: 1.71074\n",
      "[5000]\ttrain_set's rmse: 1.70776\tvalid_set's rmse: 1.70911\n",
      "[6000]\ttrain_set's rmse: 1.70624\tvalid_set's rmse: 1.7076\n",
      "[7000]\ttrain_set's rmse: 1.70498\tvalid_set's rmse: 1.70634\n",
      "[8000]\ttrain_set's rmse: 1.70374\tvalid_set's rmse: 1.7051\n",
      "[9000]\ttrain_set's rmse: 1.70288\tvalid_set's rmse: 1.70427\n",
      "[10000]\ttrain_set's rmse: 1.7019\tvalid_set's rmse: 1.7033\n",
      "[1000]\ttrain_set's rmse: 1.71781\tvalid_set's rmse: 1.71424\n",
      "[2000]\ttrain_set's rmse: 1.71441\tvalid_set's rmse: 1.71085\n",
      "[3000]\ttrain_set's rmse: 1.71181\tvalid_set's rmse: 1.70824\n",
      "[4000]\ttrain_set's rmse: 1.70974\tvalid_set's rmse: 1.70618\n",
      "[5000]\ttrain_set's rmse: 1.70809\tvalid_set's rmse: 1.70456\n",
      "[6000]\ttrain_set's rmse: 1.70676\tvalid_set's rmse: 1.70323\n",
      "[7000]\ttrain_set's rmse: 1.70551\tvalid_set's rmse: 1.70198\n",
      "[8000]\ttrain_set's rmse: 1.70431\tvalid_set's rmse: 1.70078\n",
      "[9000]\ttrain_set's rmse: 1.70335\tvalid_set's rmse: 1.69983\n",
      "[10000]\ttrain_set's rmse: 1.70237\tvalid_set's rmse: 1.69887\n",
      "[1000]\ttrain_set's rmse: 1.7175\tvalid_set's rmse: 1.71652\n",
      "[2000]\ttrain_set's rmse: 1.71448\tvalid_set's rmse: 1.71352\n",
      "[3000]\ttrain_set's rmse: 1.71217\tvalid_set's rmse: 1.71123\n",
      "[4000]\ttrain_set's rmse: 1.7101\tvalid_set's rmse: 1.70921\n",
      "[5000]\ttrain_set's rmse: 1.70856\tvalid_set's rmse: 1.70771\n",
      "[6000]\ttrain_set's rmse: 1.70722\tvalid_set's rmse: 1.7064\n",
      "[7000]\ttrain_set's rmse: 1.70601\tvalid_set's rmse: 1.70521\n",
      "[8000]\ttrain_set's rmse: 1.70474\tvalid_set's rmse: 1.70397\n",
      "[9000]\ttrain_set's rmse: 1.70388\tvalid_set's rmse: 1.70312\n",
      "[10000]\ttrain_set's rmse: 1.70303\tvalid_set's rmse: 1.70231\n",
      "[1000]\ttrain_set's rmse: 1.71734\tvalid_set's rmse: 1.71649\n",
      "[2000]\ttrain_set's rmse: 1.71406\tvalid_set's rmse: 1.71326\n",
      "[3000]\ttrain_set's rmse: 1.7114\tvalid_set's rmse: 1.71066\n",
      "[4000]\ttrain_set's rmse: 1.7095\tvalid_set's rmse: 1.70881\n",
      "[5000]\ttrain_set's rmse: 1.7077\tvalid_set's rmse: 1.70704\n",
      "[6000]\ttrain_set's rmse: 1.70626\tvalid_set's rmse: 1.70562\n",
      "[7000]\ttrain_set's rmse: 1.70499\tvalid_set's rmse: 1.70436\n",
      "[8000]\ttrain_set's rmse: 1.70389\tvalid_set's rmse: 1.70328\n",
      "[9000]\ttrain_set's rmse: 1.70287\tvalid_set's rmse: 1.70227\n",
      "[10000]\ttrain_set's rmse: 1.70189\tvalid_set's rmse: 1.7013\n",
      "[1000]\ttrain_set's rmse: 1.71723\tvalid_set's rmse: 1.71787\n",
      "[2000]\ttrain_set's rmse: 1.71382\tvalid_set's rmse: 1.71447\n",
      "[3000]\ttrain_set's rmse: 1.71133\tvalid_set's rmse: 1.712\n",
      "[4000]\ttrain_set's rmse: 1.70948\tvalid_set's rmse: 1.71017\n",
      "[5000]\ttrain_set's rmse: 1.70796\tvalid_set's rmse: 1.70866\n",
      "[6000]\ttrain_set's rmse: 1.70653\tvalid_set's rmse: 1.70724\n",
      "[7000]\ttrain_set's rmse: 1.70537\tvalid_set's rmse: 1.70609\n",
      "[8000]\ttrain_set's rmse: 1.70414\tvalid_set's rmse: 1.70488\n",
      "[9000]\ttrain_set's rmse: 1.7031\tvalid_set's rmse: 1.70384\n",
      "[10000]\ttrain_set's rmse: 1.70215\tvalid_set's rmse: 1.70289\n",
      "[1000]\ttrain_set's rmse: 1.71699\tvalid_set's rmse: 1.72003\n"
     ]
    }
   ],
   "source": [
    "pred.fit(X_train, presets=\"best_quality\")"
   ]
  },
  {
   "cell_type": "code",
   "execution_count": null,
   "metadata": {},
   "outputs": [],
   "source": []
  },
  {
   "cell_type": "code",
   "execution_count": 104,
   "metadata": {
    "id": "v54XuYo76IH5"
   },
   "outputs": [],
   "source": [
    "X_train, y_train = X_train_add.drop([\"rating\"], axis=1), X_train_add[\"rating\"]\n",
    "X_test, y_test = X_test_add.drop([\"rating\"], axis=1), X_test_add[\"rating\"]"
   ]
  },
  {
   "cell_type": "code",
   "execution_count": 125,
   "metadata": {
    "id": "61nPN1nV2hQQ"
   },
   "outputs": [],
   "source": [
    "from catboost import CatBoostClassifier\n",
    "\n",
    "model = CatBoostClassifier(verbose=1,\n",
    "                          iterations=1000,\n",
    "                          random_state=56,\n",
    "                          task_type=\"GPU\",\n",
    "                          eval_metric=\"Accuracy\",\n",
    "                          #loss_function=\"RMSE\",\n",
    "                          grow_policy=\"Depthwise\",\n",
    "                          use_best_model=True)"
   ]
  },
  {
   "cell_type": "code",
   "execution_count": 127,
   "metadata": {
    "colab": {
     "base_uri": "https://localhost:8080/"
    },
    "id": "5IWx-37S2771",
    "outputId": "8cfd4326-f624-4cb0-8e1f-38d96edba248"
   },
   "outputs": [
    {
     "ename": "KeyboardInterrupt",
     "evalue": "",
     "output_type": "error",
     "traceback": [
      "\u001b[0;31m---------------------------------------------------------------------------\u001b[0m",
      "\u001b[0;31mKeyboardInterrupt\u001b[0m                         Traceback (most recent call last)",
      "\u001b[0;32m<ipython-input-127-17d800bd59ae>\u001b[0m in \u001b[0;36m<module>\u001b[0;34m\u001b[0m\n\u001b[1;32m      1\u001b[0m model.fit(X_train, y_train,\n\u001b[0;32m----> 2\u001b[0;31m           eval_set=(X_test, y_test == 0))\n\u001b[0m",
      "\u001b[0;32m~/downloads/Telegram Desktop/venv/lib/python3.7/site-packages/catboost/core.py\u001b[0m in \u001b[0;36mfit\u001b[0;34m(self, X, y, cat_features, text_features, embedding_features, sample_weight, baseline, use_best_model, eval_set, verbose, logging_level, plot, column_description, verbose_eval, metric_period, silent, early_stopping_rounds, save_snapshot, snapshot_file, snapshot_interval, init_model)\u001b[0m\n\u001b[1;32m   4302\u001b[0m         self._fit(X, y, cat_features, text_features, embedding_features, None, sample_weight, None, None, None, None, baseline, use_best_model,\n\u001b[1;32m   4303\u001b[0m                   \u001b[0meval_set\u001b[0m\u001b[0;34m,\u001b[0m \u001b[0mverbose\u001b[0m\u001b[0;34m,\u001b[0m \u001b[0mlogging_level\u001b[0m\u001b[0;34m,\u001b[0m \u001b[0mplot\u001b[0m\u001b[0;34m,\u001b[0m \u001b[0mcolumn_description\u001b[0m\u001b[0;34m,\u001b[0m \u001b[0mverbose_eval\u001b[0m\u001b[0;34m,\u001b[0m \u001b[0mmetric_period\u001b[0m\u001b[0;34m,\u001b[0m\u001b[0;34m\u001b[0m\u001b[0;34m\u001b[0m\u001b[0m\n\u001b[0;32m-> 4304\u001b[0;31m                   silent, early_stopping_rounds, save_snapshot, snapshot_file, snapshot_interval, init_model)\n\u001b[0m\u001b[1;32m   4305\u001b[0m         \u001b[0;32mreturn\u001b[0m \u001b[0mself\u001b[0m\u001b[0;34m\u001b[0m\u001b[0;34m\u001b[0m\u001b[0m\n\u001b[1;32m   4306\u001b[0m \u001b[0;34m\u001b[0m\u001b[0m\n",
      "\u001b[0;32m~/downloads/Telegram Desktop/venv/lib/python3.7/site-packages/catboost/core.py\u001b[0m in \u001b[0;36m_fit\u001b[0;34m(self, X, y, cat_features, text_features, embedding_features, pairs, sample_weight, group_id, group_weight, subgroup_id, pairs_weight, baseline, use_best_model, eval_set, verbose, logging_level, plot, column_description, verbose_eval, metric_period, silent, early_stopping_rounds, save_snapshot, snapshot_file, snapshot_interval, init_model)\u001b[0m\n\u001b[1;32m   1797\u001b[0m             \u001b[0muse_best_model\u001b[0m\u001b[0;34m,\u001b[0m \u001b[0meval_set\u001b[0m\u001b[0;34m,\u001b[0m \u001b[0mverbose\u001b[0m\u001b[0;34m,\u001b[0m \u001b[0mlogging_level\u001b[0m\u001b[0;34m,\u001b[0m \u001b[0mplot\u001b[0m\u001b[0;34m,\u001b[0m\u001b[0;34m\u001b[0m\u001b[0;34m\u001b[0m\u001b[0m\n\u001b[1;32m   1798\u001b[0m             \u001b[0mcolumn_description\u001b[0m\u001b[0;34m,\u001b[0m \u001b[0mverbose_eval\u001b[0m\u001b[0;34m,\u001b[0m \u001b[0mmetric_period\u001b[0m\u001b[0;34m,\u001b[0m \u001b[0msilent\u001b[0m\u001b[0;34m,\u001b[0m \u001b[0mearly_stopping_rounds\u001b[0m\u001b[0;34m,\u001b[0m\u001b[0;34m\u001b[0m\u001b[0;34m\u001b[0m\u001b[0m\n\u001b[0;32m-> 1799\u001b[0;31m             \u001b[0msave_snapshot\u001b[0m\u001b[0;34m,\u001b[0m \u001b[0msnapshot_file\u001b[0m\u001b[0;34m,\u001b[0m \u001b[0msnapshot_interval\u001b[0m\u001b[0;34m,\u001b[0m \u001b[0minit_model\u001b[0m\u001b[0;34m\u001b[0m\u001b[0;34m\u001b[0m\u001b[0m\n\u001b[0m\u001b[1;32m   1800\u001b[0m         )\n\u001b[1;32m   1801\u001b[0m         \u001b[0mparams\u001b[0m \u001b[0;34m=\u001b[0m \u001b[0mtrain_params\u001b[0m\u001b[0;34m[\u001b[0m\u001b[0;34m\"params\"\u001b[0m\u001b[0;34m]\u001b[0m\u001b[0;34m\u001b[0m\u001b[0;34m\u001b[0m\u001b[0m\n",
      "\u001b[0;32m~/downloads/Telegram Desktop/venv/lib/python3.7/site-packages/catboost/core.py\u001b[0m in \u001b[0;36m_prepare_train_params\u001b[0;34m(self, X, y, cat_features, text_features, embedding_features, pairs, sample_weight, group_id, group_weight, subgroup_id, pairs_weight, baseline, use_best_model, eval_set, verbose, logging_level, plot, column_description, verbose_eval, metric_period, silent, early_stopping_rounds, save_snapshot, snapshot_file, snapshot_interval, init_model)\u001b[0m\n\u001b[1;32m   1684\u001b[0m         train_pool = _build_train_pool(X, y, cat_features, text_features, embedding_features, pairs,\n\u001b[1;32m   1685\u001b[0m                                        \u001b[0msample_weight\u001b[0m\u001b[0;34m,\u001b[0m \u001b[0mgroup_id\u001b[0m\u001b[0;34m,\u001b[0m \u001b[0mgroup_weight\u001b[0m\u001b[0;34m,\u001b[0m \u001b[0msubgroup_id\u001b[0m\u001b[0;34m,\u001b[0m \u001b[0mpairs_weight\u001b[0m\u001b[0;34m,\u001b[0m\u001b[0;34m\u001b[0m\u001b[0;34m\u001b[0m\u001b[0m\n\u001b[0;32m-> 1686\u001b[0;31m                                        baseline, column_description)\n\u001b[0m\u001b[1;32m   1687\u001b[0m         \u001b[0;32mif\u001b[0m \u001b[0mtrain_pool\u001b[0m\u001b[0;34m.\u001b[0m\u001b[0mis_empty_\u001b[0m\u001b[0;34m:\u001b[0m\u001b[0;34m\u001b[0m\u001b[0;34m\u001b[0m\u001b[0m\n\u001b[1;32m   1688\u001b[0m             \u001b[0;32mraise\u001b[0m \u001b[0mCatBoostError\u001b[0m\u001b[0;34m(\u001b[0m\u001b[0;34m\"X is empty.\"\u001b[0m\u001b[0;34m)\u001b[0m\u001b[0;34m\u001b[0m\u001b[0;34m\u001b[0m\u001b[0m\n",
      "\u001b[0;32m~/downloads/Telegram Desktop/venv/lib/python3.7/site-packages/catboost/core.py\u001b[0m in \u001b[0;36m_build_train_pool\u001b[0;34m(X, y, cat_features, text_features, embedding_features, pairs, sample_weight, group_id, group_weight, subgroup_id, pairs_weight, baseline, column_description)\u001b[0m\n\u001b[1;32m    983\u001b[0m             \u001b[0;32mraise\u001b[0m \u001b[0mCatBoostError\u001b[0m\u001b[0;34m(\u001b[0m\u001b[0;34m\"y has not initialized in fit(): X is not catboost.Pool object, y must be not None in fit().\"\u001b[0m\u001b[0;34m)\u001b[0m\u001b[0;34m\u001b[0m\u001b[0;34m\u001b[0m\u001b[0m\n\u001b[1;32m    984\u001b[0m         train_pool = Pool(X, y, cat_features=cat_features, text_features=text_features, embedding_features=embedding_features, pairs=pairs, weight=sample_weight, group_id=group_id,\n\u001b[0;32m--> 985\u001b[0;31m                           group_weight=group_weight, subgroup_id=subgroup_id, pairs_weight=pairs_weight, baseline=baseline)\n\u001b[0m\u001b[1;32m    986\u001b[0m     \u001b[0;32mreturn\u001b[0m \u001b[0mtrain_pool\u001b[0m\u001b[0;34m\u001b[0m\u001b[0;34m\u001b[0m\u001b[0m\n\u001b[1;32m    987\u001b[0m \u001b[0;34m\u001b[0m\u001b[0m\n",
      "\u001b[0;32m~/downloads/Telegram Desktop/venv/lib/python3.7/site-packages/catboost/core.py\u001b[0m in \u001b[0;36m__init__\u001b[0;34m(self, data, label, cat_features, text_features, embedding_features, column_description, pairs, delimiter, has_header, ignore_csv_quoting, weight, group_id, group_weight, subgroup_id, pairs_weight, baseline, feature_names, thread_count)\u001b[0m\n\u001b[1;32m    453\u001b[0m                     )\n\u001b[1;32m    454\u001b[0m \u001b[0;34m\u001b[0m\u001b[0m\n\u001b[0;32m--> 455\u001b[0;31m                 \u001b[0mself\u001b[0m\u001b[0;34m.\u001b[0m\u001b[0m_init\u001b[0m\u001b[0;34m(\u001b[0m\u001b[0mdata\u001b[0m\u001b[0;34m,\u001b[0m \u001b[0mlabel\u001b[0m\u001b[0;34m,\u001b[0m \u001b[0mcat_features\u001b[0m\u001b[0;34m,\u001b[0m \u001b[0mtext_features\u001b[0m\u001b[0;34m,\u001b[0m \u001b[0membedding_features\u001b[0m\u001b[0;34m,\u001b[0m \u001b[0mpairs\u001b[0m\u001b[0;34m,\u001b[0m \u001b[0mweight\u001b[0m\u001b[0;34m,\u001b[0m \u001b[0mgroup_id\u001b[0m\u001b[0;34m,\u001b[0m \u001b[0mgroup_weight\u001b[0m\u001b[0;34m,\u001b[0m \u001b[0msubgroup_id\u001b[0m\u001b[0;34m,\u001b[0m \u001b[0mpairs_weight\u001b[0m\u001b[0;34m,\u001b[0m \u001b[0mbaseline\u001b[0m\u001b[0;34m,\u001b[0m \u001b[0mfeature_names\u001b[0m\u001b[0;34m,\u001b[0m \u001b[0mthread_count\u001b[0m\u001b[0;34m)\u001b[0m\u001b[0;34m\u001b[0m\u001b[0;34m\u001b[0m\u001b[0m\n\u001b[0m\u001b[1;32m    456\u001b[0m         \u001b[0msuper\u001b[0m\u001b[0;34m(\u001b[0m\u001b[0mPool\u001b[0m\u001b[0;34m,\u001b[0m \u001b[0mself\u001b[0m\u001b[0;34m)\u001b[0m\u001b[0;34m.\u001b[0m\u001b[0m__init__\u001b[0m\u001b[0;34m(\u001b[0m\u001b[0;34m)\u001b[0m\u001b[0;34m\u001b[0m\u001b[0;34m\u001b[0m\u001b[0m\n\u001b[1;32m    457\u001b[0m \u001b[0;34m\u001b[0m\u001b[0m\n",
      "\u001b[0;32m~/downloads/Telegram Desktop/venv/lib/python3.7/site-packages/catboost/core.py\u001b[0m in \u001b[0;36m_init\u001b[0;34m(self, data, label, cat_features, text_features, embedding_features, pairs, weight, group_id, group_weight, subgroup_id, pairs_weight, baseline, feature_names, thread_count)\u001b[0m\n\u001b[1;32m    964\u001b[0m             \u001b[0mbaseline\u001b[0m \u001b[0;34m=\u001b[0m \u001b[0mnp\u001b[0m\u001b[0;34m.\u001b[0m\u001b[0mreshape\u001b[0m\u001b[0;34m(\u001b[0m\u001b[0mbaseline\u001b[0m\u001b[0;34m,\u001b[0m \u001b[0;34m(\u001b[0m\u001b[0msamples_count\u001b[0m\u001b[0;34m,\u001b[0m \u001b[0;34m-\u001b[0m\u001b[0;36m1\u001b[0m\u001b[0;34m)\u001b[0m\u001b[0;34m)\u001b[0m\u001b[0;34m\u001b[0m\u001b[0;34m\u001b[0m\u001b[0m\n\u001b[1;32m    965\u001b[0m             \u001b[0mself\u001b[0m\u001b[0;34m.\u001b[0m\u001b[0m_check_baseline_shape\u001b[0m\u001b[0;34m(\u001b[0m\u001b[0mbaseline\u001b[0m\u001b[0;34m,\u001b[0m \u001b[0msamples_count\u001b[0m\u001b[0;34m)\u001b[0m\u001b[0;34m\u001b[0m\u001b[0;34m\u001b[0m\u001b[0m\n\u001b[0;32m--> 966\u001b[0;31m         \u001b[0mself\u001b[0m\u001b[0;34m.\u001b[0m\u001b[0m_init_pool\u001b[0m\u001b[0;34m(\u001b[0m\u001b[0mdata\u001b[0m\u001b[0;34m,\u001b[0m \u001b[0mlabel\u001b[0m\u001b[0;34m,\u001b[0m \u001b[0mcat_features\u001b[0m\u001b[0;34m,\u001b[0m \u001b[0mtext_features\u001b[0m\u001b[0;34m,\u001b[0m \u001b[0membedding_features\u001b[0m\u001b[0;34m,\u001b[0m \u001b[0mpairs\u001b[0m\u001b[0;34m,\u001b[0m \u001b[0mweight\u001b[0m\u001b[0;34m,\u001b[0m \u001b[0mgroup_id\u001b[0m\u001b[0;34m,\u001b[0m \u001b[0mgroup_weight\u001b[0m\u001b[0;34m,\u001b[0m \u001b[0msubgroup_id\u001b[0m\u001b[0;34m,\u001b[0m \u001b[0mpairs_weight\u001b[0m\u001b[0;34m,\u001b[0m \u001b[0mbaseline\u001b[0m\u001b[0;34m,\u001b[0m \u001b[0mfeature_names\u001b[0m\u001b[0;34m,\u001b[0m \u001b[0mthread_count\u001b[0m\u001b[0;34m)\u001b[0m\u001b[0;34m\u001b[0m\u001b[0;34m\u001b[0m\u001b[0m\n\u001b[0m\u001b[1;32m    967\u001b[0m \u001b[0;34m\u001b[0m\u001b[0m\n\u001b[1;32m    968\u001b[0m \u001b[0;34m\u001b[0m\u001b[0m\n",
      "\u001b[0;32m_catboost.pyx\u001b[0m in \u001b[0;36m_catboost._PoolBase._init_pool\u001b[0;34m()\u001b[0m\n",
      "\u001b[0;32m_catboost.pyx\u001b[0m in \u001b[0;36m_catboost._PoolBase._init_pool\u001b[0;34m()\u001b[0m\n",
      "\u001b[0;32m_catboost.pyx\u001b[0m in \u001b[0;36m_catboost._PoolBase._init_features_order_layout_pool\u001b[0;34m()\u001b[0m\n",
      "\u001b[0;32m_catboost.pyx\u001b[0m in \u001b[0;36m_catboost._set_features_order_data_pd_data_frame\u001b[0;34m()\u001b[0m\n",
      "\u001b[0;32m~/downloads/Telegram Desktop/venv/lib/python3.7/site-packages/pandas/core/frame.py\u001b[0m in \u001b[0;36miteritems\u001b[0;34m(self)\u001b[0m\n\u001b[1;32m   1022\u001b[0m     \u001b[0;34m@\u001b[0m\u001b[0mAppender\u001b[0m\u001b[0;34m(\u001b[0m\u001b[0m_shared_docs\u001b[0m\u001b[0;34m[\u001b[0m\u001b[0;34m\"items\"\u001b[0m\u001b[0;34m]\u001b[0m\u001b[0;34m)\u001b[0m\u001b[0;34m\u001b[0m\u001b[0;34m\u001b[0m\u001b[0m\n\u001b[1;32m   1023\u001b[0m     \u001b[0;32mdef\u001b[0m \u001b[0miteritems\u001b[0m\u001b[0;34m(\u001b[0m\u001b[0mself\u001b[0m\u001b[0;34m)\u001b[0m \u001b[0;34m->\u001b[0m \u001b[0mIterable\u001b[0m\u001b[0;34m[\u001b[0m\u001b[0mTuple\u001b[0m\u001b[0;34m[\u001b[0m\u001b[0mLabel\u001b[0m\u001b[0;34m,\u001b[0m \u001b[0mSeries\u001b[0m\u001b[0;34m]\u001b[0m\u001b[0;34m]\u001b[0m\u001b[0;34m:\u001b[0m\u001b[0;34m\u001b[0m\u001b[0;34m\u001b[0m\u001b[0m\n\u001b[0;32m-> 1024\u001b[0;31m         \u001b[0;32myield\u001b[0m \u001b[0;32mfrom\u001b[0m \u001b[0mself\u001b[0m\u001b[0;34m.\u001b[0m\u001b[0mitems\u001b[0m\u001b[0;34m(\u001b[0m\u001b[0;34m)\u001b[0m\u001b[0;34m\u001b[0m\u001b[0;34m\u001b[0m\u001b[0m\n\u001b[0m\u001b[1;32m   1025\u001b[0m \u001b[0;34m\u001b[0m\u001b[0m\n\u001b[1;32m   1026\u001b[0m     \u001b[0;32mdef\u001b[0m \u001b[0miterrows\u001b[0m\u001b[0;34m(\u001b[0m\u001b[0mself\u001b[0m\u001b[0;34m)\u001b[0m \u001b[0;34m->\u001b[0m \u001b[0mIterable\u001b[0m\u001b[0;34m[\u001b[0m\u001b[0mTuple\u001b[0m\u001b[0;34m[\u001b[0m\u001b[0mLabel\u001b[0m\u001b[0;34m,\u001b[0m \u001b[0mSeries\u001b[0m\u001b[0;34m]\u001b[0m\u001b[0;34m]\u001b[0m\u001b[0;34m:\u001b[0m\u001b[0;34m\u001b[0m\u001b[0;34m\u001b[0m\u001b[0m\n",
      "\u001b[0;32m~/downloads/Telegram Desktop/venv/lib/python3.7/site-packages/pandas/core/frame.py\u001b[0m in \u001b[0;36mitems\u001b[0;34m(self)\u001b[0m\n\u001b[1;32m   1015\u001b[0m         \u001b[0;32mif\u001b[0m \u001b[0mself\u001b[0m\u001b[0;34m.\u001b[0m\u001b[0mcolumns\u001b[0m\u001b[0;34m.\u001b[0m\u001b[0mis_unique\u001b[0m \u001b[0;32mand\u001b[0m \u001b[0mhasattr\u001b[0m\u001b[0;34m(\u001b[0m\u001b[0mself\u001b[0m\u001b[0;34m,\u001b[0m \u001b[0;34m\"_item_cache\"\u001b[0m\u001b[0;34m)\u001b[0m\u001b[0;34m:\u001b[0m\u001b[0;34m\u001b[0m\u001b[0;34m\u001b[0m\u001b[0m\n\u001b[1;32m   1016\u001b[0m             \u001b[0;32mfor\u001b[0m \u001b[0mk\u001b[0m \u001b[0;32min\u001b[0m \u001b[0mself\u001b[0m\u001b[0;34m.\u001b[0m\u001b[0mcolumns\u001b[0m\u001b[0;34m:\u001b[0m\u001b[0;34m\u001b[0m\u001b[0;34m\u001b[0m\u001b[0m\n\u001b[0;32m-> 1017\u001b[0;31m                 \u001b[0;32myield\u001b[0m \u001b[0mk\u001b[0m\u001b[0;34m,\u001b[0m \u001b[0mself\u001b[0m\u001b[0;34m.\u001b[0m\u001b[0m_get_item_cache\u001b[0m\u001b[0;34m(\u001b[0m\u001b[0mk\u001b[0m\u001b[0;34m)\u001b[0m\u001b[0;34m\u001b[0m\u001b[0;34m\u001b[0m\u001b[0m\n\u001b[0m\u001b[1;32m   1018\u001b[0m         \u001b[0;32melse\u001b[0m\u001b[0;34m:\u001b[0m\u001b[0;34m\u001b[0m\u001b[0;34m\u001b[0m\u001b[0m\n\u001b[1;32m   1019\u001b[0m             \u001b[0;32mfor\u001b[0m \u001b[0mi\u001b[0m\u001b[0;34m,\u001b[0m \u001b[0mk\u001b[0m \u001b[0;32min\u001b[0m \u001b[0menumerate\u001b[0m\u001b[0;34m(\u001b[0m\u001b[0mself\u001b[0m\u001b[0;34m.\u001b[0m\u001b[0mcolumns\u001b[0m\u001b[0;34m)\u001b[0m\u001b[0;34m:\u001b[0m\u001b[0;34m\u001b[0m\u001b[0;34m\u001b[0m\u001b[0m\n",
      "\u001b[0;31mKeyboardInterrupt\u001b[0m: "
     ]
    }
   ],
   "source": [
    "model.fit(X_train, y_train,\n",
    "          eval_set=(X_test, y_test == 0))"
   ]
  },
  {
   "cell_type": "code",
   "execution_count": 113,
   "metadata": {
    "colab": {
     "base_uri": "https://localhost:8080/"
    },
    "id": "yY0mB6RHBNL4",
    "outputId": "2f775970-106a-44e4-e90c-71d52bc2279c"
   },
   "outputs": [
    {
     "data": {
      "text/plain": [
       "[('rating_mean', 45.498502149055554),\n",
       " ('Finished', 12.802071131342665),\n",
       " ('Planning to watch', 7.083836507697306),\n",
       " ('rating_var', 6.570353066638482),\n",
       " ('Score-9', 5.049236289141738),\n",
       " ('Score-10', 5.047875492582905),\n",
       " ('Avg score', 3.0888337886298105),\n",
       " ('num_watched', 2.707125390906939),\n",
       " ('Score-8', 2.6109826685686435),\n",
       " ('Num episodes', 1.697859316135777)]"
      ]
     },
     "execution_count": 113,
     "metadata": {},
     "output_type": "execute_result"
    }
   ],
   "source": [
    "sorted(zip(model.feature_names_, model.feature_importances_),\n",
    "       key=lambda x: x[1], reverse=True)[:10]"
   ]
  },
  {
   "cell_type": "code",
   "execution_count": 114,
   "metadata": {
    "id": "c8TLgL5VusAD"
   },
   "outputs": [],
   "source": [
    "test = sample_df.merge(additionally_user, how=\"left\", on=\"user_id\")\\\n",
    "                .merge(anime_encode[categorical + numeric + [\"Id\"]], how=\"left\",\n",
    "                       on=\"Id\")"
   ]
  },
  {
   "cell_type": "code",
   "execution_count": 115,
   "metadata": {
    "colab": {
     "base_uri": "https://localhost:8080/",
     "height": 391
    },
    "id": "VZ72w8xiAcvS",
    "outputId": "edc2366d-a4da-4d69-8a16-05c7f25ffbcb"
   },
   "outputs": [
    {
     "data": {
      "text/html": [
       "<div>\n",
       "<style scoped>\n",
       "    .dataframe tbody tr th:only-of-type {\n",
       "        vertical-align: middle;\n",
       "    }\n",
       "\n",
       "    .dataframe tbody tr th {\n",
       "        vertical-align: top;\n",
       "    }\n",
       "\n",
       "    .dataframe thead th {\n",
       "        text-align: right;\n",
       "    }\n",
       "</style>\n",
       "<table border=\"1\" class=\"dataframe\">\n",
       "  <thead>\n",
       "    <tr style=\"text-align: right;\">\n",
       "      <th></th>\n",
       "      <th>user_id</th>\n",
       "      <th>rating_median</th>\n",
       "      <th>rating_mean</th>\n",
       "      <th>rating_var</th>\n",
       "      <th>num_watched</th>\n",
       "    </tr>\n",
       "  </thead>\n",
       "  <tbody>\n",
       "    <tr>\n",
       "      <th>0</th>\n",
       "      <td>0.0</td>\n",
       "      <td>8.0</td>\n",
       "      <td>8.000000</td>\n",
       "      <td>0.000000</td>\n",
       "      <td>2.0</td>\n",
       "    </tr>\n",
       "    <tr>\n",
       "      <th>1</th>\n",
       "      <td>1.0</td>\n",
       "      <td>7.0</td>\n",
       "      <td>5.369942</td>\n",
       "      <td>11.478626</td>\n",
       "      <td>173.0</td>\n",
       "    </tr>\n",
       "    <tr>\n",
       "      <th>2</th>\n",
       "      <td>2.0</td>\n",
       "      <td>0.0</td>\n",
       "      <td>0.000000</td>\n",
       "      <td>0.000000</td>\n",
       "      <td>54.0</td>\n",
       "    </tr>\n",
       "    <tr>\n",
       "      <th>3</th>\n",
       "      <td>3.0</td>\n",
       "      <td>4.0</td>\n",
       "      <td>3.787535</td>\n",
       "      <td>14.804162</td>\n",
       "      <td>353.0</td>\n",
       "    </tr>\n",
       "    <tr>\n",
       "      <th>4</th>\n",
       "      <td>4.0</td>\n",
       "      <td>0.0</td>\n",
       "      <td>2.731092</td>\n",
       "      <td>13.045720</td>\n",
       "      <td>119.0</td>\n",
       "    </tr>\n",
       "    <tr>\n",
       "      <th>...</th>\n",
       "      <td>...</td>\n",
       "      <td>...</td>\n",
       "      <td>...</td>\n",
       "      <td>...</td>\n",
       "      <td>...</td>\n",
       "    </tr>\n",
       "    <tr>\n",
       "      <th>98526</th>\n",
       "      <td>98594.0</td>\n",
       "      <td>9.0</td>\n",
       "      <td>9.076923</td>\n",
       "      <td>0.910256</td>\n",
       "      <td>13.0</td>\n",
       "    </tr>\n",
       "    <tr>\n",
       "      <th>98527</th>\n",
       "      <td>98595.0</td>\n",
       "      <td>7.0</td>\n",
       "      <td>5.228261</td>\n",
       "      <td>16.887503</td>\n",
       "      <td>184.0</td>\n",
       "    </tr>\n",
       "    <tr>\n",
       "      <th>98528</th>\n",
       "      <td>98596.0</td>\n",
       "      <td>9.0</td>\n",
       "      <td>8.294118</td>\n",
       "      <td>4.662465</td>\n",
       "      <td>85.0</td>\n",
       "    </tr>\n",
       "    <tr>\n",
       "      <th>98529</th>\n",
       "      <td>98597.0</td>\n",
       "      <td>8.0</td>\n",
       "      <td>5.960000</td>\n",
       "      <td>13.002044</td>\n",
       "      <td>275.0</td>\n",
       "    </tr>\n",
       "    <tr>\n",
       "      <th>98530</th>\n",
       "      <td>98598.0</td>\n",
       "      <td>8.0</td>\n",
       "      <td>8.294118</td>\n",
       "      <td>0.595588</td>\n",
       "      <td>17.0</td>\n",
       "    </tr>\n",
       "  </tbody>\n",
       "</table>\n",
       "<p>98531 rows × 5 columns</p>\n",
       "</div>"
      ],
      "text/plain": [
       "       user_id  rating_median  rating_mean  rating_var  num_watched\n",
       "0          0.0            8.0     8.000000    0.000000          2.0\n",
       "1          1.0            7.0     5.369942   11.478626        173.0\n",
       "2          2.0            0.0     0.000000    0.000000         54.0\n",
       "3          3.0            4.0     3.787535   14.804162        353.0\n",
       "4          4.0            0.0     2.731092   13.045720        119.0\n",
       "...        ...            ...          ...         ...          ...\n",
       "98526  98594.0            9.0     9.076923    0.910256         13.0\n",
       "98527  98595.0            7.0     5.228261   16.887503        184.0\n",
       "98528  98596.0            9.0     8.294118    4.662465         85.0\n",
       "98529  98597.0            8.0     5.960000   13.002044        275.0\n",
       "98530  98598.0            8.0     8.294118    0.595588         17.0\n",
       "\n",
       "[98531 rows x 5 columns]"
      ]
     },
     "execution_count": 115,
     "metadata": {},
     "output_type": "execute_result"
    }
   ],
   "source": [
    "additionally_user"
   ]
  },
  {
   "cell_type": "markdown",
   "metadata": {
    "id": "5g6CZBRFx6zg"
   },
   "source": [
    "# Отправка решения"
   ]
  },
  {
   "cell_type": "code",
   "execution_count": 119,
   "metadata": {
    "colab": {
     "base_uri": "https://localhost:8080/",
     "height": 133
    },
    "id": "86JBLMYvb76T",
    "outputId": "5501c43e-a359-4309-9d02-04021e2647c7"
   },
   "outputs": [
    {
     "data": {
      "text/html": [
       "<div>\n",
       "<style scoped>\n",
       "    .dataframe tbody tr th:only-of-type {\n",
       "        vertical-align: middle;\n",
       "    }\n",
       "\n",
       "    .dataframe tbody tr th {\n",
       "        vertical-align: top;\n",
       "    }\n",
       "\n",
       "    .dataframe thead th {\n",
       "        text-align: right;\n",
       "    }\n",
       "</style>\n",
       "<table border=\"1\" class=\"dataframe\">\n",
       "  <thead>\n",
       "    <tr style=\"text-align: right;\">\n",
       "      <th></th>\n",
       "      <th>Id</th>\n",
       "      <th>rating</th>\n",
       "    </tr>\n",
       "  </thead>\n",
       "  <tbody>\n",
       "    <tr>\n",
       "      <th>0</th>\n",
       "      <td>0 249</td>\n",
       "      <td>7.885230</td>\n",
       "    </tr>\n",
       "    <tr>\n",
       "      <th>1</th>\n",
       "      <td>0 4181</td>\n",
       "      <td>8.863600</td>\n",
       "    </tr>\n",
       "    <tr>\n",
       "      <th>2</th>\n",
       "      <td>0 813</td>\n",
       "      <td>8.430304</td>\n",
       "    </tr>\n",
       "  </tbody>\n",
       "</table>\n",
       "</div>"
      ],
      "text/plain": [
       "       Id    rating\n",
       "0   0 249  7.885230\n",
       "1  0 4181  8.863600\n",
       "2   0 813  8.430304"
      ]
     },
     "execution_count": 119,
     "metadata": {},
     "output_type": "execute_result"
    }
   ],
   "source": [
    "df_out = pd.DataFrame()\n",
    "df_out[\"Id\"] = test[\"user_id\"].astype(str) + \" \" + test[\"Id\"].astype(str)\n",
    "df_out[\"rating\"] = model.predict(test.drop([\"user_id\", \"Id\"], axis=1))\n",
    "# df_out.loc[df_out[\"rating\"] < 0, \"rating\"] = 7.5\n",
    "# df_out.loc[df_out[\"rating\"] > 10, \"rating\"] = 10\n",
    "df_out.head(3)"
   ]
  },
  {
   "cell_type": "code",
   "execution_count": 120,
   "metadata": {
    "colab": {
     "base_uri": "https://localhost:8080/",
     "height": 281
    },
    "id": "cJxBha-K_4jn",
    "outputId": "d5143072-d3a7-49a0-c262-1c191545aa70"
   },
   "outputs": [
    {
     "data": {
      "text/plain": [
       "<AxesSubplot:>"
      ]
     },
     "execution_count": 120,
     "metadata": {},
     "output_type": "execute_result"
    },
    {
     "data": {
      "image/png": "[encoded data removed]",
      "text/plain": [
       "<Figure size 432x288 with 1 Axes>"
      ]
     },
     "metadata": {
      "needs_background": "light"
     },
     "output_type": "display_data"
    }
   ],
   "source": [
    "df_out[\"rating\"].hist()"
   ]
  },
  {
   "cell_type": "code",
   "execution_count": 118,
   "metadata": {
    "id": "81yEdugnFo_J"
   },
   "outputs": [],
   "source": [
    "df_out.to_csv(\"sub38.csv\", index=False)"
   ]
  },
  {
   "cell_type": "code",
   "execution_count": null,
   "metadata": {},
   "outputs": [],
   "source": []
  }
 ],
 "metadata": {
  "accelerator": "GPU",
  "colab": {
   "collapsed_sections": [],
   "name": "baseline_catboost_1.41.ipynb",
   "provenance": []
  },
  "kernelspec": {
   "display_name": "Python 3",
   "language": "python",
   "name": "python3"
  },
  "language_info": {
   "codemirror_mode": {
    "name": "ipython",
    "version": 3
   },
   "file_extension": ".py",
   "mimetype": "text/x-python",
   "name": "python",
   "nbconvert_exporter": "python",
   "pygments_lexer": "ipython3",
   "version": "3.9.0"
  }
 },
 "nbformat": 4,
 "nbformat_minor": 1
}
