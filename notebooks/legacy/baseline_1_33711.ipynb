{
  "nbformat": 4,
  "nbformat_minor": 0,
  "metadata": {
    "colab": {
      "name": "baseline_1_33711.ipynb",
      "provenance": [],
      "collapsed_sections": []
    },
    "kernelspec": {
      "name": "python3",
      "display_name": "Python 3"
    },
    "language_info": {
      "name": "python"
    },
    "accelerator": "GPU"
  },
  "cells": [
    {
      "cell_type": "code",
      "metadata": {
        "colab": {
          "base_uri": "https://localhost:8080/"
        },
        "id": "8v9Q9xwVVILw",
        "outputId": "6951a905-81b7-4678-eb8e-645c6931e31b"
      },
      "source": [
        "from google.colab import drive\n",
        "drive.mount('/content/drive')\n",
        "import os\n",
        "try:\n",
        "    os.chdir(\"./drive/My Drive/RuCode/RuCode3/Рекомендации Аниме\")\n",
        "except Exception as e:\n",
        "    print(e)\n",
        "#  проверяем наличие файлов\n",
        "directory = os.listdir()\n",
        "directory"
      ],
      "execution_count": null,
      "outputs": [
        {
          "output_type": "stream",
          "text": [
            "Drive already mounted at /content/drive; to attempt to forcibly remount, call drive.mount(\"/content/drive\", force_remount=True).\n"
          ],
          "name": "stdout"
        },
        {
          "output_type": "execute_result",
          "data": {
            "text/plain": [
              "['anime.csv',\n",
              " 'sample_submission.csv',\n",
              " 'user_ratings.csv',\n",
              " 'baseline_catboost.ipynb',\n",
              " 'submissions',\n",
              " 'sub10.csv',\n",
              " 'Решения',\n",
              " 'collaborative-filtering-on-anime-data.ipynb',\n",
              " 'baseline_ranking_estim.ipynb',\n",
              " 'sub12.csv',\n",
              " 'sub13.csv',\n",
              " 'sub14.csv',\n",
              " 'baseline_1.51.ipynb',\n",
              " 'baseline_1.42081.ipynb',\n",
              " 'sub15.csv',\n",
              " 'sub16.csv']"
            ]
          },
          "metadata": {
            "tags": []
          },
          "execution_count": 2
        }
      ]
    },
    {
      "cell_type": "code",
      "metadata": {
        "id": "o56DJxv5QmOY"
      },
      "source": [
        "import pandas as pd\n",
        "import numpy as np\n",
        "\n",
        "anime = pd.read_csv(\"anime.csv\")\n",
        "ratings = pd.read_csv(\"user_ratings.csv\", dtype=np.int32)\n",
        "sample = pd.read_csv(\"sample_submission.csv\")"
      ],
      "execution_count": null,
      "outputs": []
    },
    {
      "cell_type": "code",
      "metadata": {
        "id": "kv9ZwB4gVHtv"
      },
      "source": [
        "sample_new = [[int(i) for i in id.split()] for id, rat in sample.values]\n",
        "sample_df = pd.DataFrame(sample_new, columns=[\"user_id\", \"Id\"])"
      ],
      "execution_count": null,
      "outputs": []
    },
    {
      "cell_type": "code",
      "metadata": {
        "id": "0_PE4NqqsVjv"
      },
      "source": [
        "from collections import Counter\n",
        "\n",
        "\n",
        "def check(x):\n",
        "    clear = [i for i in x if i]\n",
        "    if clear:\n",
        "        return np.median(clear)\n",
        "    return 0\n",
        "\n",
        "\n",
        "grouped_ratings = ratings.groupby(\"user_id\").agg(lambda x: check(x))\\\n",
        "                         .reset_index()[[\"user_id\", \"rating\"]]\\\n",
        "                         .rename({\"rating\": \"rating_mean\"}, axis=1)"
      ],
      "execution_count": null,
      "outputs": []
    },
    {
      "cell_type": "code",
      "metadata": {
        "colab": {
          "base_uri": "https://localhost:8080/",
          "height": 281
        },
        "id": "Z2JN2_Va1tvt",
        "outputId": "390f1342-ff9d-453e-9760-1f08a914a9c2"
      },
      "source": [
        "grouped_ratings[\"rating_mean\"].hist()"
      ],
      "execution_count": null,
      "outputs": [
        {
          "output_type": "execute_result",
          "data": {
            "text/plain": [
              "<matplotlib.axes._subplots.AxesSubplot at 0x7f19aa948450>"
            ]
          },
          "metadata": {
            "tags": []
          },
          "execution_count": 6
        },
        {
          "output_type": "display_data",
          "data": {
            "image/png": "[encoded data removed]",
            "text/plain": [
              "<Figure size 432x288 with 1 Axes>"
            ]
          },
          "metadata": {
            "tags": [],
            "needs_background": "light"
          }
        }
      ]
    },
    {
      "cell_type": "code",
      "metadata": {
        "id": "rgomeNJTVsxg"
      },
      "source": [
        "merged = sample_df.merge(grouped_ratings, how=\"left\", on=[\"user_id\"])\\\n",
        "                         .merge(anime[[\"Id\", \"Avg score\"]], how=\"left\", on=[\"Id\"])\\\n",
        "                         .replace(\"Unknown\", np.nan)"
      ],
      "execution_count": null,
      "outputs": []
    },
    {
      "cell_type": "code",
      "metadata": {
        "id": "TkA1oONEaD0Y"
      },
      "source": [
        "median_value = anime[\"Avg score\"].replace(\"Unknown\", np.nan).median() # merged[\"Avg score\"].median()\n",
        "merged[\"Avg score\"] = merged[\"Avg score\"].fillna(median_value).astype(np.float32)"
      ],
      "execution_count": null,
      "outputs": []
    },
    {
      "cell_type": "code",
      "metadata": {
        "id": "G-S5KU7bWADJ"
      },
      "source": [
        "merged[\"rating\"] = (merged[\"rating_mean\"] + merged[\"Avg score\"]) / 2"
      ],
      "execution_count": null,
      "outputs": []
    },
    {
      "cell_type": "code",
      "metadata": {
        "id": "d4l1nCnwY9tj",
        "colab": {
          "base_uri": "https://localhost:8080/",
          "height": 191
        },
        "outputId": "6837dabd-a78f-4a9e-842d-0250b63e0e2f"
      },
      "source": [
        "merged.head()"
      ],
      "execution_count": null,
      "outputs": [
        {
          "output_type": "execute_result",
          "data": {
            "text/html": [
              "<div>\n",
              "<style scoped>\n",
              "    .dataframe tbody tr th:only-of-type {\n",
              "        vertical-align: middle;\n",
              "    }\n",
              "\n",
              "    .dataframe tbody tr th {\n",
              "        vertical-align: top;\n",
              "    }\n",
              "\n",
              "    .dataframe thead th {\n",
              "        text-align: right;\n",
              "    }\n",
              "</style>\n",
              "<table border=\"1\" class=\"dataframe\">\n",
              "  <thead>\n",
              "    <tr style=\"text-align: right;\">\n",
              "      <th></th>\n",
              "      <th>user_id</th>\n",
              "      <th>Id</th>\n",
              "      <th>rating_mean</th>\n",
              "      <th>Avg score</th>\n",
              "      <th>rating</th>\n",
              "    </tr>\n",
              "  </thead>\n",
              "  <tbody>\n",
              "    <tr>\n",
              "      <th>0</th>\n",
              "      <td>0</td>\n",
              "      <td>249</td>\n",
              "      <td>8.5</td>\n",
              "      <td>7.85</td>\n",
              "      <td>8.175</td>\n",
              "    </tr>\n",
              "    <tr>\n",
              "      <th>1</th>\n",
              "      <td>0</td>\n",
              "      <td>4181</td>\n",
              "      <td>8.5</td>\n",
              "      <td>8.96</td>\n",
              "      <td>8.730</td>\n",
              "    </tr>\n",
              "    <tr>\n",
              "      <th>2</th>\n",
              "      <td>0</td>\n",
              "      <td>813</td>\n",
              "      <td>8.5</td>\n",
              "      <td>8.16</td>\n",
              "      <td>8.330</td>\n",
              "    </tr>\n",
              "    <tr>\n",
              "      <th>3</th>\n",
              "      <td>0</td>\n",
              "      <td>2167</td>\n",
              "      <td>8.5</td>\n",
              "      <td>8.07</td>\n",
              "      <td>8.285</td>\n",
              "    </tr>\n",
              "    <tr>\n",
              "      <th>4</th>\n",
              "      <td>1</td>\n",
              "      <td>1838</td>\n",
              "      <td>7.0</td>\n",
              "      <td>5.98</td>\n",
              "      <td>6.490</td>\n",
              "    </tr>\n",
              "  </tbody>\n",
              "</table>\n",
              "</div>"
            ],
            "text/plain": [
              "   user_id    Id  rating_mean  Avg score  rating\n",
              "0        0   249          8.5       7.85   8.175\n",
              "1        0  4181          8.5       8.96   8.730\n",
              "2        0   813          8.5       8.16   8.330\n",
              "3        0  2167          8.5       8.07   8.285\n",
              "4        1  1838          7.0       5.98   6.490"
            ]
          },
          "metadata": {
            "tags": []
          },
          "execution_count": 10
        }
      ]
    },
    {
      "cell_type": "code",
      "metadata": {
        "id": "cSy0s1HpraCJ",
        "colab": {
          "base_uri": "https://localhost:8080/",
          "height": 391
        },
        "outputId": "5effcfa9-7751-4afc-e704-5a4104d15ec3"
      },
      "source": [
        "merged.loc[merged[\"rating_mean\"] < 2]"
      ],
      "execution_count": null,
      "outputs": [
        {
          "output_type": "execute_result",
          "data": {
            "text/html": [
              "<div>\n",
              "<style scoped>\n",
              "    .dataframe tbody tr th:only-of-type {\n",
              "        vertical-align: middle;\n",
              "    }\n",
              "\n",
              "    .dataframe tbody tr th {\n",
              "        vertical-align: top;\n",
              "    }\n",
              "\n",
              "    .dataframe thead th {\n",
              "        text-align: right;\n",
              "    }\n",
              "</style>\n",
              "<table border=\"1\" class=\"dataframe\">\n",
              "  <thead>\n",
              "    <tr style=\"text-align: right;\">\n",
              "      <th></th>\n",
              "      <th>user_id</th>\n",
              "      <th>Id</th>\n",
              "      <th>rating_mean</th>\n",
              "      <th>Avg score</th>\n",
              "      <th>rating</th>\n",
              "    </tr>\n",
              "  </thead>\n",
              "  <tbody>\n",
              "    <tr>\n",
              "      <th>14</th>\n",
              "      <td>2</td>\n",
              "      <td>6702</td>\n",
              "      <td>0.0</td>\n",
              "      <td>7.68</td>\n",
              "      <td>3.840</td>\n",
              "    </tr>\n",
              "    <tr>\n",
              "      <th>15</th>\n",
              "      <td>2</td>\n",
              "      <td>20</td>\n",
              "      <td>0.0</td>\n",
              "      <td>7.91</td>\n",
              "      <td>3.955</td>\n",
              "    </tr>\n",
              "    <tr>\n",
              "      <th>16</th>\n",
              "      <td>2</td>\n",
              "      <td>1482</td>\n",
              "      <td>0.0</td>\n",
              "      <td>8.05</td>\n",
              "      <td>4.025</td>\n",
              "    </tr>\n",
              "    <tr>\n",
              "      <th>356</th>\n",
              "      <td>38</td>\n",
              "      <td>4224</td>\n",
              "      <td>0.0</td>\n",
              "      <td>8.24</td>\n",
              "      <td>4.120</td>\n",
              "    </tr>\n",
              "    <tr>\n",
              "      <th>357</th>\n",
              "      <td>38</td>\n",
              "      <td>223</td>\n",
              "      <td>0.0</td>\n",
              "      <td>8.00</td>\n",
              "      <td>4.000</td>\n",
              "    </tr>\n",
              "    <tr>\n",
              "      <th>...</th>\n",
              "      <td>...</td>\n",
              "      <td>...</td>\n",
              "      <td>...</td>\n",
              "      <td>...</td>\n",
              "      <td>...</td>\n",
              "    </tr>\n",
              "    <tr>\n",
              "      <th>876281</th>\n",
              "      <td>98569</td>\n",
              "      <td>431</td>\n",
              "      <td>0.0</td>\n",
              "      <td>8.67</td>\n",
              "      <td>4.335</td>\n",
              "    </tr>\n",
              "    <tr>\n",
              "      <th>876352</th>\n",
              "      <td>98578</td>\n",
              "      <td>36904</td>\n",
              "      <td>0.0</td>\n",
              "      <td>7.70</td>\n",
              "      <td>3.850</td>\n",
              "    </tr>\n",
              "    <tr>\n",
              "      <th>876353</th>\n",
              "      <td>98578</td>\n",
              "      <td>33206</td>\n",
              "      <td>0.0</td>\n",
              "      <td>8.03</td>\n",
              "      <td>4.015</td>\n",
              "    </tr>\n",
              "    <tr>\n",
              "      <th>876354</th>\n",
              "      <td>98578</td>\n",
              "      <td>34599</td>\n",
              "      <td>0.0</td>\n",
              "      <td>8.74</td>\n",
              "      <td>4.370</td>\n",
              "    </tr>\n",
              "    <tr>\n",
              "      <th>876468</th>\n",
              "      <td>98592</td>\n",
              "      <td>1818</td>\n",
              "      <td>0.0</td>\n",
              "      <td>7.78</td>\n",
              "      <td>3.890</td>\n",
              "    </tr>\n",
              "  </tbody>\n",
              "</table>\n",
              "<p>6261 rows × 5 columns</p>\n",
              "</div>"
            ],
            "text/plain": [
              "        user_id     Id  rating_mean  Avg score  rating\n",
              "14            2   6702          0.0       7.68   3.840\n",
              "15            2     20          0.0       7.91   3.955\n",
              "16            2   1482          0.0       8.05   4.025\n",
              "356          38   4224          0.0       8.24   4.120\n",
              "357          38    223          0.0       8.00   4.000\n",
              "...         ...    ...          ...        ...     ...\n",
              "876281    98569    431          0.0       8.67   4.335\n",
              "876352    98578  36904          0.0       7.70   3.850\n",
              "876353    98578  33206          0.0       8.03   4.015\n",
              "876354    98578  34599          0.0       8.74   4.370\n",
              "876468    98592   1818          0.0       7.78   3.890\n",
              "\n",
              "[6261 rows x 5 columns]"
            ]
          },
          "metadata": {
            "tags": []
          },
          "execution_count": 11
        }
      ]
    },
    {
      "cell_type": "code",
      "metadata": {
        "id": "M2dKzc2Cop6O",
        "colab": {
          "base_uri": "https://localhost:8080/"
        },
        "outputId": "d9ecb41f-6441-4e19-b314-7e6cbe9c6d95"
      },
      "source": [
        "arr = []\n",
        "n = 0\n",
        "for element in merged.values:\n",
        "    rat = element[2]\n",
        "    avg = element[3]\n",
        "    if not rat:\n",
        "        element[4] = avg\n",
        "        n += 1\n",
        "    arr.append(element)\n",
        "merged_checked = pd.DataFrame(arr, columns=['user_id', 'Id', 'rating_mean',\n",
        "                                            'Avg score', 'rating'])\n",
        "merged_checked[\"user_id\"] = merged_checked[\"user_id\"].astype(np.int32)\n",
        "merged_checked[\"Id\"] = merged_checked[\"Id\"].astype(np.int32)\n",
        "print(n)"
      ],
      "execution_count": null,
      "outputs": [
        {
          "output_type": "stream",
          "text": [
            "5832\n"
          ],
          "name": "stdout"
        }
      ]
    },
    {
      "cell_type": "code",
      "metadata": {
        "id": "3EHwNeLDqxJC",
        "colab": {
          "base_uri": "https://localhost:8080/",
          "height": 191
        },
        "outputId": "c02ad7c9-d617-4044-f1d4-a01e9f322793"
      },
      "source": [
        "merged_checked.head()"
      ],
      "execution_count": null,
      "outputs": [
        {
          "output_type": "execute_result",
          "data": {
            "text/html": [
              "<div>\n",
              "<style scoped>\n",
              "    .dataframe tbody tr th:only-of-type {\n",
              "        vertical-align: middle;\n",
              "    }\n",
              "\n",
              "    .dataframe tbody tr th {\n",
              "        vertical-align: top;\n",
              "    }\n",
              "\n",
              "    .dataframe thead th {\n",
              "        text-align: right;\n",
              "    }\n",
              "</style>\n",
              "<table border=\"1\" class=\"dataframe\">\n",
              "  <thead>\n",
              "    <tr style=\"text-align: right;\">\n",
              "      <th></th>\n",
              "      <th>user_id</th>\n",
              "      <th>Id</th>\n",
              "      <th>rating_mean</th>\n",
              "      <th>Avg score</th>\n",
              "      <th>rating</th>\n",
              "    </tr>\n",
              "  </thead>\n",
              "  <tbody>\n",
              "    <tr>\n",
              "      <th>0</th>\n",
              "      <td>0</td>\n",
              "      <td>249</td>\n",
              "      <td>8.5</td>\n",
              "      <td>7.85</td>\n",
              "      <td>8.175</td>\n",
              "    </tr>\n",
              "    <tr>\n",
              "      <th>1</th>\n",
              "      <td>0</td>\n",
              "      <td>4181</td>\n",
              "      <td>8.5</td>\n",
              "      <td>8.96</td>\n",
              "      <td>8.730</td>\n",
              "    </tr>\n",
              "    <tr>\n",
              "      <th>2</th>\n",
              "      <td>0</td>\n",
              "      <td>813</td>\n",
              "      <td>8.5</td>\n",
              "      <td>8.16</td>\n",
              "      <td>8.330</td>\n",
              "    </tr>\n",
              "    <tr>\n",
              "      <th>3</th>\n",
              "      <td>0</td>\n",
              "      <td>2167</td>\n",
              "      <td>8.5</td>\n",
              "      <td>8.07</td>\n",
              "      <td>8.285</td>\n",
              "    </tr>\n",
              "    <tr>\n",
              "      <th>4</th>\n",
              "      <td>1</td>\n",
              "      <td>1838</td>\n",
              "      <td>7.0</td>\n",
              "      <td>5.98</td>\n",
              "      <td>6.490</td>\n",
              "    </tr>\n",
              "  </tbody>\n",
              "</table>\n",
              "</div>"
            ],
            "text/plain": [
              "   user_id    Id  rating_mean  Avg score  rating\n",
              "0        0   249          8.5       7.85   8.175\n",
              "1        0  4181          8.5       8.96   8.730\n",
              "2        0   813          8.5       8.16   8.330\n",
              "3        0  2167          8.5       8.07   8.285\n",
              "4        1  1838          7.0       5.98   6.490"
            ]
          },
          "metadata": {
            "tags": []
          },
          "execution_count": 13
        }
      ]
    },
    {
      "cell_type": "code",
      "metadata": {
        "id": "d3YH5DiZsVCk",
        "colab": {
          "base_uri": "https://localhost:8080/"
        },
        "outputId": "0a988e63-3f9b-4b93-c04c-ebc19a80caf9"
      },
      "source": [
        "merged_checked[\"rating\"].mean()"
      ],
      "execution_count": null,
      "outputs": [
        {
          "output_type": "execute_result",
          "data": {
            "text/plain": [
              "7.853866671620544"
            ]
          },
          "metadata": {
            "tags": []
          },
          "execution_count": 14
        }
      ]
    },
    {
      "cell_type": "code",
      "metadata": {
        "id": "BvQLr310sZDj",
        "colab": {
          "base_uri": "https://localhost:8080/"
        },
        "outputId": "d70ce79d-346d-41cd-e60f-b76cbfb08718"
      },
      "source": [
        "merged[\"rating\"].mean()"
      ],
      "execution_count": null,
      "outputs": [
        {
          "output_type": "execute_result",
          "data": {
            "text/plain": [
              "7.827405299646304"
            ]
          },
          "metadata": {
            "tags": []
          },
          "execution_count": 15
        }
      ]
    },
    {
      "cell_type": "code",
      "metadata": {
        "id": "86JBLMYvb76T"
      },
      "source": [
        "df_out = pd.DataFrame()\n",
        "df_out[\"Id\"] = merged_checked[\"user_id\"].astype(str) + \" \" + merged_checked[\"Id\"].astype(str)\n",
        "df_out[\"rating\"] = merged_checked[\"rating\"]"
      ],
      "execution_count": null,
      "outputs": []
    },
    {
      "cell_type": "code",
      "metadata": {
        "id": "Xjw7Tuk6chT0",
        "colab": {
          "base_uri": "https://localhost:8080/",
          "height": 133
        },
        "outputId": "6ef1a34f-0461-4d41-9d35-046d128ea704"
      },
      "source": [
        "df_out.head(3)"
      ],
      "execution_count": null,
      "outputs": [
        {
          "output_type": "execute_result",
          "data": {
            "text/html": [
              "<div>\n",
              "<style scoped>\n",
              "    .dataframe tbody tr th:only-of-type {\n",
              "        vertical-align: middle;\n",
              "    }\n",
              "\n",
              "    .dataframe tbody tr th {\n",
              "        vertical-align: top;\n",
              "    }\n",
              "\n",
              "    .dataframe thead th {\n",
              "        text-align: right;\n",
              "    }\n",
              "</style>\n",
              "<table border=\"1\" class=\"dataframe\">\n",
              "  <thead>\n",
              "    <tr style=\"text-align: right;\">\n",
              "      <th></th>\n",
              "      <th>Id</th>\n",
              "      <th>rating</th>\n",
              "    </tr>\n",
              "  </thead>\n",
              "  <tbody>\n",
              "    <tr>\n",
              "      <th>0</th>\n",
              "      <td>0 249</td>\n",
              "      <td>8.175</td>\n",
              "    </tr>\n",
              "    <tr>\n",
              "      <th>1</th>\n",
              "      <td>0 4181</td>\n",
              "      <td>8.730</td>\n",
              "    </tr>\n",
              "    <tr>\n",
              "      <th>2</th>\n",
              "      <td>0 813</td>\n",
              "      <td>8.330</td>\n",
              "    </tr>\n",
              "  </tbody>\n",
              "</table>\n",
              "</div>"
            ],
            "text/plain": [
              "       Id  rating\n",
              "0   0 249   8.175\n",
              "1  0 4181   8.730\n",
              "2   0 813   8.330"
            ]
          },
          "metadata": {
            "tags": []
          },
          "execution_count": 17
        }
      ]
    },
    {
      "cell_type": "code",
      "metadata": {
        "id": "TgYO_Qpib4RR"
      },
      "source": [
        "df_out.to_csv(\"sub16.csv\", index=False)"
      ],
      "execution_count": null,
      "outputs": []
    },
    {
      "cell_type": "code",
      "metadata": {
        "colab": {
          "base_uri": "https://localhost:8080/"
        },
        "id": "nkZ94CrUcTQe",
        "outputId": "a47f4c1b-947a-4ce2-8a6a-973b4c086c7e"
      },
      "source": [
        "df_out[\"rating\"].mean()"
      ],
      "execution_count": null,
      "outputs": [
        {
          "output_type": "execute_result",
          "data": {
            "text/plain": [
              "7.853866671620544"
            ]
          },
          "metadata": {
            "tags": []
          },
          "execution_count": 19
        }
      ]
    },
    {
      "cell_type": "code",
      "metadata": {
        "colab": {
          "base_uri": "https://localhost:8080/"
        },
        "id": "aDeLpo9RvSu3",
        "outputId": "31e0d120-ddcc-41b1-ce27-e43b63eeab1f"
      },
      "source": [
        "df_out[\"rating\"].isna().sum()"
      ],
      "execution_count": null,
      "outputs": [
        {
          "output_type": "execute_result",
          "data": {
            "text/plain": [
              "0"
            ]
          },
          "metadata": {
            "tags": []
          },
          "execution_count": 20
        }
      ]
    },
    {
      "cell_type": "code",
      "metadata": {
        "colab": {
          "base_uri": "https://localhost:8080/",
          "height": 281
        },
        "id": "ar2d81pBvUyX",
        "outputId": "3e48979e-54b7-4bb8-b989-ada80ebff8c0"
      },
      "source": [
        "df_out[\"rating\"].hist()"
      ],
      "execution_count": null,
      "outputs": [
        {
          "output_type": "execute_result",
          "data": {
            "text/plain": [
              "<matplotlib.axes._subplots.AxesSubplot at 0x7f199f0b46d0>"
            ]
          },
          "metadata": {
            "tags": []
          },
          "execution_count": 21
        },
        {
          "output_type": "display_data",
          "data": {
            "image/png": "[encoded data removed]",
            "text/plain": [
              "<Figure size 432x288 with 1 Axes>"
            ]
          },
          "metadata": {
            "tags": [],
            "needs_background": "light"
          }
        }
      ]
    },
    {
      "cell_type": "code",
      "metadata": {
        "id": "icg3FGBVv_d_"
      },
      "source": [
        ""
      ],
      "execution_count": null,
      "outputs": []
    }
  ]
}