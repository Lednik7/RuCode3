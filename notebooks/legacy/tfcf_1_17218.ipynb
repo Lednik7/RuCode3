{
  "nbformat": 4,
  "nbformat_minor": 0,
  "metadata": {
    "accelerator": "GPU",
    "colab": {
      "name": "tfcf_1.17218.ipynb",
      "provenance": [],
      "collapsed_sections": []
    },
    "kernelspec": {
      "display_name": "Python 3",
      "name": "python3"
    },
    "language_info": {
      "name": "python"
    }
  },
  "cells": [
    {
      "cell_type": "code",
      "metadata": {
        "colab": {
          "base_uri": "https://localhost:8080/"
        },
        "id": "LLikH1DH2H0j",
        "outputId": "20edcbac-a658-4210-8cbc-67e88d4f595f"
      },
      "source": [
        "from google.colab import drive\n",
        "drive.mount('/content/drive')\n",
        "import os\n",
        "try:\n",
        "    os.chdir(\"./drive/My Drive/RuCode3/\")\n",
        "except Exception as e:\n",
        "    print(e)"
      ],
      "execution_count": null,
      "outputs": [
        {
          "output_type": "stream",
          "text": [
            "Drive already mounted at /content/drive; to attempt to forcibly remount, call drive.mount(\"/content/drive\", force_remount=True).\n"
          ],
          "name": "stdout"
        }
      ]
    },
    {
      "cell_type": "code",
      "metadata": {
        "id": "ylzuiN0Y3iaB"
      },
      "source": [
        "# import tensorflow as tf\n",
        "\n",
        "# if tf.__version__ != \"1.15.0\":\n",
        "#     !pip install tensorflow==1.15"
      ],
      "execution_count": null,
      "outputs": []
    },
    {
      "cell_type": "code",
      "metadata": {
        "id": "j4A9JIIK2sDT",
        "colab": {
          "base_uri": "https://localhost:8080/"
        },
        "outputId": "fc15f416-c753-418b-da12-a3b94930732c"
      },
      "source": [
        "%tensorflow_version 1.x\n",
        "import numpy as np\n",
        "import tensorflow as tf\n",
        "from tf_recsys.tfcf.metrics import mae, rmse\n",
        "from tf_recsys.tfcf.config import Config\n",
        "from tf_recsys.tfcf.models.svd import SVD\n",
        "from tf_recsys.tfcf.models.svdpp import SVDPP\n",
        "from sklearn.model_selection import train_test_split\n",
        "import pandas as pd\n",
        "import random\n",
        "\n",
        "np.random.seed(42)\n",
        "random.seed(42)\n",
        "tf.set_random_seed(42)\n",
        " \n",
        "ratings = pd.read_csv(\"user_ratings.csv\", dtype=np.int32)\n",
        "ratings = ratings.loc[ratings[\"rating\"] != 0]\n",
        "x = ratings[[\"user_id\", \"anime_id\"]].values\n",
        "y = ratings[\"rating\"].values\n",
        " \n",
        "x_train, x_test, y_train, y_test = train_test_split(\n",
        "    x, y, test_size=0.1, random_state=0)\n",
        " \n",
        "config = Config()\n",
        "config.num_users = np.max(x[:, 0]) + 1\n",
        "config.num_items = np.max(x[:, 1]) + 1\n",
        "config.min_value = np.min(y)\n",
        "config.max_value = np.max(y)\n",
        "\n",
        "epochs = 4\n",
        "batch_size = 2048\n",
        " \n",
        "with tf.Session() as sess:\n",
        "    tf.set_random_seed(42)\n",
        "    model = SVDPP(config, sess, dual=True)\n",
        "\n",
        "    print(\"Start train\")\n",
        "    model.train(x_train,\n",
        "                y_train,\n",
        "                validation_data=(x_test, y_test),\n",
        "                epochs=epochs,\n",
        "                batch_size=batch_size)\n",
        " \n",
        "    y_pred = model.predict(x_test)\n",
        "    print('rmse: {}, mae: {}'.format(rmse(y_test, y_pred), mae(y_test, y_pred)))\n",
        " \n",
        "    model.save_model(f'model_{epochs}it_{batch_size}/')\n",
        " \n",
        "    sample = pd.read_csv(\"sample_submission.csv\")\n",
        "    sample_new = np.array([[int(i) for i in id.split()] for id, rat in sample.values])\n",
        "    test_preds = model.predict(sample_new)\n",
        "    sample[\"rating\"] = pd.Series([float(x) for x in test_preds])\n",
        "    sample.to_csv(f\"tfcf_sub_model_{epochs}it_{batch_size}.csv\", index=None)"
      ],
      "execution_count": null,
      "outputs": [
        {
          "output_type": "stream",
          "text": [
            "TensorFlow 1.x selected.\n",
            "Start train\n",
            "WARNING:tensorflow:From /content/drive/My Drive/RuCode3/tf_recsys/tfcf/models/svd.py:37: The name tf.variable_scope is deprecated. Please use tf.compat.v1.variable_scope instead.\n",
            "\n",
            "WARNING:tensorflow:From /content/drive/My Drive/RuCode3/tf_recsys/tfcf/models/svd.py:27: The name tf.placeholder is deprecated. Please use tf.compat.v1.placeholder instead.\n",
            "\n",
            "WARNING:tensorflow:From /content/drive/My Drive/RuCode3/tf_recsys/tfcf/models/svd.py:49: The name tf.get_variable is deprecated. Please use tf.compat.v1.get_variable instead.\n",
            "\n",
            "WARNING:tensorflow:\n",
            "The TensorFlow contrib module will not be included in TensorFlow 2.0.\n",
            "For more information, please see:\n",
            "  * https://github.com/tensorflow/community/blob/master/rfcs/20180907-contrib-sunset.md\n",
            "  * https://github.com/tensorflow/addons\n",
            "  * https://github.com/tensorflow/io (for I/O related ops)\n",
            "If you depend on functionality not listed there, please file an issue.\n",
            "\n",
            "WARNING:tensorflow:From /content/drive/My Drive/RuCode3/tf_recsys/tfcf/models/svd.py:142: The name tf.get_collection is deprecated. Please use tf.compat.v1.get_collection instead.\n",
            "\n",
            "WARNING:tensorflow:From /content/drive/My Drive/RuCode3/tf_recsys/tfcf/models/svd.py:143: The name tf.GraphKeys is deprecated. Please use tf.compat.v1.GraphKeys instead.\n",
            "\n",
            "WARNING:tensorflow:From /tensorflow-1.15.2/python3.7/tensorflow_core/python/ops/resource_variable_ops.py:1630: calling BaseResourceVariable.__init__ (from tensorflow.python.ops.resource_variable_ops) with constraint is deprecated and will be removed in a future version.\n",
            "Instructions for updating:\n",
            "If using Keras pass *_constraint arguments to layers.\n",
            "WARNING:tensorflow:From /content/drive/My Drive/RuCode3/tf_recsys/tfcf/models/svd.py:150: The name tf.train.AdamOptimizer is deprecated. Please use tf.compat.v1.train.AdamOptimizer instead.\n",
            "\n"
          ],
          "name": "stdout"
        },
        {
          "output_type": "stream",
          "text": [
            "/tensorflow-1.15.2/python3.7/tensorflow_core/python/framework/indexed_slices.py:424: UserWarning: Converting sparse IndexedSlices to a dense Tensor of unknown shape. This may consume a large amount of memory.\n",
            "  \"Converting sparse IndexedSlices to a dense Tensor of unknown shape. \"\n",
            "/tensorflow-1.15.2/python3.7/tensorflow_core/python/framework/indexed_slices.py:424: UserWarning: Converting sparse IndexedSlices to a dense Tensor of unknown shape. This may consume a large amount of memory.\n",
            "  \"Converting sparse IndexedSlices to a dense Tensor of unknown shape. \"\n"
          ],
          "name": "stderr"
        },
        {
          "output_type": "stream",
          "text": [
            "WARNING:tensorflow:From /content/drive/My Drive/RuCode3/tf_recsys/tfcf/models/svd.py:174: The name tf.global_variables_initializer is deprecated. Please use tf.compat.v1.global_variables_initializer instead.\n",
            "\n",
            "Epoch 1/4\n",
            "4793/4793 [==============================] - 6850s 1s/step - rmse: 1.2378 - mae: 0.9260 - val_rmse: 1.1994 - val_mae: 0.8954\n",
            "Epoch 2/4\n",
            "4793/4793 [==============================] - 6756s 1s/step - rmse: 1.1511 - mae: 0.8554 - val_rmse: 1.1768 - val_mae: 0.8757\n",
            "4793/4793 [==============================] - 6756s 1s/step - rmse: 1.1511 - mae: 0.8554 - val_rmse: 1.1768 - val_mae: 0.8757\n",
            "Epoch 3/4\n",
            "Epoch 3/4\n",
            "4793/4793 [==============================] - 6795s 1s/step - rmse: 1.1202 - mae: 0.8315 - val_rmse: 1.1725 - val_mae: 0.8734\n",
            "4793/4793 [==============================] - 6795s 1s/step - rmse: 1.1202 - mae: 0.8315 - val_rmse: 1.1725 - val_mae: 0.8734\n",
            "Epoch 4/4\n",
            "Epoch 4/4\n",
            "4793/4793 [==============================] - 6766s 1s/step - rmse: 1.1055 - mae: 0.8206 - val_rmse: 1.1716 - val_mae: 0.8716\n",
            "4793/4793 [==============================] - 6766s 1s/step - rmse: 1.1055 - mae: 0.8206 - val_rmse: 1.1716 - val_mae: 0.8716\n",
            "rmse: 1.1716089582704807, mae: 0.8715814342568143\n",
            "WARNING:tensorflow:From /content/drive/My Drive/RuCode3/tf_recsys/tfcf/models/model_base.py:34: The name tf.train.Saver is deprecated. Please use tf.compat.v1.train.Saver instead.\n",
            "\n",
            "rmse: 1.1716089582704807, mae: 0.8715814342568143\n",
            "WARNING:tensorflow:From /content/drive/My Drive/RuCode3/tf_recsys/tfcf/models/model_base.py:34: The name tf.train.Saver is deprecated. Please use tf.compat.v1.train.Saver instead.\n",
            "\n"
          ],
          "name": "stdout"
        }
      ]
    }
  ]
}